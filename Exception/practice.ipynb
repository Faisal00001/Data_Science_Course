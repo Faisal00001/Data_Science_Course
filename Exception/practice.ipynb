{
 "cells": [
  {
   "cell_type": "code",
   "execution_count": 1,
   "id": "a44af4ed",
   "metadata": {},
   "outputs": [
    {
     "name": "stdout",
     "output_type": "stream",
     "text": [
      "Hello\n"
     ]
    }
   ],
   "source": [
    "print('Hello')"
   ]
  },
  {
   "cell_type": "code",
   "execution_count": 5,
   "id": "cf0e2a4c",
   "metadata": {},
   "outputs": [
    {
     "name": "stdout",
     "output_type": "stream",
     "text": [
      "division by zero\n",
      "Execution complete\n"
     ]
    }
   ],
   "source": [
    "def division_cal(num1,num2):\n",
    "    try:\n",
    "        result = num1/num2\n",
    "        print(result)\n",
    "    except ZeroDivisionError as ex1:\n",
    "        print(ex1)\n",
    "    finally:\n",
    "        print('Execution complete')\n",
    "division_cal(10,0)"
   ]
  },
  {
   "cell_type": "code",
   "execution_count": 10,
   "id": "2a876bf9",
   "metadata": {},
   "outputs": [
    {
     "name": "stdout",
     "output_type": "stream",
     "text": [
      "File not found\n"
     ]
    }
   ],
   "source": [
    "# Write a function that reads the contents of a file named `data.txt`. \n",
    "# Use try, except, and finally blocks to handle file not found errors\n",
    "#  and ensure the file is properly closed.\n",
    "\n",
    "try:\n",
    "    file = open('data.txt','r')\n",
    "    content = file.read()\n",
    "    print(content)\n",
    "except FileNotFoundError:\n",
    "    print('File not found')\n",
    "finally:\n",
    "    if 'file' in locals() and not file.closed:\n",
    "        file.close()\n",
    "        print('file close')"
   ]
  },
  {
   "cell_type": "code",
   "execution_count": 11,
   "id": "20d041b6",
   "metadata": {},
   "outputs": [
    {
     "name": "stdout",
     "output_type": "stream",
     "text": [
      "The file does not exists\n"
     ]
    }
   ],
   "source": [
    "try:\n",
    "    file = open('example11.txt','r')\n",
    "    content = file.read()\n",
    "except FileNotFoundError:\n",
    "    print('The file does not exists')\n",
    "finally:\n",
    "    if 'file' in locals() and not file.closed:\n",
    "        file.close()\n",
    "        print('file close')"
   ]
  },
  {
   "cell_type": "code",
   "execution_count": 13,
   "id": "5fcc92bf",
   "metadata": {},
   "outputs": [
    {
     "name": "stdout",
     "output_type": "stream",
     "text": [
      "Invalid type\n",
      "Execution complete\n"
     ]
    }
   ],
   "source": [
    "def summation(lst):\n",
    "    try:\n",
    "        total = sum(lst)\n",
    "        print(total)\n",
    "    except TypeError:\n",
    "        print('Invalid type')\n",
    "    finally:\n",
    "        print('Execution complete')\n",
    "\n",
    "\n",
    "\n",
    "summation([1,2,4,'5'])"
   ]
  },
  {
   "cell_type": "code",
   "execution_count": 15,
   "id": "d5616a7f",
   "metadata": {},
   "outputs": [
    {
     "name": "stdout",
     "output_type": "stream",
     "text": [
      "Error: That was not a valid integer.\n",
      "Input attempt complete.\n"
     ]
    }
   ],
   "source": [
    "def get_integer_input():\n",
    "    try:\n",
    "        user_input = input(\"Enter an integer: \")\n",
    "        number = int(user_input)\n",
    "        print(f\"You entered: {number}\")\n",
    "    except ValueError:\n",
    "        print(\"Error: That was not a valid integer.\")\n",
    "    finally:\n",
    "        print(\"Input attempt complete.\")\n",
    "\n",
    "# Call the function\n",
    "get_integer_input()"
   ]
  },
  {
   "cell_type": "code",
   "execution_count": 6,
   "id": "5154d79b",
   "metadata": {},
   "outputs": [
    {
     "name": "stdout",
     "output_type": "stream",
     "text": [
      "Execution completed.\n",
      "The value for 'age' is: 25\n",
      "KeyError: The key 'address' was not found in the dictionary.\n",
      "Execution completed.\n"
     ]
    }
   ],
   "source": [
    "def get_value_from_dict(dictionary, key):\n",
    "    try:\n",
    "        # Try to get the value associated with the key\n",
    "        value = dictionary[key]\n",
    "        return value\n",
    "    except Exception:\n",
    "        # Handle the case where the key is not found\n",
    "        print(f\"KeyError: The key '{key}' was not found in the dictionary.\")\n",
    "    finally:\n",
    "        # This block will run regardless of whether an exception was raised or not\n",
    "        print(\"Execution completed.\")\n",
    "\n",
    "# Example usage:\n",
    "my_dict = {'name': 'Alice', 'age': 25, 'city': 'New York'}\n",
    "key_to_search = 'age'\n",
    "\n",
    "result = get_value_from_dict(my_dict, key_to_search)\n",
    "if result:\n",
    "    print(f\"The value for '{key_to_search}' is: {result}\")\n",
    "\n",
    "key_to_search_not_found = 'address'\n",
    "get_value_from_dict(my_dict, key_to_search_not_found)\n"
   ]
  },
  {
   "cell_type": "code",
   "execution_count": 7,
   "id": "833ac0c1",
   "metadata": {},
   "outputs": [
    {
     "name": "stdout",
     "output_type": "stream",
     "text": [
      "Test with valid input:\n",
      "Successfully converted to integer: 10\n",
      "Result of division: 10.0\n",
      "Execution completed.\n",
      "\n",
      "Test with invalid input:\n",
      "ValueError: 'abc' is not a valid integer.\n",
      "Execution completed.\n",
      "\n",
      "Test with zero input:\n",
      "Successfully converted to integer: 0\n",
      "ZeroDivisionError: Cannot divide by zero.\n",
      "Execution completed.\n"
     ]
    }
   ],
   "source": [
    "def nested_exception_handling(input_string):\n",
    "    try:\n",
    "        # Attempt to convert the input string to an integer\n",
    "        try:\n",
    "            num = int(input_string)\n",
    "            print(f\"Successfully converted to integer: {num}\")\n",
    "        except ValueError:\n",
    "            # Handle the case where conversion fails\n",
    "            print(f\"ValueError: '{input_string}' is not a valid integer.\")\n",
    "            return\n",
    "        try:\n",
    "            result = 100 / num\n",
    "            print(f\"Result of division: {result}\")\n",
    "        except ZeroDivisionError:\n",
    "            # Handle the case where division by zero occurs\n",
    "            print(\"ZeroDivisionError: Cannot divide by zero.\")\n",
    "            return\n",
    "    finally:\n",
    "        # This block will always execute\n",
    "        print(\"Execution completed.\")\n",
    "\n",
    "\n",
    "\n",
    "# Example usage:\n",
    "input_string_valid = \"10\"\n",
    "input_string_invalid = \"abc\"\n",
    "input_string_zero = \"0\"\n",
    "\n",
    "print(\"Test with valid input:\")\n",
    "nested_exception_handling(input_string_valid)\n",
    "\n",
    "print(\"\\nTest with invalid input:\")\n",
    "nested_exception_handling(input_string_invalid)\n",
    "\n",
    "print(\"\\nTest with zero input:\")\n",
    "nested_exception_handling(input_string_zero)\n"
   ]
  },
  {
   "cell_type": "code",
   "execution_count": 10,
   "id": "080f7e9d",
   "metadata": {},
   "outputs": [
    {
     "ename": "ModuleNotFoundError",
     "evalue": "No module named 'requests'",
     "output_type": "error",
     "traceback": [
      "\u001b[1;31m---------------------------------------------------------------------------\u001b[0m",
      "\u001b[1;31mModuleNotFoundError\u001b[0m                       Traceback (most recent call last)",
      "Cell \u001b[1;32mIn[10], line 1\u001b[0m\n\u001b[1;32m----> 1\u001b[0m \u001b[38;5;28;01mimport\u001b[39;00m\u001b[38;5;250m \u001b[39m\u001b[38;5;21;01mrequests\u001b[39;00m\n\u001b[0;32m      2\u001b[0m \u001b[38;5;28;01mdef\u001b[39;00m\u001b[38;5;250m \u001b[39m\u001b[38;5;21mfetch_url_contents\u001b[39m(url):\n\u001b[0;32m      3\u001b[0m     \u001b[38;5;28;01mtry\u001b[39;00m:\n",
      "\u001b[1;31mModuleNotFoundError\u001b[0m: No module named 'requests'"
     ]
    }
   ],
   "source": [
    "import requests\n",
    "def fetch_url_contents(url):\n",
    "    try:\n",
    "        response = requests.get(url)\n",
    "        response.raise_for_status()\n",
    "        return response.text()\n",
    "    except requests.exceptions.RequestException as e:\n",
    "        print(f\"Network error {e}\")\n",
    "    finally:\n",
    "        print(\"Execution completed.\")\n",
    "# Example usage:\n",
    "url_valid = \"https://www.example.com\"\n",
    "url_invalid = \"https://www.nonexistentwebsite.xyz\"\n",
    "\n",
    "print(\"Fetching valid URL:\")\n",
    "content = fetch_url_contents(url_valid)\n",
    "if content:\n",
    "    print(\"Content fetched successfully.\")\n",
    "\n",
    "print(\"\\nFetching invalid URL:\")\n",
    "fetch_url_contents(url_invalid)"
   ]
  },
  {
   "cell_type": "code",
   "execution_count": 11,
   "id": "14b22d6f",
   "metadata": {},
   "outputs": [
    {
     "name": "stdout",
     "output_type": "stream",
     "text": [
      "Parsing valid JSON:\n",
      "Execution completed.\n",
      "Parsed data: {'name': 'John', 'age': 30, 'city': 'New York'}\n",
      "\n",
      "Parsing invalid JSON:\n",
      "JSONDecodeError: The string is not a valid JSON. Error: Expecting ',' delimiter: line 1 column 47 (char 46)\n",
      "Execution completed.\n"
     ]
    }
   ],
   "source": [
    "import json\n",
    "\n",
    "def parse_json_string(json_string):\n",
    "    try:\n",
    "        # Attempt to parse the JSON string\n",
    "        parsed_data = json.loads(json_string)\n",
    "        return parsed_data\n",
    "    except json.JSONDecodeError as e:\n",
    "        # Handle the case where the string is not valid JSON\n",
    "        print(f\"JSONDecodeError: The string is not a valid JSON. Error: {e}\")\n",
    "    finally:\n",
    "        # This block will always execute\n",
    "        print(\"Execution completed.\")\n",
    "\n",
    "# Example usage:\n",
    "valid_json = '{\"name\": \"John\", \"age\": 30, \"city\": \"New York\"}'\n",
    "invalid_json = '{\"name\": \"John\", \"age\": 30, \"city\": \"New York\"'\n",
    "\n",
    "print(\"Parsing valid JSON:\")\n",
    "parsed_data = parse_json_string(valid_json)\n",
    "if parsed_data:\n",
    "    print(f\"Parsed data: {parsed_data}\")\n",
    "\n",
    "print(\"\\nParsing invalid JSON:\")\n",
    "parse_json_string(invalid_json)\n"
   ]
  },
  {
   "cell_type": "code",
   "execution_count": 12,
   "id": "d79d4c64",
   "metadata": {},
   "outputs": [
    {
     "name": "stdout",
     "output_type": "stream",
     "text": [
      "Error: Negative number found: -3\n",
      "Execution completed.\n",
      "No negative numbers found.\n",
      "Execution completed.\n"
     ]
    }
   ],
   "source": [
    "# Custom exception definition\n",
    "class NegativeNumberError(Exception):\n",
    "    def __init__(self, message=\"Negative number encountered in the list\"):\n",
    "        self.message = message\n",
    "        super().__init__(self.message)\n",
    "\n",
    "# Function to check for negative numbers in the list\n",
    "def check_for_negative_numbers(numbers_list):\n",
    "    try:\n",
    "        for number in numbers_list:\n",
    "            if number < 0:\n",
    "                # Raise the custom exception if a negative number is found\n",
    "                raise NegativeNumberError(f\"Negative number found: {number}\")\n",
    "        print(\"No negative numbers found.\")\n",
    "    except NegativeNumberError as e:\n",
    "        # Handle the custom exception\n",
    "        print(f\"Error: {e}\")\n",
    "    finally:\n",
    "        # This block will always execute\n",
    "        print(\"Execution completed.\")\n",
    "\n",
    "# Example usage:\n",
    "numbers = [1, 2, -3, 4, 5]\n",
    "check_for_negative_numbers(numbers)\n",
    "\n",
    "numbers = [1, 2, 3, 4, 5]\n",
    "check_for_negative_numbers(numbers)\n"
   ]
  },
  {
   "cell_type": "code",
   "execution_count": 13,
   "id": "b910cec5",
   "metadata": {},
   "outputs": [
    {
     "name": "stdout",
     "output_type": "stream",
     "text": [
      "Error: division by zero\n",
      "Execution completed.\n"
     ]
    }
   ],
   "source": [
    "# Function that may raise an exception\n",
    "def risky_function():\n",
    "    # Here we intentionally raise a ZeroDivisionError\n",
    "    # You can replace this with any other operation that may raise an exception\n",
    "    result = 10 / 0  # This will raise ZeroDivisionError\n",
    "\n",
    "# Outer function that calls the risky function\n",
    "def handle_exception():\n",
    "    try:\n",
    "        # Call the risky function\n",
    "        risky_function()\n",
    "    except ZeroDivisionError as e:\n",
    "        # Handle the exception (in this case, division by zero)\n",
    "        print(f\"Error: {e}\")\n",
    "    finally:\n",
    "        # This block will always execute\n",
    "        print(\"Execution completed.\")\n",
    "\n",
    "# Example usage:\n",
    "handle_exception()\n"
   ]
  },
  {
   "cell_type": "code",
   "execution_count": 15,
   "id": "e235746a",
   "metadata": {},
   "outputs": [
    {
     "name": "stdout",
     "output_type": "stream",
     "text": [
      "Attempted to convert '10'.\n",
      "Attempted to convert '20'.\n",
      "ValueError: 'hello' cannot be converted to an integer. Error: invalid literal for int() with base 10: 'hello'\n",
      "Attempted to convert 'hello'.\n",
      "Attempted to convert '30'.\n",
      "ValueError: 'invalid' cannot be converted to an integer. Error: invalid literal for int() with base 10: 'invalid'\n",
      "Attempted to convert 'invalid'.\n",
      "Converted list: [10, 20, 30]\n"
     ]
    }
   ],
   "source": [
    "def convert_to_integers(string_list):\n",
    "    converted_list = []\n",
    "    for item in string_list:\n",
    "        try:\n",
    "            converted_value = int(item)\n",
    "            converted_list.append(converted_value)\n",
    "        except ValueError as e:\n",
    "            # Handle the case where the string cannot be converted to an integer\n",
    "            print(f\"ValueError: '{item}' cannot be converted to an integer. Error: {e}\")\n",
    "        finally:\n",
    "            # This block will always execute\n",
    "            print(f\"Attempted to convert '{item}'.\")\n",
    "    return converted_list\n",
    "# Example usage:\n",
    "string_list = [\"10\", \"20\", \"hello\", \"30\", \"invalid\"]\n",
    "converted_values = convert_to_integers(string_list)\n",
    "\n",
    "print(\"Converted list:\", converted_values)"
   ]
  },
  {
   "cell_type": "code",
   "execution_count": 16,
   "id": "3328443d",
   "metadata": {},
   "outputs": [
    {
     "name": "stdout",
     "output_type": "stream",
     "text": [
      "Attempted to convert '10'.\n",
      "Attempted to convert '20'.\n",
      "ValueError: 'hello' cannot be converted to an integer. Error: invalid literal for int() with base 10: 'hello'\n",
      "Attempted to convert 'hello'.\n",
      "Attempted to convert '30'.\n",
      "ValueError: 'invalid' cannot be converted to an integer. Error: invalid literal for int() with base 10: 'invalid'\n",
      "Attempted to convert 'invalid'.\n",
      "Converted list: [10, 20, None, 30, None]\n"
     ]
    }
   ],
   "source": [
    "def convert_to_integers(string_list):\n",
    "    # Helper function to attempt conversion and handle exceptions\n",
    "    def convert_string_to_int(item):\n",
    "        try:\n",
    "            # Try to convert the string to an integer\n",
    "            return int(item)\n",
    "        except ValueError as e:\n",
    "            # Handle the case where the string cannot be converted to an integer\n",
    "            print(f\"ValueError: '{item}' cannot be converted to an integer. Error: {e}\")\n",
    "            return None\n",
    "        finally:\n",
    "            # This block will always execute\n",
    "            print(f\"Attempted to convert '{item}'.\")\n",
    "    return [convert_string_to_int(item) for item in string_list]\n",
    "\n",
    "# Example usage:\n",
    "string_list = [\"10\", \"20\", \"hello\", \"30\", \"invalid\"]\n",
    "converted_values = convert_to_integers(string_list)\n",
    "\n",
    "print(\"Converted list:\", converted_values)"
   ]
  },
  {
   "cell_type": "code",
   "execution_count": 17,
   "id": "0d4a5083",
   "metadata": {},
   "outputs": [
    {
     "name": "stdout",
     "output_type": "stream",
     "text": [
      "Successfully wrote to output.txt\n",
      "Execution completed. File write operation attempted.\n"
     ]
    }
   ],
   "source": [
    "def write_strings_to_file(file_name, string_list):\n",
    "    try:\n",
    "        # Attempt to open the file in write mode\n",
    "        with open(file_name, 'w') as file:\n",
    "            for string in string_list:\n",
    "                file.write(string + '\\n')  # Write each string to the file\n",
    "        print(f\"Successfully wrote to {file_name}\")\n",
    "    except IOError as e:\n",
    "        # Handle IO errors (e.g., issues opening or writing to the file)\n",
    "        print(f\"IOError: Could not write to the file '{file_name}'. Error: {e}\")\n",
    "    finally:\n",
    "        # This block ensures that the file is properly closed and we handle cleanup\n",
    "        print(\"Execution completed. File write operation attempted.\")\n",
    "\n",
    "# Example usage:\n",
    "strings = [\"Hello\", \"World\", \"This is a test.\"]\n",
    "write_strings_to_file('output.txt', strings)"
   ]
  },
  {
   "cell_type": "code",
   "execution_count": null,
   "id": "586af031",
   "metadata": {},
   "outputs": [],
   "source": []
  }
 ],
 "metadata": {
  "kernelspec": {
   "display_name": "Python 3",
   "language": "python",
   "name": "python3"
  },
  "language_info": {
   "codemirror_mode": {
    "name": "ipython",
    "version": 3
   },
   "file_extension": ".py",
   "mimetype": "text/x-python",
   "name": "python",
   "nbconvert_exporter": "python",
   "pygments_lexer": "ipython3",
   "version": "3.10.0"
  }
 },
 "nbformat": 4,
 "nbformat_minor": 5
}
