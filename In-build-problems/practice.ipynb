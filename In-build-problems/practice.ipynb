{
 "cells": [
  {
   "cell_type": "code",
   "execution_count": 1,
   "id": "7097eb4c",
   "metadata": {},
   "outputs": [
    {
     "name": "stdout",
     "output_type": "stream",
     "text": [
      "Hi\n"
     ]
    }
   ],
   "source": [
    "print('Hi')"
   ]
  },
  {
   "cell_type": "code",
   "execution_count": 3,
   "id": "5ad7b902",
   "metadata": {},
   "outputs": [
    {
     "name": "stdout",
     "output_type": "stream",
     "text": [
      "15\n"
     ]
    }
   ],
   "source": [
    "numbers = [1,2,3,4,5]\n",
    "total = sum(numbers)\n",
    "print(total)"
   ]
  },
  {
   "cell_type": "code",
   "execution_count": 4,
   "id": "c38375a0",
   "metadata": {},
   "outputs": [
    {
     "name": "stdout",
     "output_type": "stream",
     "text": [
      "5\n"
     ]
    }
   ],
   "source": [
    "max = max(numbers)\n",
    "print(max)"
   ]
  },
  {
   "cell_type": "code",
   "execution_count": 6,
   "id": "64676345",
   "metadata": {},
   "outputs": [
    {
     "name": "stdout",
     "output_type": "stream",
     "text": [
      "[1, 2, 3, 4, 5]\n"
     ]
    }
   ],
   "source": [
    "#Remove duplicate\n",
    "numbers = [1,2,3,4,5,5,4]\n",
    "unique_num = list(set(numbers))\n",
    "print(unique_num)"
   ]
  },
  {
   "cell_type": "code",
   "execution_count": null,
   "id": "60c2cf83",
   "metadata": {},
   "outputs": [
    {
     "name": "stdout",
     "output_type": "stream",
     "text": [
      "[1, 2, 3, 4, 5, 5, 4]\n",
      "True\n"
     ]
    }
   ],
   "source": [
    "# check all elements is unique or not\n",
    "def check_unqiue(nums):\n",
    "    checker = {\n",
    "\n",
    "    }\n",
    "    for num in nums:\n",
    "        if num in checker:\n",
    "            return False\n",
    "        else:\n",
    "            checker[num] = 1\n",
    "    return True\n",
    "print(numbers)\n",
    "print(check_unqiue(unique_num))"
   ]
  },
  {
   "cell_type": "code",
   "execution_count": 14,
   "id": "576e68c6",
   "metadata": {},
   "outputs": [
    {
     "name": "stdout",
     "output_type": "stream",
     "text": [
      "[5, 4, 3, 2, 1]\n"
     ]
    }
   ],
   "source": [
    "def reverse_list(lst):\n",
    "    rev_list =[]\n",
    "    j = len(lst)-1\n",
    "    while(j>=0):\n",
    "        rev_list.append(lst[j])\n",
    "        j = j-1\n",
    "    return rev_list\n",
    "\n",
    "\n",
    "print(reverse_list([1,2,3,4,5]))"
   ]
  },
  {
   "cell_type": "code",
   "execution_count": 16,
   "id": "2c2d464b",
   "metadata": {},
   "outputs": [
    {
     "name": "stdout",
     "output_type": "stream",
     "text": [
      "(4, 5)\n"
     ]
    }
   ],
   "source": [
    "def check_number_of_even_odd(lst):\n",
    "    even_count = len([num for num in lst if num%2==0])\n",
    "    odd_count = len([num for num in lst if num%2==1])\n",
    "    return even_count,odd_count\n",
    "print(check_number_of_even_odd([1, 2, 3, 4, 5, 6, 7, 8, 9]))"
   ]
  },
  {
   "cell_type": "code",
   "execution_count": 18,
   "id": "4a18d67d",
   "metadata": {},
   "outputs": [
    {
     "name": "stdout",
     "output_type": "stream",
     "text": [
      "True\n"
     ]
    }
   ],
   "source": [
    "list1 = [1, 2, 3]\n",
    "list2 = [1, 2, 3, 4, 5]\n",
    "is_subset = all(item in list2 for item in list1)\n",
    "print(is_subset)  "
   ]
  },
  {
   "cell_type": "code",
   "execution_count": 4,
   "id": "b05ac44a",
   "metadata": {},
   "outputs": [
    {
     "name": "stdout",
     "output_type": "stream",
     "text": [
      "7\n"
     ]
    }
   ],
   "source": [
    "def max_consecutive_diff_brute_force(lst):\n",
    "    if len(lst) < 2:\n",
    "        return \"No consecutive pair found\"\n",
    "    max_diff = 0\n",
    "    for i in range(len(lst) - 1):\n",
    "        diff = abs(lst[i] - lst[i+1])\n",
    "        if diff > max_diff:\n",
    "            max_diff = diff\n",
    "    return max_diff\n",
    "\n",
    "lst = [1, 7, 3, 10, 5]\n",
    "print(max_consecutive_diff_brute_force(lst))\n"
   ]
  },
  {
   "cell_type": "code",
   "execution_count": 5,
   "id": "5e22cb76",
   "metadata": {},
   "outputs": [
    {
     "name": "stdout",
     "output_type": "stream",
     "text": [
      "[1, 2, 3, 4, 5, 6]\n"
     ]
    }
   ],
   "source": [
    "def merge_and_sort(list1, list2):\n",
    "    merged_list = list1 + list2       # Combine the two lists\n",
    "    merged_list.sort()                # Sort the merged list\n",
    "    return merged_list\n",
    "\n",
    "# Example usage:\n",
    "list1 = [1, 3, 5]\n",
    "list2 = [2, 4, 6]\n",
    "print(merge_and_sort(list1, list2))  # Output: [1, 2, 3, 4, 5, 6]"
   ]
  },
  {
   "cell_type": "code",
   "execution_count": 17,
   "id": "10d14c28",
   "metadata": {},
   "outputs": [],
   "source": [
    "del min"
   ]
  },
  {
   "cell_type": "code",
   "execution_count": 20,
   "id": "5e74fbf0",
   "metadata": {},
   "outputs": [
    {
     "name": "stdout",
     "output_type": "stream",
     "text": [
      "{'a': 1, 'b': 2, 'c': 3}\n"
     ]
    }
   ],
   "source": [
    "def merge_lists_to_dictionary(keys, values):\n",
    "    result = {}\n",
    "    minimum = min(len(keys),len(values))\n",
    "    for i in range(minimum):\n",
    "        result[keys[i]] = values[i]\n",
    "    return result\n",
    "\n",
    "keys = ['a', 'b', 'c']\n",
    "values = [1, 2, 3]\n",
    "merged_dict = merge_lists_to_dictionary(keys, values)\n",
    "print(merged_dict)\n"
   ]
  },
  {
   "cell_type": "code",
   "execution_count": 21,
   "id": "832239ef",
   "metadata": {},
   "outputs": [
    {
     "name": "stdout",
     "output_type": "stream",
     "text": [
      "{'a': 1, 'b': 2, 'c': 3, 'd': 4, 'e': 5, 'f': 6}\n"
     ]
    }
   ],
   "source": [
    "def merge_three_dictionaries(dict1,dict2,dict3):\n",
    "    merged_dict ={\n",
    "\n",
    "    }\n",
    "    for d in [dict1,dict2,dict3]:\n",
    "        for key,value in d.items():\n",
    "            merged_dict[key] = value\n",
    "    return merged_dict\n",
    "# Example usage:\n",
    "dict1 = {'a': 1, 'b': 2}\n",
    "dict2 = {'c': 3, 'd': 4}\n",
    "dict3 = {'e': 5, 'f': 6}\n",
    "\n",
    "result = merge_three_dictionaries(dict1, dict2, dict3)\n",
    "print(result)"
   ]
  },
  {
   "cell_type": "code",
   "execution_count": 22,
   "id": "1d57acd0",
   "metadata": {},
   "outputs": [
    {
     "name": "stdout",
     "output_type": "stream",
     "text": [
      "{'a': 1, 'b': 2, 'c': 3, 'd': 4, 'e': 5, 'f': 6}\n"
     ]
    }
   ],
   "source": [
    "def merge_three_dictionaries(dict1, dict2, dict3):\n",
    "    merged = {}\n",
    "    # Add key-value pairs from the first dictionary\n",
    "    merged.update(dict1)\n",
    "    # Add key-value pairs from the second dictionary\n",
    "    merged.update(dict2)\n",
    "    # Add key-value pairs from the third dictionary\n",
    "    merged.update(dict3)\n",
    "    return merged\n",
    "\n",
    "# Example usage:\n",
    "dict1 = {'a': 1, 'b': 2}\n",
    "dict2 = {'c': 3, 'd': 4}\n",
    "dict3 = {'e': 5, 'f': 6}\n",
    "\n",
    "result = merge_three_dictionaries(dict1, dict2, dict3)\n",
    "print(result)"
   ]
  },
  {
   "cell_type": "code",
   "execution_count": 24,
   "id": "f81f28e3",
   "metadata": {},
   "outputs": [
    {
     "name": "stdout",
     "output_type": "stream",
     "text": [
      "{'the': 2, 'quick': 1, 'brown': 1, 'fox': 1, 'jumps': 1, 'over': 1, 'lazy': 1, 'dog': 1}\n"
     ]
    }
   ],
   "source": [
    "def calculate_word_frequency(input_str):\n",
    "    words = input_str.split()\n",
    "    frequency = {\n",
    "\n",
    "    }\n",
    "    for word in words:\n",
    "        if word in frequency:\n",
    "            frequency[word] += 1\n",
    "        else:\n",
    "            frequency[word] = 1\n",
    "    return frequency\n",
    "\n",
    "#Words Frequency in a Sentence\n",
    "input_str = \"the quick brown fox jumps over the lazy dog\"\n",
    "print(calculate_word_frequency(input_str))"
   ]
  },
  {
   "cell_type": "code",
   "execution_count": 25,
   "id": "b89f3877",
   "metadata": {},
   "outputs": [
    {
     "name": "stdout",
     "output_type": "stream",
     "text": [
      "{'the': 2, 'quick': 1, 'brown': 1, 'fox': 1, 'jumps': 1, 'over': 1, 'lazy': 1, 'dog': 1}\n"
     ]
    }
   ],
   "source": [
    "def calculate_word_frequency(input_str):\n",
    "    words = input_str.split()\n",
    "    frequency = {}\n",
    "    for word in words:\n",
    "        frequency[word] = frequency.get(word, 0) + 1\n",
    "    return frequency\n",
    "\n",
    "# Words Frequency in a Sentence\n",
    "input_str = \"the quick brown fox jumps over the lazy dog\"\n",
    "print(calculate_word_frequency(input_str))"
   ]
  },
  {
   "cell_type": "code",
   "execution_count": 29,
   "id": "6371052c",
   "metadata": {},
   "outputs": [
    {
     "name": "stdout",
     "output_type": "stream",
     "text": [
      "False\n"
     ]
    }
   ],
   "source": [
    "def is_palindrome_tuple(input_tuple):\n",
    "    return input_tuple == input_tuple[::-1]\n",
    "input_tuple = (1, 2, 3, 4, 5)\n",
    "print(is_palindrome_tuple(input_tuple))"
   ]
  },
  {
   "cell_type": "code",
   "execution_count": 41,
   "id": "4f664d0c",
   "metadata": {},
   "outputs": [
    {
     "name": "stdout",
     "output_type": "stream",
     "text": [
      "{'a': 1, 'b': 5, 'c': 9, 'd': 6}\n"
     ]
    }
   ],
   "source": [
    "#Merge Dictionaries with Common Keys\n",
    "def merge_dicts_with_overlapping_keys(input_dic):\n",
    "    merged_dict ={}\n",
    "    for dic in input_dic:\n",
    "        for key,val in dic.items():\n",
    "            merged_dict[key] = merged_dict.get(key,0) + val\n",
    "            # if key in merged_dict:\n",
    "            #     merged_dict[key] += val\n",
    "            # else:\n",
    "            #     merged_dict[key] = val\n",
    "           \n",
    "    return merged_dict  \n",
    "input_dict = [{'a': 1, 'b': 2}, {'b': 3, 'c': 4}, {'c': 5, 'd': 6}]\n",
    "print(merge_dicts_with_overlapping_keys(input_dict))"
   ]
  },
  {
   "cell_type": "code",
   "execution_count": null,
   "id": "5847b20c",
   "metadata": {},
   "outputs": [],
   "source": []
  }
 ],
 "metadata": {
  "kernelspec": {
   "display_name": "Python 3",
   "language": "python",
   "name": "python3"
  },
  "language_info": {
   "codemirror_mode": {
    "name": "ipython",
    "version": 3
   },
   "file_extension": ".py",
   "mimetype": "text/x-python",
   "name": "python",
   "nbconvert_exporter": "python",
   "pygments_lexer": "ipython3",
   "version": "3.10.0"
  }
 },
 "nbformat": 4,
 "nbformat_minor": 5
}
