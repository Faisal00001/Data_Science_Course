{
 "cells": [
  {
   "cell_type": "code",
   "execution_count": 4,
   "id": "a6f54fe3",
   "metadata": {},
   "outputs": [
    {
     "name": "stdout",
     "output_type": "stream",
     "text": [
      "6\n",
      "5\n",
      "4\n",
      "3\n",
      "2\n",
      "1\n",
      "0\n"
     ]
    }
   ],
   "source": [
    "class CountDown:\n",
    "    iterator = None\n",
    "    def __init__(self, number):\n",
    "        self.number = number\n",
    "    def __iter__(self):\n",
    "        return self\n",
    "    def __next__(self):\n",
    "        if self.number < 0:\n",
    "            raise StopIteration\n",
    "        current = self.number\n",
    "        self.number -= 1\n",
    "        return current\n",
    "\n",
    "countDown = CountDown(6)\n",
    "for num in countDown:\n",
    "    print(num)\n",
    "\n",
    "\n",
    "\n",
    "\n",
    "        "
   ]
  },
  {
   "cell_type": "code",
   "execution_count": 8,
   "id": "6c6b1f58",
   "metadata": {},
   "outputs": [
    {
     "name": "stdout",
     "output_type": "stream",
     "text": [
      "1\n",
      "2\n",
      "3\n",
      "4\n",
      "5\n",
      "6\n"
     ]
    }
   ],
   "source": [
    "class CountUp:\n",
    "    def __init__(self, max_number):\n",
    "        self.current = 1\n",
    "        self.max_number = max_number\n",
    "    def __iter__(self):\n",
    "        return self\n",
    "    def __next__(self):\n",
    "        if self.current > self.max_number:\n",
    "            raise StopIteration\n",
    "        current = self.current\n",
    "        self.current += 1\n",
    "        return current\n",
    "\n",
    "countUp = CountUp(6)\n",
    "for num in countUp:\n",
    "    print(num)\n"
   ]
  },
  {
   "cell_type": "code",
   "execution_count": 12,
   "id": "e606ad50",
   "metadata": {},
   "outputs": [
    {
     "name": "stdout",
     "output_type": "stream",
     "text": [
      "10\n",
      "9\n",
      "8\n",
      "7\n",
      "6\n",
      "5\n",
      "4\n",
      "3\n",
      "2\n",
      "1\n",
      "0\n"
     ]
    }
   ],
   "source": [
    "#CountDown\n",
    "class CountDown:\n",
    "    def __init__(self,number):\n",
    "        self.number = number\n",
    "    def __iter__(self):\n",
    "        return self\n",
    "    def __next__(self):\n",
    "        if self.number < 0:\n",
    "            raise StopIteration\n",
    "        current = self.number\n",
    "        self.number -=1\n",
    "        return current\n",
    "countdown = CountDown(10)\n",
    "for count in countdown:\n",
    "    print(count)\n"
   ]
  },
  {
   "cell_type": "code",
   "execution_count": 16,
   "id": "c7e3e5bb",
   "metadata": {},
   "outputs": [
    {
     "name": "stdout",
     "output_type": "stream",
     "text": [
      "0\n",
      "1\n",
      "2\n",
      "3\n",
      "4\n",
      "5\n",
      "6\n",
      "7\n",
      "8\n",
      "9\n",
      "10\n"
     ]
    }
   ],
   "source": [
    "#CountUp\n",
    "class CountUp1:\n",
    "    def __init__(self,max_number):\n",
    "        self.current = 0\n",
    "        self.max_number = max_number\n",
    "    def __iter__(self):\n",
    "        return self\n",
    "    def __next__(self):\n",
    "        if self.current > self.max_number:\n",
    "            raise StopIteration\n",
    "        current = self.current\n",
    "        self.current +=1\n",
    "        return current\n",
    "countup1 = CountUp1(10)\n",
    "for count in countup1:\n",
    "    print(count)\n",
    "        "
   ]
  },
  {
   "cell_type": "code",
   "execution_count": 21,
   "id": "4eca6c81",
   "metadata": {},
   "outputs": [
    {
     "name": "stdout",
     "output_type": "stream",
     "text": [
      "MyRange(5)\n",
      "0\n",
      "1\n",
      "2\n",
      "3\n",
      "4\n",
      "MyRange(2,10)\n",
      "2\n",
      "3\n",
      "4\n",
      "5\n",
      "6\n",
      "7\n",
      "8\n",
      "9\n",
      "MyRange(10,2,-2)\n",
      "10\n",
      "8\n",
      "6\n",
      "4\n"
     ]
    }
   ],
   "source": [
    "class MyRange:\n",
    "    def __init__(self,start,stop = None,step=1):\n",
    "        if stop is None:\n",
    "            self.start = 0\n",
    "            self.stop = start\n",
    "        else:\n",
    "            self.start = start\n",
    "            self.stop = stop\n",
    "        self.step = step\n",
    "        self.current = start\n",
    "    def __iter__(self):\n",
    "        self.current = self.start\n",
    "        return self\n",
    "    def __next__(self):\n",
    "        if (self.step > 0 and self.current >= self.stop) or (self.step < 0 and self.current <= self.stop):\n",
    "            raise StopIteration\n",
    "        current = self.current\n",
    "        self.current += self.step\n",
    "        return current\n",
    "print('MyRange(5)')\n",
    "for i in MyRange(5):\n",
    "    print(i)\n",
    "print('MyRange(2,10)')\n",
    "for i in MyRange(2,10):\n",
    "    print(i)\n",
    "print('MyRange(10,2,-2)')\n",
    "for i in MyRange(10,2,-2):\n",
    "    print(i)\n",
    "        \n",
    "\n",
    "        "
   ]
  },
  {
   "cell_type": "code",
   "execution_count": 27,
   "id": "8977e8f1",
   "metadata": {},
   "outputs": [
    {
     "name": "stdout",
     "output_type": "stream",
     "text": [
      "0\n",
      "1\n",
      "1\n",
      "2\n",
      "3\n",
      "5\n",
      "8\n",
      "13\n",
      "21\n",
      "34\n"
     ]
    }
   ],
   "source": [
    "# Write a generator function named `fibonacci` that yields the Fibonacci sequence. \n",
    "# Test the generator by iterating over it and printing the first 10 Fibonacci numbers.\n",
    "\n",
    "def fibonacci():\n",
    "    a, b = 0, 1\n",
    "    while True:\n",
    "        yield a\n",
    "        a, b = b, a+b\n",
    "fib = fibonacci()\n",
    "for _ in range(10):\n",
    "    print(next(fib))"
   ]
  },
  {
   "cell_type": "code",
   "execution_count": 28,
   "id": "ef02459a",
   "metadata": {},
   "outputs": [
    {
     "name": "stdout",
     "output_type": "stream",
     "text": [
      "0\n",
      "1\n",
      "1\n",
      "2\n",
      "3\n",
      "5\n",
      "8\n",
      "13\n",
      "21\n",
      "34\n"
     ]
    }
   ],
   "source": [
    "def fibonacci(n):  # generate 'n' Fibonacci numbers\n",
    "    a, b = 0, 1\n",
    "    count = 0\n",
    "    while count < n:\n",
    "        yield a\n",
    "        a, b = b, a + b\n",
    "        count += 1\n",
    "for num in fibonacci(10):\n",
    "    print(num)"
   ]
  },
  {
   "cell_type": "code",
   "execution_count": 29,
   "id": "13e446d2",
   "metadata": {},
   "outputs": [
    {
     "name": "stdout",
     "output_type": "stream",
     "text": [
      "1\n",
      "4\n",
      "9\n",
      "16\n",
      "25\n",
      "36\n",
      "49\n",
      "64\n",
      "81\n",
      "100\n"
     ]
    }
   ],
   "source": [
    "# Create a generator expression that generates the squares of numbers from 1 to 10. \n",
    "# Iterate over the generator and print each value.\n",
    "\n",
    "def square(start,end):\n",
    "    for i in range(start,end):\n",
    "        yield i**2\n",
    "squares = square(1,11)\n",
    "for res in squares:\n",
    "    print(res)\n"
   ]
  },
  {
   "cell_type": "code",
   "execution_count": 2,
   "id": "4c2acd37",
   "metadata": {},
   "outputs": [
    {
     "name": "stdout",
     "output_type": "stream",
     "text": [
      "0\n",
      "4\n",
      "16\n",
      "36\n",
      "64\n"
     ]
    }
   ],
   "source": [
    "# Write two generator functions: `even_numbers` that yields even numbers up to a limit,\n",
    "#  and `squares` that yields the square of each number from another generator.\n",
    "#  Chain these generators to produce the squares of even numbers up to 20.\n",
    "\n",
    "def even_numbers(n):\n",
    "    for i in range(n):\n",
    "        if i%2 == 0:\n",
    "            yield i\n",
    "def squares(number_gen):\n",
    "    for i in number_gen:\n",
    "        yield i**2\n",
    "\n",
    "for sq in squares(even_numbers(10)):\n",
    "    print(sq)"
   ]
  },
  {
   "cell_type": "code",
   "execution_count": 5,
   "id": "1a954aa0",
   "metadata": {},
   "outputs": [
    {
     "name": "stdout",
     "output_type": "stream",
     "text": [
      "Function factorial executed in 0.000000 seconds\n",
      "Function factorial executed in 0.000998 seconds\n",
      "Function factorial executed in 0.000998 seconds\n",
      "Function factorial executed in 0.000998 seconds\n",
      "Function factorial executed in 0.000998 seconds\n",
      "Function factorial executed in 0.000998 seconds\n",
      "Function factorial executed in 0.000998 seconds\n",
      "Function factorial executed in 0.000998 seconds\n",
      "Function factorial executed in 0.000998 seconds\n",
      "Function factorial executed in 0.000998 seconds\n",
      "3628800\n"
     ]
    }
   ],
   "source": [
    "import time\n",
    "def time_it(func):\n",
    "    def wrapper(*args,**kwargs):\n",
    "        start_time = time.time()\n",
    "        result = func(*args,**kwargs)\n",
    "        end_time = time.time()\n",
    "        elapsed_time = end_time - start_time\n",
    "        print(f\"Function {func.__name__} executed in {elapsed_time:.6f} seconds\")\n",
    "        return result\n",
    "    return wrapper\n",
    "@time_it\n",
    "def factorial(n):\n",
    "    if n==0 or n==1:\n",
    "        return 1\n",
    "    return n * factorial(n-1)\n",
    "\n",
    "print(factorial(10))\n"
   ]
  },
  {
   "cell_type": "code",
   "execution_count": 4,
   "id": "8fb1fa74",
   "metadata": {},
   "outputs": [
    {
     "name": "stdout",
     "output_type": "stream",
     "text": [
      "Function 'factorial' executed in 0.000000 seconds.\n",
      "Function 'factorial' executed in 0.000998 seconds.\n",
      "Function 'factorial' executed in 0.000998 seconds.\n",
      "Function 'factorial' executed in 0.000998 seconds.\n",
      "Function 'factorial' executed in 0.000998 seconds.\n",
      "Function 'factorial' executed in 0.000998 seconds.\n",
      "Function 'factorial' executed in 0.000998 seconds.\n",
      "Function 'factorial' executed in 0.000998 seconds.\n",
      "Function 'factorial' executed in 0.000998 seconds.\n",
      "Function 'factorial' executed in 0.000998 seconds.\n",
      "3628800\n"
     ]
    }
   ],
   "source": [
    "import time\n",
    "\n",
    "# Decorator to measure execution time\n",
    "def time_it(func):\n",
    "    def wrapper(*args, **kwargs):\n",
    "        start_time = time.time()  # Record start time\n",
    "        result = func(*args, **kwargs)\n",
    "        end_time = time.time()    # Record end time\n",
    "        elapsed_time = end_time - start_time\n",
    "        print(f\"Function '{func.__name__}' executed in {elapsed_time:.6f} seconds.\")\n",
    "        return result\n",
    "    return wrapper\n",
    "\n",
    "# Factorial function using the decorator\n",
    "@time_it\n",
    "def factorial(n):\n",
    "    if n == 0 or n == 1:\n",
    "        return 1\n",
    "    return n * factorial(n - 1)\n",
    "\n",
    "# Test the factorial function\n",
    "print(factorial(10))\n"
   ]
  },
  {
   "cell_type": "code",
   "execution_count": 10,
   "id": "c28558b8",
   "metadata": {},
   "outputs": [
    {
     "name": "stdout",
     "output_type": "stream",
     "text": [
      "Printing the message\n",
      "Printing the message\n",
      "Printing the message\n",
      "Printing the message\n",
      "Printing the message\n"
     ]
    }
   ],
   "source": [
    "def repeat(n):\n",
    "    def decorate(func):\n",
    "        def wrapper(*args,**kwargs):\n",
    "            for _ in range(n):\n",
    "                func(*args,**kwargs)\n",
    "        return wrapper\n",
    "    return decorate\n",
    "@repeat(5)\n",
    "def print_message():\n",
    "    print('Printing the message')\n",
    "print_message()"
   ]
  },
  {
   "cell_type": "code",
   "execution_count": 13,
   "id": "223e59c7",
   "metadata": {},
   "outputs": [],
   "source": [
    "# Write two decorators: `uppercase` that converts the result of a function to uppercase,\n",
    "#  and `exclaim` that adds an exclamation mark to the result of a function. \n",
    "# Apply both decorators to a function that returns a greeting message.\n",
    "\n",
    "def uppercase(func):\n",
    "    def wrapper(*args,**kwargs):\n",
    "        result = func(*args,**kwargs)\n",
    "        return result.upper()\n",
    "    return wrapper\n",
    "def exclaim(func):\n",
    "    def wrapper(*args,**kwargs):\n",
    "        result = func(*args,**kwargs)\n",
    "        return result +'!'\n",
    "    return wrapper\n",
    "@exclaim\n",
    "@uppercase\n",
    "def greet():\n",
    "    return 'hello word'"
   ]
  },
  {
   "cell_type": "code",
   "execution_count": 14,
   "id": "669b42aa",
   "metadata": {},
   "outputs": [
    {
     "data": {
      "text/plain": [
       "'HELLO WORD!'"
      ]
     },
     "execution_count": 14,
     "metadata": {},
     "output_type": "execute_result"
    }
   ],
   "source": [
    "greet()"
   ]
  },
  {
   "cell_type": "code",
   "execution_count": 21,
   "id": "8a144b80",
   "metadata": {},
   "outputs": [
    {
     "name": "stdout",
     "output_type": "stream",
     "text": [
      "Establishing database connection\n",
      "True\n"
     ]
    }
   ],
   "source": [
    "# Create a class decorator named `singleton` that ensures a class has only one instance. \n",
    "# Apply this decorator to a class named `DatabaseConnection` and test it.\n",
    "class Singleton:\n",
    "    _instances = {}\n",
    "    def __init__(self,cls):\n",
    "        self.cls = cls\n",
    "    def __call__(self, *args, **kwargs):\n",
    "        if self.cls not in Singleton._instances:\n",
    "            Singleton._instances[self.cls] = self.cls(*args,**kwargs)\n",
    "        return Singleton._instances[self.cls]\n",
    "@Singleton\n",
    "class DatabaseConnection:\n",
    "    def __init__(self):\n",
    "        print('Establishing database connection')\n",
    "db1 = DatabaseConnection()\n",
    "db2 = DatabaseConnection()\n",
    "print(db1 is db2)\n",
    "\n",
    "    "
   ]
  },
  {
   "cell_type": "code",
   "execution_count": 3,
   "id": "155a4dca",
   "metadata": {},
   "outputs": [
    {
     "name": "stdout",
     "output_type": "stream",
     "text": [
      "D\n",
      "L\n",
      "R\n",
      "O\n",
      "W\n",
      " \n",
      "O\n",
      "L\n",
      "L\n",
      "E\n",
      "H\n"
     ]
    }
   ],
   "source": [
    "# Create a custom iterator class named `ReverseString` that iterates over a string in reverse. \n",
    "# Write a decorator named `uppercase` that converts the string to uppercase before reversing it.\n",
    "#  Apply the decorator to the `ReverseString` class.\n",
    "\n",
    "def uppercase(cls):\n",
    "    class Uppercase:\n",
    "        def __init__(self,string):\n",
    "            self._wrapped = cls(string.upper())\n",
    "        def __iter__(self):\n",
    "            return iter(self._wrapped)\n",
    "    return Uppercase\n",
    "@uppercase\n",
    "class ReverseString:\n",
    "    def __init__(self, string):\n",
    "        self.string = string\n",
    "        self.index = len(string)\n",
    "    def __iter__(self):\n",
    "        return self\n",
    "    def __next__(self):\n",
    "        if self.index == 0:\n",
    "            raise StopIteration\n",
    "        self.index -=1\n",
    "        return self.string[self.index]\n",
    "\n",
    "\n",
    "for char in ReverseString('Hello World'):\n",
    "    print(char)\n",
    "    \n",
    "        "
   ]
  },
  {
   "cell_type": "code",
   "execution_count": 6,
   "id": "5bcc5262",
   "metadata": {},
   "outputs": [
    {
     "name": "stdout",
     "output_type": "stream",
     "text": [
      "1\n",
      "2\n",
      "3\n",
      "4\n",
      "5\n",
      "6\n",
      "7\n",
      "8\n",
      "9\n",
      "10\n"
     ]
    }
   ],
   "source": [
    "# Write a stateful generator function named `counter` that takes a start value and increments it by 1 each time it is called. \n",
    "# Test the generator by iterating over it and printing the first 10 values.\n",
    "\n",
    "def counter(val):\n",
    "    start = val\n",
    "    while True:\n",
    "        yield start\n",
    "        start +=1\n",
    "count = counter(1)\n",
    "for _ in range(10):\n",
    "    print(next(count))\n"
   ]
  },
  {
   "cell_type": "code",
   "execution_count": 9,
   "id": "69fa99fe",
   "metadata": {},
   "outputs": [
    {
     "name": "stdout",
     "output_type": "stream",
     "text": [
      "Can't divide by zero\n",
      "Can't divide by zero\n",
      "Can't divide by zero\n",
      "Can't divide by zero\n",
      "Can't divide by zero\n",
      "Can't divide by zero\n"
     ]
    }
   ],
   "source": [
    "# Write a generator function named `safe_divide` that takes a list of numbers and yields the division of each number by a given divisor. \n",
    "# Implement exception handling within the generator to handle division by zero.\n",
    "\n",
    "def safe_drive(lst,division):\n",
    "        for num in lst:\n",
    "            try:\n",
    "                 yield num/division\n",
    "            except ZeroDivisionError:\n",
    "                 print(\"Can't divide by zero\")  \n",
    "calcuations = safe_drive([1,2,3,45,6,89],0)\n",
    "for res in calcuations:\n",
    "    print(res)\n",
    "\n"
   ]
  },
  {
   "cell_type": "code",
   "execution_count": 10,
   "id": "779f4d3f",
   "metadata": {},
   "outputs": [
    {
     "name": "stdout",
     "output_type": "stream",
     "text": [
      "Text has been written to the file.\n"
     ]
    }
   ],
   "source": [
    "# Write a decorator named `open_file` that manages the opening and closing of a file. \n",
    "# Apply this decorator to a function that writes some text to a file.\n",
    "# Decorator to open and close a file\n",
    "def open_file(func):\n",
    "    def wrapper(filename, *args, **kwargs):\n",
    "        try:\n",
    "            # Open the file in write mode\n",
    "            with open(filename, 'w') as file:\n",
    "                # Pass the file object to the function\n",
    "                return func(file, *args, **kwargs)\n",
    "        except Exception as e:\n",
    "            print(f\"Error opening file: {e}\")\n",
    "    return wrapper\n",
    "\n",
    "# Function to write text to the file\n",
    "@open_file\n",
    "def write_to_file(file, text):\n",
    "    file.write(text)\n",
    "    print(\"Text has been written to the file.\")\n",
    "\n",
    "# Calling the function with a filename and text to write\n",
    "write_to_file(\"example.txt\", \"Hello, this is a test text!\")\n",
    "\n"
   ]
  },
  {
   "cell_type": "code",
   "execution_count": 15,
   "id": "dd388a97",
   "metadata": {},
   "outputs": [
    {
     "name": "stdout",
     "output_type": "stream",
     "text": [
      "1\n",
      "2\n",
      "3\n",
      "4\n",
      "5\n",
      "6\n",
      "7\n",
      "8\n",
      "9\n",
      "10\n",
      "11\n",
      "12\n",
      "13\n",
      "14\n",
      "15\n",
      "16\n",
      "17\n",
      "18\n",
      "19\n",
      "20\n",
      "21\n",
      "22\n",
      "23\n",
      "24\n",
      "25\n",
      "26\n",
      "27\n",
      "28\n",
      "29\n",
      "30\n",
      "31\n",
      "32\n",
      "33\n",
      "34\n",
      "35\n",
      "36\n",
      "37\n",
      "38\n",
      "39\n",
      "40\n",
      "41\n",
      "42\n",
      "43\n",
      "44\n",
      "45\n",
      "46\n",
      "47\n",
      "48\n",
      "49\n",
      "50\n"
     ]
    }
   ],
   "source": [
    "# Create an infinite iterator class named `InfiniteCounter` that starts from a given number and increments by 1 indefinitely. \n",
    "# Test the iterator by printing the first 10 values generated by it.\n",
    "\n",
    "\n",
    "class InfiniteCounter:\n",
    "    def __init__(self,number):\n",
    "        self.number = number\n",
    "    def __iter__(self):\n",
    "        return self\n",
    "    def __next__(self):\n",
    "        number = self.number\n",
    "        self.number += 1\n",
    "        return number\n",
    "infinite_counter = InfiniteCounter(1)\n",
    "for _ in range(50):\n",
    "    print(next(infinite_counter))\n",
    "    \n",
    "\n"
   ]
  },
  {
   "cell_type": "code",
   "execution_count": 17,
   "id": "f24a4e26",
   "metadata": {},
   "outputs": [
    {
     "name": "stdout",
     "output_type": "stream",
     "text": [
      "-2\n",
      "-4\n",
      "-6\n",
      "-8\n",
      "-10\n",
      "-12\n",
      "-14\n",
      "-16\n",
      "-18\n",
      "-20\n"
     ]
    }
   ],
   "source": [
    "# Write three generator functions: `integers` that yields integers from 1 to 10,\n",
    "#  `doubles` that yields each integer doubled, and `negatives` that yields the negative of each doubled value. \n",
    "# Chain these generators to create a pipeline that produces the negative doubled values of integers from 1 to 10.\n",
    "\n",
    "def integers():\n",
    "    for i in range(1,11):\n",
    "        yield i\n",
    "def doubles():\n",
    "    for i in integers():\n",
    "        yield i*2\n",
    "def negatives():\n",
    "    for i in doubles():\n",
    "        yield -i\n",
    "for value in negatives():\n",
    "    print(value)\n"
   ]
  },
  {
   "cell_type": "code",
   "execution_count": null,
   "id": "00e90d0a",
   "metadata": {},
   "outputs": [],
   "source": []
  }
 ],
 "metadata": {
  "kernelspec": {
   "display_name": "Python 3",
   "language": "python",
   "name": "python3"
  },
  "language_info": {
   "codemirror_mode": {
    "name": "ipython",
    "version": 3
   },
   "file_extension": ".py",
   "mimetype": "text/x-python",
   "name": "python",
   "nbconvert_exporter": "python",
   "pygments_lexer": "ipython3",
   "version": "3.12.0"
  }
 },
 "nbformat": 4,
 "nbformat_minor": 5
}
