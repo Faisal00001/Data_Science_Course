{
 "cells": [
  {
   "cell_type": "code",
   "execution_count": 1,
   "id": "751427b7",
   "metadata": {},
   "outputs": [
    {
     "name": "stdout",
     "output_type": "stream",
     "text": [
      "Hi\n"
     ]
    }
   ],
   "source": [
    "print('Hi')"
   ]
  },
  {
   "cell_type": "code",
   "execution_count": 13,
   "id": "d6c08725",
   "metadata": {},
   "outputs": [],
   "source": [
    "#As soon yield store the value and its also return then we print it\n",
    "def square(n):\n",
    "    for i in range(n):\n",
    "        yield i**2"
   ]
  },
  {
   "cell_type": "code",
   "execution_count": 5,
   "id": "a555e9d2",
   "metadata": {},
   "outputs": [
    {
     "data": {
      "text/plain": [
       "<generator object square at 0x000001DC55E16740>"
      ]
     },
     "execution_count": 5,
     "metadata": {},
     "output_type": "execute_result"
    }
   ],
   "source": [
    "square(3)"
   ]
  },
  {
   "cell_type": "code",
   "execution_count": null,
   "id": "6252a464",
   "metadata": {},
   "outputs": [],
   "source": []
  },
  {
   "cell_type": "code",
   "execution_count": 14,
   "id": "e58880c8",
   "metadata": {},
   "outputs": [
    {
     "name": "stdout",
     "output_type": "stream",
     "text": [
      "0\n",
      "1\n",
      "4\n"
     ]
    }
   ],
   "source": [
    "for i in square(3):\n",
    "    print(i)"
   ]
  },
  {
   "cell_type": "code",
   "execution_count": 15,
   "id": "a5e82036",
   "metadata": {},
   "outputs": [],
   "source": [
    "a = square(3)"
   ]
  },
  {
   "cell_type": "code",
   "execution_count": 16,
   "id": "17b534fd",
   "metadata": {},
   "outputs": [
    {
     "data": {
      "text/plain": [
       "0"
      ]
     },
     "execution_count": 16,
     "metadata": {},
     "output_type": "execute_result"
    }
   ],
   "source": [
    "next(a)"
   ]
  },
  {
   "cell_type": "code",
   "execution_count": 17,
   "id": "77832bf0",
   "metadata": {},
   "outputs": [
    {
     "data": {
      "text/plain": [
       "1"
      ]
     },
     "execution_count": 17,
     "metadata": {},
     "output_type": "execute_result"
    }
   ],
   "source": [
    "next(a)"
   ]
  },
  {
   "cell_type": "code",
   "execution_count": 18,
   "id": "b98b49e7",
   "metadata": {},
   "outputs": [
    {
     "data": {
      "text/plain": [
       "4"
      ]
     },
     "execution_count": 18,
     "metadata": {},
     "output_type": "execute_result"
    }
   ],
   "source": [
    "next(a)"
   ]
  },
  {
   "cell_type": "code",
   "execution_count": 19,
   "id": "82e4ccc1",
   "metadata": {},
   "outputs": [],
   "source": [
    "def my_generattor():\n",
    "    yield 1\n",
    "    yield 2\n",
    "    yield 3"
   ]
  },
  {
   "cell_type": "code",
   "execution_count": 24,
   "id": "b8847a4d",
   "metadata": {},
   "outputs": [],
   "source": [
    "gen = my_generattor()"
   ]
  },
  {
   "cell_type": "code",
   "execution_count": 21,
   "id": "69ac4c37",
   "metadata": {},
   "outputs": [
    {
     "data": {
      "text/plain": [
       "1"
      ]
     },
     "execution_count": 21,
     "metadata": {},
     "output_type": "execute_result"
    }
   ],
   "source": [
    "next(gen)"
   ]
  },
  {
   "cell_type": "code",
   "execution_count": 22,
   "id": "2fe4c58b",
   "metadata": {},
   "outputs": [
    {
     "data": {
      "text/plain": [
       "2"
      ]
     },
     "execution_count": 22,
     "metadata": {},
     "output_type": "execute_result"
    }
   ],
   "source": [
    "next(gen)"
   ]
  },
  {
   "cell_type": "code",
   "execution_count": 25,
   "id": "fd6cdc4d",
   "metadata": {},
   "outputs": [
    {
     "name": "stdout",
     "output_type": "stream",
     "text": [
      "1\n",
      "2\n",
      "3\n"
     ]
    }
   ],
   "source": [
    "for val in gen:\n",
    "    print(val)"
   ]
  },
  {
   "cell_type": "code",
   "execution_count": 27,
   "id": "5afd5fd5",
   "metadata": {},
   "outputs": [],
   "source": [
    "#Practical example\n",
    "#Reading large files. Useful for reading large files cz they allow you to process one line at a time without loading the entrie file to memory\n",
    "\n",
    "def read_large_file(file_path):\n",
    "    with open(file_path,'r') as file:\n",
    "        for line in file:\n",
    "            yield line\n",
    "\n"
   ]
  },
  {
   "cell_type": "code",
   "execution_count": 29,
   "id": "dfccd7b1",
   "metadata": {},
   "outputs": [
    {
     "name": "stdout",
     "output_type": "stream",
     "text": [
      "Mr. Mohammed Shahabuddin was born on December 10, 1949 in Jubilee Tank Para of Shibrampur, Pabna city. His father's name is Sharfuddin Ansari, mother's name is Khairunnessa.\n",
      "\n",
      "Mr. Mohammed Shahabuddin passed SSC in 1966 from Radhanagar Majumdar Academy, HSC in 1968 from Pabna Edward College and obtained BSc degree in 1971 (held in 1972). Later he received his Masters in Psychology from Rajshahi University in 1974. In 1975 he did his LLB from Pabna Shaheed Aminuddin Law College and out of 103 candidates only he passed and obtained Higher Second Class in that examination.\n",
      "\n",
      "He was involved in politics during his student life. He served as the General Secretary of Pabna Edward College Chhatra League in 1967-68, Vice-President of Undivided Pabna District Chhatra League in 1969-70 and President of Pabna District Chhatra League in 1970-73. Mr. Mohammed Shahabuddin was one of the flag hoisters of Bangladesh at the Pabna Town Hall Maidan on March 23, 1971. He served as the convener of Pabna District Shadhin Bangla Chatra Sangram Parishad.\n",
      "\n",
      "Mr. Mohammed Shahabuddin actively participated in the great Liberation War in 1971 as a member of ‘Mujib Bahini’.\n",
      "\n",
      "He was President of Pabna District Jubo League in 1974. In 1975, when the Bangladesh Krishak-Sramik-Awami League (BAKSAL) was formed, Father of the Nation Bangabandhu Sheikh Mujibur Rahman nominated him as the joint secretary of Pabna District BAKSAL.\n",
      "\n",
      "Mr. Mohammed Shahabuddin led a procession in Pabna protesting the brutal assassination of Father of the Nation Bangabandhu Sheikh Mujibur Rahman on August 15, 1975. Later he was arrested on August 20 and was tortured in an army camp for three months. He was sent to jail and was released in 1978 after three years of imprisonment. He was elected Publicity Secretary of Pabna District Awami League in 1980.\n",
      "\n",
      "Mr. Mohammed Shahabuddin was a member of Pabna District Lawyers Association. He joined Bangladesh Civil Service (Judicial) Cadre in 1982. He was elected Secretary General of Bangladesh Judicial Service Association in 1995-1996. He stood first in both in-service training workshops for Additional District Judges and District Judges. He also served as the Chairman of the Labor Court. He was appointed by Ministry of Law as a coordinator for the Bangabandhu murder case.\n",
      "\n",
      "Mohammed Shahabuddin retired as District and Sessions Judge in 2006 and returned to the law profession by joining the High Court Division of Bangladesh Supreme Court. He was the head of the investigation commission known as ‘Shahabuddin Commission’ formed for investigation of the incidents of attacks, murders, rapes and arson on the leaders and activists of Awami League and its allied organizations, and the people of the minority community during the BNP-Jamaat coalition government after the general election in 2001. The report of this commission was published in the official gazette.\n",
      "\n",
      "Mohammed Shahabuddin served as Commissioner of Anti-Corruption Commission (ACC) from 2011 to 2016. At that time, the World Bank brought charges of corruption in the Padma Bridge construction project. Mr. Mohammed Shahabuddin played a strong role when the government assigned the ACC to investigate the matter and was able to disprove the World Bank's allegations. The Ontario Court of Justice of Toronto, Canada fully supported his investigation report while settling the case.\n",
      "\n",
      "Mr. Mohammed Shahabuddin was elected as a member of Bangladesh Awami League Advisory Council in January 2020. He also served as the Chairman of the Publicity and Publication Sub-Committee of the Awami League.\n",
      "\n",
      "Mr. Shahabuddin served as President of Pabna Development Foundation. After independence, he was the General Secretary of Pabna District Red Crescent Society from 1972-1974 and the Treasurer of Pabna District Family Planning Society from 1973-1974. He is a life member of Pabna Press Club, Annada Govinda Public Library and Banamali Shilpacharcha Kendra.\n",
      "\n",
      "Mr. Mohammed Shahabuddin's wife Dr. Rebeka Sultana retired as Joint Secretary to the Government in 2009. She is currently working as a professor and director of a private university. Md. Arshad Adnan is their only child. His twin grandsons Tahsin Md. Adnan and Tahmid Md. Adnan are studying in A-level.\n",
      "\n",
      "His favorite hobbies are travelling, reading books and listening music.\n"
     ]
    }
   ],
   "source": [
    "file_path ='large_file.txt'\n",
    "for i in read_large_file(file_path):\n",
    "    print(i.strip())"
   ]
  },
  {
   "cell_type": "code",
   "execution_count": null,
   "id": "280bcaf7",
   "metadata": {},
   "outputs": [],
   "source": []
  }
 ],
 "metadata": {
  "kernelspec": {
   "display_name": "Python 3",
   "language": "python",
   "name": "python3"
  },
  "language_info": {
   "codemirror_mode": {
    "name": "ipython",
    "version": 3
   },
   "file_extension": ".py",
   "mimetype": "text/x-python",
   "name": "python",
   "nbconvert_exporter": "python",
   "pygments_lexer": "ipython3",
   "version": "3.12.0"
  }
 },
 "nbformat": 4,
 "nbformat_minor": 5
}
