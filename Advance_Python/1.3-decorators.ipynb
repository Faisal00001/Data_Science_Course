{
 "cells": [
  {
   "cell_type": "code",
   "execution_count": 1,
   "id": "7f7504b2",
   "metadata": {},
   "outputs": [
    {
     "name": "stdout",
     "output_type": "stream",
     "text": [
      "Hi\n"
     ]
    }
   ],
   "source": [
    "print('Hi')"
   ]
  },
  {
   "cell_type": "code",
   "execution_count": 15,
   "id": "df5ceba0",
   "metadata": {},
   "outputs": [
    {
     "name": "stdout",
     "output_type": "stream",
     "text": [
      "Welcome to the python course\n"
     ]
    }
   ],
   "source": [
    "#function copy\n",
    "def welcome():\n",
    "    return 'Welcome to the python course'\n",
    "\n",
    "wel = welcome\n",
    "print(wel())\n",
    "\n",
    " "
   ]
  },
  {
   "cell_type": "code",
   "execution_count": 16,
   "id": "bfe730e3",
   "metadata": {},
   "outputs": [],
   "source": [
    "del welcome"
   ]
  },
  {
   "cell_type": "code",
   "execution_count": 17,
   "id": "1e8ceff8",
   "metadata": {},
   "outputs": [
    {
     "name": "stdout",
     "output_type": "stream",
     "text": [
      "Welcome to the python course\n"
     ]
    }
   ],
   "source": [
    "print(wel())"
   ]
  },
  {
   "cell_type": "code",
   "execution_count": 25,
   "id": "9985bf79",
   "metadata": {},
   "outputs": [],
   "source": [
    "#Closures \n",
    "#Functioin inside a function\n",
    "def main_welcome(msg):\n",
    "     \n",
    "    def sub_welcome_method():\n",
    "        print(\"Welcome to the advance python course\")\n",
    "        print(msg)\n",
    "    return sub_welcome_method()"
   ]
  },
  {
   "cell_type": "code",
   "execution_count": 26,
   "id": "dbea62f8",
   "metadata": {},
   "outputs": [
    {
     "name": "stdout",
     "output_type": "stream",
     "text": [
      "Welcome to the advance python course\n",
      "Welcome Faisal\n"
     ]
    }
   ],
   "source": [
    "main_welcome('Welcome Faisal')"
   ]
  },
  {
   "cell_type": "code",
   "execution_count": 27,
   "id": "a228d338",
   "metadata": {},
   "outputs": [],
   "source": [
    "def main_welcome(fun):\n",
    "     \n",
    "    def sub_welcome_method():\n",
    "        print(\"Welcome to the advance python course\")\n",
    "        fun(\"Welcome everyone to this tutorial\")\n",
    "    return sub_welcome_method()"
   ]
  },
  {
   "cell_type": "code",
   "execution_count": 28,
   "id": "c5c6e4f4",
   "metadata": {},
   "outputs": [
    {
     "name": "stdout",
     "output_type": "stream",
     "text": [
      "Welcome to the advance python course\n",
      "Welcome everyone to this tutorial\n"
     ]
    }
   ],
   "source": [
    "main_welcome(print)"
   ]
  },
  {
   "cell_type": "code",
   "execution_count": 30,
   "id": "f0d58e4a",
   "metadata": {},
   "outputs": [],
   "source": [
    "def main_welcome(fun,lst):\n",
    "     \n",
    "    def sub_welcome_method():\n",
    "        print(\"Welcome to the advance python course\")\n",
    "        print(fun(lst))\n",
    "    return sub_welcome_method()"
   ]
  },
  {
   "cell_type": "code",
   "execution_count": 32,
   "id": "60f57420",
   "metadata": {},
   "outputs": [
    {
     "name": "stdout",
     "output_type": "stream",
     "text": [
      "Welcome to the advance python course\n",
      "5\n"
     ]
    }
   ],
   "source": [
    "main_welcome(len,[1,2,3,4,5])"
   ]
  },
  {
   "cell_type": "code",
   "execution_count": 44,
   "id": "23b7d094",
   "metadata": {},
   "outputs": [],
   "source": [
    "#Decorators\n",
    "def main_welcome(fun):\n",
    "     \n",
    "    def sub_welcome_method():\n",
    "        print(\"Welcome to the advance python course\")\n",
    "        fun()\n",
    "    return sub_welcome_method()"
   ]
  },
  {
   "cell_type": "code",
   "execution_count": 45,
   "id": "0c0174fc",
   "metadata": {},
   "outputs": [],
   "source": [
    "def course_introduction():\n",
    "    print('This is an advanced python course')\n",
    "# course_introduction()\n",
    "    "
   ]
  },
  {
   "cell_type": "code",
   "execution_count": null,
   "id": "1c34fd1b",
   "metadata": {},
   "outputs": [],
   "source": []
  },
  {
   "cell_type": "code",
   "execution_count": 46,
   "id": "79d3242c",
   "metadata": {},
   "outputs": [
    {
     "name": "stdout",
     "output_type": "stream",
     "text": [
      "Welcome to the advance python course\n",
      "This is an advanced python course\n"
     ]
    }
   ],
   "source": [
    "main_welcome(course_introduction)"
   ]
  },
  {
   "cell_type": "code",
   "execution_count": 47,
   "id": "a4bb9d82",
   "metadata": {},
   "outputs": [],
   "source": [
    "def main_welcome(fun):\n",
    "     \n",
    "    def sub_welcome_method():\n",
    "        print(\"Welcome to the advance python course\")\n",
    "        fun()\n",
    "    return sub_welcome_method()"
   ]
  },
  {
   "cell_type": "code",
   "execution_count": 48,
   "id": "e9339883",
   "metadata": {},
   "outputs": [],
   "source": [
    "def course_introduction():\n",
    "    print('This is an advanced python course')"
   ]
  },
  {
   "cell_type": "code",
   "execution_count": null,
   "id": "f6add702",
   "metadata": {},
   "outputs": [
    {
     "name": "stdout",
     "output_type": "stream",
     "text": [
      "Welcome to the advance python course\n",
      "This is an advanced python course\n"
     ]
    }
   ],
   "source": [
    "@main_welcome\n",
    "def course_introduction(): # This goes as paprameter\n",
    "    print('This is an advanced python course')\n"
   ]
  },
  {
   "cell_type": "code",
   "execution_count": 50,
   "id": "7e30a293",
   "metadata": {},
   "outputs": [],
   "source": [
    "def my_decorator(fun):\n",
    "    def wrapper():\n",
    "        print('Something is happening before the function called')\n",
    "        fun()\n",
    "        print('Something is happening after the function called')\n",
    "    return wrapper\n"
   ]
  },
  {
   "cell_type": "code",
   "execution_count": 51,
   "id": "152f6a38",
   "metadata": {},
   "outputs": [],
   "source": [
    "@my_decorator\n",
    "def say_hello():\n",
    "    print('Hello!')"
   ]
  },
  {
   "cell_type": "code",
   "execution_count": 52,
   "id": "394d5a73",
   "metadata": {},
   "outputs": [
    {
     "name": "stdout",
     "output_type": "stream",
     "text": [
      "Something is happening before the function called\n",
      "Hello!\n",
      "Something is happening after the function called\n"
     ]
    }
   ],
   "source": [
    "say_hello()"
   ]
  },
  {
   "cell_type": "code",
   "execution_count": 54,
   "id": "418ee2b6",
   "metadata": {},
   "outputs": [],
   "source": [
    "def repeat(n):\n",
    "    def decorator(func):\n",
    "        def wrapper(*args,**kwargs):\n",
    "            for _ in range(n):\n",
    "                func(*args,**kwargs)\n",
    "        return wrapper\n",
    "    return decorator"
   ]
  },
  {
   "cell_type": "code",
   "execution_count": 55,
   "id": "101fb641",
   "metadata": {},
   "outputs": [],
   "source": [
    "@repeat(3)\n",
    "def say_hello():\n",
    "    print('Hello')"
   ]
  },
  {
   "cell_type": "code",
   "execution_count": 56,
   "id": "386246e7",
   "metadata": {},
   "outputs": [
    {
     "name": "stdout",
     "output_type": "stream",
     "text": [
      "Hello\n",
      "Hello\n",
      "Hello\n"
     ]
    }
   ],
   "source": [
    "say_hello()"
   ]
  },
  {
   "cell_type": "code",
   "execution_count": 57,
   "id": "4d647d4d",
   "metadata": {},
   "outputs": [],
   "source": [
    "def repeat(n):\n",
    "    def decorator(func):\n",
    "        def wrapper(*args, **kwargs):\n",
    "            for _ in range(n):\n",
    "                func(*args, **kwargs)\n",
    "        return wrapper\n",
    "    return decorator\n",
    "\n",
    "@repeat(2)\n",
    "def introduce(name, age, city=\"Unknown\"):\n",
    "    print(f\"My name is {name}, I am {age} years old, and I live in {city}.\")\n"
   ]
  },
  {
   "cell_type": "code",
   "execution_count": 58,
   "id": "cd6906e1",
   "metadata": {},
   "outputs": [
    {
     "name": "stdout",
     "output_type": "stream",
     "text": [
      "My name is Faisal, I am 25 years old, and I live in Dhaka.\n",
      "My name is Faisal, I am 25 years old, and I live in Dhaka.\n"
     ]
    }
   ],
   "source": [
    "introduce(\"Faisal\", 25, city=\"Dhaka\")"
   ]
  },
  {
   "cell_type": "code",
   "execution_count": null,
   "id": "6be1a53e",
   "metadata": {},
   "outputs": [],
   "source": []
  }
 ],
 "metadata": {
  "kernelspec": {
   "display_name": "Python 3",
   "language": "python",
   "name": "python3"
  },
  "language_info": {
   "codemirror_mode": {
    "name": "ipython",
    "version": 3
   },
   "file_extension": ".py",
   "mimetype": "text/x-python",
   "name": "python",
   "nbconvert_exporter": "python",
   "pygments_lexer": "ipython3",
   "version": "3.12.0"
  }
 },
 "nbformat": 4,
 "nbformat_minor": 5
}
