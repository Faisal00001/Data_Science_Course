{
 "cells": [
  {
   "cell_type": "code",
   "execution_count": 1,
   "id": "b74b5102",
   "metadata": {},
   "outputs": [
    {
     "name": "stdout",
     "output_type": "stream",
     "text": [
      "Hi\n"
     ]
    }
   ],
   "source": [
    "print('Hi')"
   ]
  },
  {
   "cell_type": "code",
   "execution_count": 6,
   "id": "b82a8246",
   "metadata": {},
   "outputs": [
    {
     "name": "stdout",
     "output_type": "stream",
     "text": [
      "[[ 2  9 15 33]\n",
      " [16  4 14 84]\n",
      " [50 71 49 64]\n",
      " [49 82 49 25]\n",
      " [55 58 57 51]\n",
      " [41 25  0 19]]\n",
      "     B   C   D\n",
      "2    9  15  33\n",
      "16   4  14  84\n",
      "50  71  49  64\n",
      "49  82  49  25\n",
      "55  58  57  51\n",
      "41  25   0  19\n"
     ]
    }
   ],
   "source": [
    "import pandas as pd\n",
    "import numpy as np\n",
    "data = np.random.randint(0, 100, size=(6, 4))\n",
    "print(data)\n",
    "df = pd.DataFrame(data[:,1:], index=data[:,0],columns=[\"B\",\"C\",\"D\"])\n",
    "print(df)\n"
   ]
  },
  {
   "cell_type": "code",
   "execution_count": 9,
   "id": "0e16984e",
   "metadata": {},
   "outputs": [
    {
     "name": "stdout",
     "output_type": "stream",
     "text": [
      "    A   B   C\n",
      "X  62  49  76\n",
      "Y  61  43  88\n",
      "Z  92  72  84\n",
      "\n",
      "Element at row 'Y' and column 'B': 43\n"
     ]
    }
   ],
   "source": [
    "# Create a Pandas DataFrame with columns 'A', 'B', 'C' and index 'X', 'Y', 'Z'. \n",
    "# Fill the DataFrame with random integers and access the element at row 'Y' and column 'B'.\n",
    "df = pd.DataFrame(np.random.randint(1,100,size=(3,3)),columns=[\"A\",\"B\",\"C\"],index=[\"X\",\"Y\",\"Z\"])\n",
    "print(df)\n",
    "print(\"\\nElement at row 'Y' and column 'B':\", df.loc['Y', 'B'])\n"
   ]
  },
  {
   "cell_type": "code",
   "execution_count": 18,
   "id": "557410a2",
   "metadata": {},
   "outputs": [
    {
     "name": "stdout",
     "output_type": "stream",
     "text": [
      "   0  1  2  3  4\n",
      "0  4  7  3  6  5\n",
      "1  4  2  7  7  4\n",
      "2  7  8  9  2  3\n",
      "First column\n",
      "0    4\n",
      "1    4\n",
      "2    7\n",
      "Name: 0, dtype: int32\n",
      "Second Column\n",
      "0    7\n",
      "1    2\n",
      "2    8\n",
      "Name: 1, dtype: int32\n",
      "0    28\n",
      "1     8\n",
      "2    56\n",
      "dtype: int32\n",
      "After addition\n",
      "   0  1  2  3  4   5\n",
      "0  4  7  3  6  5  28\n",
      "1  4  2  7  7  4   8\n",
      "2  7  8  9  2  3  56\n"
     ]
    }
   ],
   "source": [
    "# Create a Pandas DataFrame with 3 columns and 5 rows filled with random integers. \n",
    "# Add a new column that is the product of the first two columns.\n",
    "df = pd.DataFrame(np.random.randint(0,10,size=(3,5)))\n",
    "print(df)\n",
    "print('First column')\n",
    "print(df[0])\n",
    "print('Second Column')\n",
    "print(df[1])\n",
    "df_new = df[0]*df[1]\n",
    "print(df_new)\n",
    "df[5]= df_new\n",
    "print('After addition')\n",
    "print(df)"
   ]
  },
  {
   "cell_type": "code",
   "execution_count": 22,
   "id": "b9f67e1d",
   "metadata": {},
   "outputs": [
    {
     "name": "stdout",
     "output_type": "stream",
     "text": [
      "Orginal Df\n",
      "   A  B  C\n",
      "0  6  8  6\n",
      "1  3  1  5\n",
      "2  1  1  3\n",
      "3  4  9  4\n",
      "Column Sum\n",
      "A    14\n",
      "B    19\n",
      "C    18\n",
      "dtype: int64\n",
      "Row Sum\n",
      "0    20\n",
      "1     9\n",
      "2     5\n",
      "3    17\n",
      "dtype: int64\n"
     ]
    }
   ],
   "source": [
    "# Create a Pandas DataFrame with 3 columns and 4 rows filled with random integers.\n",
    "#  Compute the row-wise and column-wise sum.\n",
    "df = pd.DataFrame(np.random.randint(1, 10, size=(4, 3)), columns=['A', 'B', 'C'])\n",
    "print('Orginal Df')\n",
    "print(df)\n",
    "\n",
    "col_sum = df.sum()\n",
    "print('Column Sum')\n",
    "print(col_sum)\n",
    "\n",
    "row_sum = df.sum(axis=1)\n",
    "print('Row Sum')\n",
    "print(row_sum)\n"
   ]
  },
  {
   "cell_type": "code",
   "execution_count": 32,
   "id": "6437ac3b",
   "metadata": {},
   "outputs": [
    {
     "name": "stdout",
     "output_type": "stream",
     "text": [
      "Df with null values\n",
      "   A    B    C\n",
      "0  8  3.0  8.0\n",
      "1  6  7.0  7.0\n",
      "2  5  NaN  4.0\n",
      "3  3  4.0  NaN\n",
      "4  4  5.0  NaN\n",
      "\n",
      "DataFrame after filling NaN with column means:\n",
      "   A     B         C\n",
      "0  8  3.00  8.000000\n",
      "1  6  7.00  7.000000\n",
      "2  5  4.75  4.000000\n",
      "3  3  4.00  6.333333\n",
      "4  4  5.00  6.333333\n",
      "\n",
      "Column means used for filling:\n",
      "A    5.200000\n",
      "B    4.750000\n",
      "C    6.333333\n",
      "dtype: float64\n"
     ]
    }
   ],
   "source": [
    "# Create a Pandas DataFrame with 3 columns and 5 rows filled with random integers.\n",
    "#  Introduce some NaN values. Fill the NaN values with the mean of the respective columns.\n",
    "\n",
    "df = pd.DataFrame(np.random.randint(1,10,size=(5,3)),columns=[\"A\",\"B\",\"C\"])\n",
    "# print(np.random.choice(['A','B','C']))\n",
    "for _ in range(3):\n",
    "    row = np.random.randint(0,5)\n",
    "    col = np.random.choice([\"A\",\"B\",\"C\"])\n",
    "    df.loc[row,col] = np.nan\n",
    "print('Df with null values')\n",
    "print(df)\n",
    "df_filled = df.fillna(df.mean())\n",
    "print(\"\\nDataFrame after filling NaN with column means:\")\n",
    "print(df_filled)\n",
    "\n",
    "# Show column means for verification\n",
    "print(\"\\nColumn means used for filling:\")\n",
    "print(df.mean())"
   ]
  },
  {
   "cell_type": "code",
   "execution_count": null,
   "id": "2cfeeb65",
   "metadata": {},
   "outputs": [
    {
     "name": "stdout",
     "output_type": "stream",
     "text": [
      "DatetimeIndex(['2021-01-01', '2021-01-02', '2021-01-03', '2021-01-04',\n",
      "               '2021-01-05', '2021-01-06', '2021-01-07', '2021-01-08',\n",
      "               '2021-01-09', '2021-01-10',\n",
      "               ...\n",
      "               '2021-12-22', '2021-12-23', '2021-12-24', '2021-12-25',\n",
      "               '2021-12-26', '2021-12-27', '2021-12-28', '2021-12-29',\n",
      "               '2021-12-30', '2021-12-31'],\n",
      "              dtype='datetime64[ns]', length=365, freq='D')\n"
     ]
    }
   ],
   "source": [
    "# Create a Pandas DataFrame with a datetime index ranging from '2021-01-01' to '2021-12-31'\n",
    "#  and one column filled with random integers.\n",
    "#  Compute the rolling mean with a window of 7 days.\n",
    "dates = pd.date_range('2021-01-01','2021-12-31')\n",
    "print(dates)\n",
    "df = pd.DataFrame(len(dates),3)\n"
   ]
  },
  {
   "cell_type": "code",
   "execution_count": null,
   "id": "088ed701",
   "metadata": {},
   "outputs": [],
   "source": []
  }
 ],
 "metadata": {
  "kernelspec": {
   "display_name": "Python 3",
   "language": "python",
   "name": "python3"
  },
  "language_info": {
   "codemirror_mode": {
    "name": "ipython",
    "version": 3
   },
   "file_extension": ".py",
   "mimetype": "text/x-python",
   "name": "python",
   "nbconvert_exporter": "python",
   "pygments_lexer": "ipython3",
   "version": "3.12.0"
  }
 },
 "nbformat": 4,
 "nbformat_minor": 5
}
