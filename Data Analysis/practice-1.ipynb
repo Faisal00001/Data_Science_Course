{
 "cells": [
  {
   "cell_type": "code",
   "execution_count": 1,
   "id": "6458927d",
   "metadata": {},
   "outputs": [],
   "source": [
    "## check"
   ]
  },
  {
   "cell_type": "code",
   "execution_count": 1,
   "id": "11b6843b",
   "metadata": {},
   "outputs": [
    {
     "data": {
      "text/plain": [
       "array([[ 6, 15,  7, 20, 12],\n",
       "       [ 8, 16, 12,  6,  9],\n",
       "       [17,  5,  2, 15,  5],\n",
       "       [15, 16, 16, 18,  8],\n",
       "       [ 5, 18,  3,  9,  8]], dtype=int32)"
      ]
     },
     "execution_count": 1,
     "metadata": {},
     "output_type": "execute_result"
    }
   ],
   "source": [
    "import numpy as np\n",
    "\n",
    "arr =np.random.randint(1,21,size=(5,5))\n",
    "\n",
    "arr"
   ]
  },
  {
   "cell_type": "code",
   "execution_count": 2,
   "id": "5dc4ce31",
   "metadata": {},
   "outputs": [
    {
     "name": "stdout",
     "output_type": "stream",
     "text": [
      "[[ 6 15  1 20 12]\n",
      " [ 8 16  1  6  9]\n",
      " [17  5  1 15  5]\n",
      " [15 16  1 18  8]\n",
      " [ 5 18  1  9  8]]\n"
     ]
    }
   ],
   "source": [
    "arr[:,2] = 1\n",
    "print(arr)"
   ]
  },
  {
   "cell_type": "code",
   "execution_count": 3,
   "id": "d508cb42",
   "metadata": {},
   "outputs": [
    {
     "data": {
      "text/plain": [
       "array([[ 1,  2,  3,  4],\n",
       "       [ 5,  6,  7,  8],\n",
       "       [ 9, 10, 11, 12],\n",
       "       [13, 14, 15, 16]])"
      ]
     },
     "execution_count": 3,
     "metadata": {},
     "output_type": "execute_result"
    }
   ],
   "source": [
    "arr2 = np.arange(1,17).reshape(4,4)\n",
    "arr2"
   ]
  },
  {
   "cell_type": "code",
   "execution_count": 4,
   "id": "3da57aed",
   "metadata": {},
   "outputs": [
    {
     "data": {
      "text/plain": [
       "array([[ 0,  2,  3,  4],\n",
       "       [ 5,  0,  7,  8],\n",
       "       [ 9, 10,  0, 12],\n",
       "       [13, 14, 15,  0]])"
      ]
     },
     "execution_count": 4,
     "metadata": {},
     "output_type": "execute_result"
    }
   ],
   "source": [
    "np.fill_diagonal(arr2,0)\n",
    "arr2"
   ]
  },
  {
   "cell_type": "code",
   "execution_count": 5,
   "id": "abc6a621",
   "metadata": {},
   "outputs": [
    {
     "data": {
      "text/plain": [
       "array([[ 1,  2,  3,  4,  5,  6],\n",
       "       [ 7,  8,  9, 10, 11, 12],\n",
       "       [13, 14, 15, 16, 17, 18],\n",
       "       [19, 20, 21, 22, 23, 24],\n",
       "       [25, 26, 27, 28, 29, 30],\n",
       "       [31, 32, 33, 34, 35, 36]])"
      ]
     },
     "execution_count": 5,
     "metadata": {},
     "output_type": "execute_result"
    }
   ],
   "source": [
    "# Create a NumPy array of shape (6, 6) with values from 1 to 36. \n",
    "# Extract the sub-array consisting of the 3rd to 5th rows and 2nd to 4th columns.\n",
    "\n",
    "arr = np.arange(1,37).reshape(6,6)\n",
    "arr\n"
   ]
  },
  {
   "cell_type": "code",
   "execution_count": 6,
   "id": "05f2c204",
   "metadata": {},
   "outputs": [
    {
     "data": {
      "text/plain": [
       "array([[14, 15, 16],\n",
       "       [20, 21, 22],\n",
       "       [26, 27, 28]])"
      ]
     },
     "execution_count": 6,
     "metadata": {},
     "output_type": "execute_result"
    }
   ],
   "source": [
    "arr2 = arr[2:5,1:4]\n",
    "arr2"
   ]
  },
  {
   "cell_type": "code",
   "execution_count": 7,
   "id": "6170c7a9",
   "metadata": {},
   "outputs": [
    {
     "data": {
      "text/plain": [
       "array([[41, 32,  5, 93, 76],\n",
       "       [13, 51, 71, 17, 46],\n",
       "       [97, 60, 40, 73, 13],\n",
       "       [41, 88, 19, 11, 94],\n",
       "       [26, 49, 52, 20, 28]], dtype=int32)"
      ]
     },
     "execution_count": 7,
     "metadata": {},
     "output_type": "execute_result"
    }
   ],
   "source": [
    "# Create a NumPy array of shape (5, 5) with random integers. Extract the elements on the border.\n",
    "arr = np.random.randint(1,101,size=(5,5))\n",
    "arr"
   ]
  },
  {
   "cell_type": "code",
   "execution_count": 8,
   "id": "dad7c3d9",
   "metadata": {},
   "outputs": [
    {
     "name": "stdout",
     "output_type": "stream",
     "text": [
      "Array\n",
      "[[41 32  5 93 76]\n",
      " [13 51 71 17 46]\n",
      " [97 60 40 73 13]\n",
      " [41 88 19 11 94]\n",
      " [26 49 52 20 28]]\n",
      "\n",
      " Border elements\n",
      "[41 32  5 93 76 26 49 52 20 28 13 97 41 46 13 94]\n"
     ]
    }
   ],
   "source": [
    "# Extract the elements on the border\n",
    "border_elements = np.concatenate((arr[0, :], arr[-1, :], arr[1:-1, 0], arr[1:-1, -1]))\n",
    "print(\"Array\")\n",
    "print(arr)\n",
    "print(\"\\n Border elements\")\n",
    "print(border_elements)\n"
   ]
  },
  {
   "cell_type": "code",
   "execution_count": 9,
   "id": "67fbc60e",
   "metadata": {},
   "outputs": [
    {
     "name": "stdout",
     "output_type": "stream",
     "text": [
      "[[80 25 83 56]\n",
      " [61 43 56  2]\n",
      " [74  5 57 68]]\n",
      "[[22 51 66 29]\n",
      " [88 30  8 45]\n",
      " [29 35 14 50]]\n",
      "Addition\n",
      "[[102  76 149  85]\n",
      " [149  73  64  47]\n",
      " [103  40  71 118]]\n",
      "Subtraction\n",
      "[[ 58 -26  17  27]\n",
      " [-27  13  48 -43]\n",
      " [ 45 -30  43  18]]\n",
      "Multiplication\n",
      "[[1760 1275 5478 1624]\n",
      " [5368 1290  448   90]\n",
      " [2146  175  798 3400]]\n",
      "\n",
      "Division:\n",
      "[[3.63636364 0.49019608 1.25757576 1.93103448]\n",
      " [0.69318182 1.43333333 7.         0.04444444]\n",
      " [2.55172414 0.14285714 4.07142857 1.36      ]]\n"
     ]
    }
   ],
   "source": [
    "# Create two NumPy arrays of shape (3, 4) filled with random integers. \n",
    "# Perform element-wise addition, subtraction, multiplication, and division.\n",
    "\n",
    "arr1 = np.random.randint(1,101,size=(3,4))\n",
    "arr2 = np.random.randint(1,101,size=(3,4))\n",
    "print(arr1)\n",
    "print(arr2)\n",
    "print('Addition')\n",
    "print(arr1+arr2)\n",
    "print('Subtraction')\n",
    "print(arr1-arr2)\n",
    "print('Multiplication')\n",
    "print(arr1*arr2)\n",
    "print(\"\\nDivision:\")\n",
    "# Using np.divide to avoid division by zero errors\n",
    "print(np.divide(arr1, arr2))\n",
    "\n"
   ]
  },
  {
   "cell_type": "code",
   "execution_count": 10,
   "id": "ded923d7",
   "metadata": {},
   "outputs": [
    {
     "name": "stdout",
     "output_type": "stream",
     "text": [
      "Array\n",
      "[[ 1  2  3  4]\n",
      " [ 5  6  7  8]\n",
      " [ 9 10 11 12]\n",
      " [13 14 15 16]]\n",
      "Row sum\n",
      "[10 26 42 58]\n",
      "Column Sum\n",
      "[28 32 36 40]\n"
     ]
    }
   ],
   "source": [
    "# Create a NumPy array of shape (4, 4) with values from 1 to 16. Compute the row-wise and column-wise sum.\n",
    "arr = np.arange(1,17).reshape(4,4)\n",
    "print('Array')\n",
    "print(arr)\n",
    "row_sum = np.sum(arr,axis=1)\n",
    "print('Row sum')\n",
    "print(row_sum)\n",
    "print('Column Sum')\n",
    "col_sum = np.sum(arr,axis=0)\n",
    "print(col_sum)"
   ]
  },
  {
   "cell_type": "code",
   "execution_count": 11,
   "id": "b98e7784",
   "metadata": {},
   "outputs": [
    {
     "name": "stdout",
     "output_type": "stream",
     "text": [
      "Mean\n",
      "44.56\n",
      "Standard deviation\n",
      "31.512638734323726\n",
      "Variance\n",
      "993.0464\n"
     ]
    }
   ],
   "source": [
    "# Create a NumPy array of shape (5, 5) filled with random integers.\n",
    "#  Compute the mean, median, standard deviation, and variance of the array.\n",
    "data = np.random.randint(1,101,size=(5,5))\n",
    "print('Mean')\n",
    "mean = np.mean(data)\n",
    "print(mean)\n",
    "print('Standard deviation')\n",
    "std_dev = np.std(data)\n",
    "print(std_dev)\n",
    "print('Variance')\n",
    "variance = np.var(data)\n",
    "print(variance)"
   ]
  },
  {
   "cell_type": "code",
   "execution_count": 12,
   "id": "89d376d6",
   "metadata": {},
   "outputs": [
    {
     "name": "stdout",
     "output_type": "stream",
     "text": [
      "Normalized Data:\n",
      "[[-1.54919334 -1.161895   -0.77459667]\n",
      " [-0.38729833  0.          0.38729833]\n",
      " [ 0.77459667  1.161895    1.54919334]]\n"
     ]
    }
   ],
   "source": [
    "# Create a NumPy array of shape (3, 3) with values from 1 to 9. \n",
    "# Normalize the array (i.e., scale the values to have a mean of 0 and a standard deviation of 1).\n",
    "# Create a 3x3 array with values from 1 to 9\n",
    "data = np.arange(1, 10).reshape(3, 3)\n",
    "\n",
    "# Compute the mean and standard deviation\n",
    "mean = np.mean(data)\n",
    "std_dev = np.std(data)\n",
    "\n",
    "# Normalize the array\n",
    "normalized_data = (data - mean) / std_dev\n",
    "\n",
    "print(\"Normalized Data:\")\n",
    "print(normalized_data)\n"
   ]
  },
  {
   "cell_type": "code",
   "execution_count": 13,
   "id": "1fc4bb06",
   "metadata": {},
   "outputs": [
    {
     "name": "stdout",
     "output_type": "stream",
     "text": [
      "[[10  1 11]\n",
      " [ 1  8 11]\n",
      " [15  5 18]]\n",
      "[[11  3 14]\n",
      " [ 2 10 14]\n",
      " [16  7 21]]\n"
     ]
    }
   ],
   "source": [
    "# Create a NumPy array of shape (3, 3) filled with random integers. \n",
    "# Add a 1D array of shape (3,) to each row of the 2D array using broadcasting.\n",
    "arr = np.random.randint(1,21,size=(3,3))\n",
    "print(arr)\n",
    "arr_1d = np.array([1,2,3])\n",
    "result = arr + arr_1d\n",
    "print(result)"
   ]
  },
  {
   "cell_type": "code",
   "execution_count": 14,
   "id": "5bdf9267",
   "metadata": {},
   "outputs": [
    {
     "name": "stdout",
     "output_type": "stream",
     "text": [
      "[[ 4  4 14  9]\n",
      " [17  9 13  9]\n",
      " [18  8  6 11]\n",
      " [12 11  4 15]]\n",
      "[[ 3  1 10  4]\n",
      " [16  6  9  4]\n",
      " [17  5  2  6]\n",
      " [11  8  0 10]]\n"
     ]
    }
   ],
   "source": [
    "# Create a NumPy array of shape (4, 4) filled with random integers.\n",
    "#  Subtract a 1D array of shape (4,) from each column of the 2D array using broadcasting.\n",
    "arr = np.random.randint(1,21,size=(4,4))\n",
    "print(arr)\n",
    "arr_1d = np.array([1,3,4,5])\n",
    "result = arr - arr_1d\n",
    "print(result)"
   ]
  },
  {
   "cell_type": "code",
   "execution_count": 15,
   "id": "6f36d5c3",
   "metadata": {},
   "outputs": [
    {
     "name": "stdout",
     "output_type": "stream",
     "text": [
      "Determinant\n",
      "207.99999999999997\n",
      "\n",
      "Inverse Matrix:\n",
      "[[-0.26923077  0.15384615  0.11538462]\n",
      " [-0.11538462 -0.07692308  0.19230769]\n",
      " [ 0.26442308  0.00961538 -0.14903846]]\n",
      "Eigenvlaues\n",
      "EigResult(eigenvalues=array([18.26331724+0.j        , -3.13165862+1.25764221j,\n",
      "       -3.13165862-1.25764221j]), eigenvectors=array([[ 0.498934  +0.j        , -0.17950501-0.3380345j ,\n",
      "        -0.17950501+0.3380345j ],\n",
      "       [ 0.54586308+0.j        , -0.68168587+0.j        ,\n",
      "        -0.68168587-0.j        ],\n",
      "       [ 0.67312581+0.j        ,  0.59433928+0.18861557j,\n",
      "         0.59433928-0.18861557j]]))\n"
     ]
    }
   ],
   "source": [
    "# Create a NumPy array of shape (3, 3) representing a matrix. \n",
    "# Compute its determinant, inverse, and eigenvalues.\n",
    "matrix = np.random.randint(1,10,size=(3,3))\n",
    "determinant = np.linalg.det(matrix)\n",
    "if determinant!=0:\n",
    "    inverse_matrix = np.linalg.inv(matrix)\n",
    "else:\n",
    "    inverse_matrix = None\n",
    "eigenvalues = np.linalg.eig(matrix)\n",
    "print('Determinant')\n",
    "print(determinant)\n",
    "if inverse_matrix is not None:\n",
    "    print(\"\\nInverse Matrix:\")\n",
    "    print(inverse_matrix)\n",
    "else:\n",
    "    print(\"\\nThe matrix is singular (non-invertible).\")\n",
    "print('Eigenvlaues')\n",
    "print(eigenvalues)"
   ]
  },
  {
   "cell_type": "code",
   "execution_count": 16,
   "id": "0c6536a6",
   "metadata": {},
   "outputs": [
    {
     "name": "stdout",
     "output_type": "stream",
     "text": [
      "Array 1 (Shape 2x3):\n",
      "[[1 4 6]\n",
      " [1 2 8]]\n",
      "\n",
      "Array 2 (Shape 3x2):\n",
      "[[3 4]\n",
      " [1 2]\n",
      " [9 7]]\n",
      "\n",
      "Matrix Multiplication Result (Shape 2x2):\n",
      "[[61 54]\n",
      " [77 64]]\n"
     ]
    }
   ],
   "source": [
    "# Create two NumPy arrays of shape (2, 3) and (3, 2). Perform matrix multiplication on these arrays.\n",
    "# Create two NumPy arrays with shapes (2, 3) and (3, 2)\n",
    "arr1 = np.random.randint(1, 10, size=(2, 3))\n",
    "arr2 = np.random.randint(1, 10, size=(3, 2))\n",
    "result = np.dot(arr1,arr2)\n",
    "# Print the arrays and the result\n",
    "print(\"Array 1 (Shape 2x3):\")\n",
    "print(arr1)\n",
    "\n",
    "print(\"\\nArray 2 (Shape 3x2):\")\n",
    "print(arr2)\n",
    "\n",
    "print(\"\\nMatrix Multiplication Result (Shape 2x2):\")\n",
    "print(result)"
   ]
  },
  {
   "cell_type": "code",
   "execution_count": 18,
   "id": "10c43a1e",
   "metadata": {},
   "outputs": [
    {
     "name": "stdout",
     "output_type": "stream",
     "text": [
      "[[1 2 3]\n",
      " [4 5 6]\n",
      " [7 8 9]]\n",
      "[[1 2 3 4 5 6 7 8 9]]\n",
      "[[1]\n",
      " [2]\n",
      " [3]\n",
      " [4]\n",
      " [5]\n",
      " [6]\n",
      " [7]\n",
      " [8]\n",
      " [9]]\n"
     ]
    }
   ],
   "source": [
    "# Create a NumPy array of shape (3, 3) with values from 1 to 9. \n",
    "# Reshape the array to shape (1, 9) and then to shape (9, 1).\n",
    "arr = np.arange(1,10).reshape(3,3)\n",
    "print(arr)\n",
    "arr_1x9 = arr.reshape(1, 9)\n",
    "print(arr_1x9)\n",
    "arr_9x1 = arr.reshape(9,1)\n",
    "print(arr_9x1)"
   ]
  },
  {
   "cell_type": "code",
   "execution_count": 23,
   "id": "2d6ac9a2",
   "metadata": {},
   "outputs": [
    {
     "name": "stdout",
     "output_type": "stream",
     "text": [
      "[[ 9  2 20 10 18]\n",
      " [ 4 18 11 17 11]\n",
      " [ 3  2 10  1 10]\n",
      " [15 11  7 11 17]\n",
      " [17 20  1 13 11]]\n",
      "Flatten Array\n",
      "[ 9  2 20 10 18  4 18 11 17 11  3  2 10  1 10 15 11  7 11 17 17 20  1 13\n",
      " 11]\n",
      "Convert Shape\n",
      "[[ 9  2 20 10 18]\n",
      " [ 4 18 11 17 11]\n",
      " [ 3  2 10  1 10]\n",
      " [15 11  7 11 17]\n",
      " [17 20  1 13 11]]\n"
     ]
    }
   ],
   "source": [
    "# Create a NumPy array of shape (5, 5) filled with random integers.\n",
    "#  Flatten the array and then reshape it back to (5, 5).\n",
    "arr = np.random.randint(1,21,size=(5,5))\n",
    "print(arr)\n",
    "flatten_array = arr.flatten()\n",
    "print('Flatten Array')\n",
    "print(flatten_array)\n",
    "convert_shape = flatten_array.reshape(5,5)\n",
    "print('Convert Shape')\n",
    "print(convert_shape)"
   ]
  },
  {
   "cell_type": "code",
   "execution_count": 25,
   "id": "5b8b28df",
   "metadata": {},
   "outputs": [
    {
     "name": "stdout",
     "output_type": "stream",
     "text": [
      "Original array:\n",
      " [[63 94 45 34 55]\n",
      " [ 4 94 17 28  1]\n",
      " [68 13 56  2 63]\n",
      " [66  3 72 61 60]\n",
      " [ 4 60 87 74 39]]\n",
      "\n",
      "Corners of the array: [63 55  4 39]\n"
     ]
    }
   ],
   "source": [
    "# Create a 5x5 array with random integers between 0 and 99\n",
    "arr = np.random.randint(0, 100, (5, 5))\n",
    "print(\"Original array:\\n\", arr)\n",
    "\n",
    "# Use fancy indexing to extract the four corners\n",
    "corners = arr[[0, 0, -1, -1], [0, -1, 0, -1]]\n",
    "print(\"\\nCorners of the array:\", corners)"
   ]
  },
  {
   "cell_type": "code",
   "execution_count": 27,
   "id": "202ba4e7",
   "metadata": {},
   "outputs": [
    {
     "name": "stdout",
     "output_type": "stream",
     "text": [
      "[[19  5 16 14]\n",
      " [19 11 20  7]\n",
      " [12 18  2 15]\n",
      " [ 8 17 19 13]]\n",
      "Modified array\n",
      "[[10  5 10 10]\n",
      " [10 10 10  7]\n",
      " [10 10  2 10]\n",
      " [ 8 10 10 10]]\n"
     ]
    }
   ],
   "source": [
    "# Create a NumPy array of shape (4, 4) filled with random integers. Use boolean indexing to set all elements greater than 10 to 10.\n",
    "\n",
    "arr = np.random.randint(1,21,size=(4,4))\n",
    "print(arr)\n",
    "arr[arr>10]=10\n",
    "print('Modified array')\n",
    "print(arr)"
   ]
  },
  {
   "cell_type": "code",
   "execution_count": 31,
   "id": "6950d4d6",
   "metadata": {},
   "outputs": [
    {
     "name": "stdout",
     "output_type": "stream",
     "text": [
      "Original array:\n",
      "[('Alice', 45, 55.5) ('Robin', 30, 85.6) ('Kamal', 70, 12.5)]\n",
      "[('Robin', 30, 85.6) ('Alice', 45, 55.5) ('Kamal', 70, 12.5)]\n"
     ]
    }
   ],
   "source": [
    "# Create a structured array with fields 'name' (string), 'age' (integer), and 'weight' (float). Add some data and sort the array by age.\n",
    "\n",
    "dtype = [('name','U10'),('age','i4'),('weight','f4')]\n",
    "data = np.array([\n",
    "    ('Alice',45,55.5),\n",
    "    ('Robin',30,85.6),\n",
    "    ('Kamal',70,12.5)\n",
    "],dtype)\n",
    "print(\"Original array:\")\n",
    "print(data)\n",
    "sorted_data = np.sort(data,order='age')\n",
    "print(sorted_data)"
   ]
  },
  {
   "cell_type": "code",
   "execution_count": 34,
   "id": "81e6b6e7",
   "metadata": {},
   "outputs": [
    {
     "name": "stdout",
     "output_type": "stream",
     "text": [
      "[24.59674775 31.78049716]\n"
     ]
    }
   ],
   "source": [
    "# Create a structured array with fields 'x' and 'y' (both integers). Add some data and compute the Euclidean distance between each pair of points.\n",
    "dtype =[('x','i4'),('y','i4')]\n",
    "data = np.array([\n",
    "    (10,12),\n",
    "    (32,23),\n",
    "    (45,52)\n",
    "],dtype)\n",
    "dx = np.diff(data['x'])\n",
    "dy = np.diff(data['y'])\n",
    "\n",
    "euclidean_distance = np.sqrt(dx**2+dy**2)\n",
    "print(euclidean_distance)"
   ]
  },
  {
   "cell_type": "code",
   "execution_count": null,
   "id": "6334dd01",
   "metadata": {},
   "outputs": [
    {
     "name": "stdout",
     "output_type": "stream",
     "text": [
      "Points:\n",
      " [(10, 12) (32, 23) (45, 52)]\n",
      "\n",
      "Euclidean distances between consecutive points:\n",
      "[24.59674775 31.78049716]\n"
     ]
    }
   ],
   "source": []
  },
  {
   "cell_type": "code",
   "execution_count": 36,
   "id": "883d839a",
   "metadata": {},
   "outputs": [
    {
     "name": "stdout",
     "output_type": "stream",
     "text": [
      "Original array:\n",
      " [[19  8  8  6]\n",
      " [ 3 17  4 15]\n",
      " [19 15  2  3]\n",
      " [13  4 11  9]]\n",
      "\n",
      "Masked array:\n",
      " [[-- 8 8 6]\n",
      " [3 -- 4 --]\n",
      " [-- -- 2 3]\n",
      " [-- 4 -- 9]]\n",
      "\n",
      "Sum of unmasked elements: 47\n"
     ]
    }
   ],
   "source": [
    "\n",
    "# Create a 4x4 array of random integers between 0 and 20\n",
    "arr = np.random.randint(0, 20, (4, 4))\n",
    "print(\"Original array:\\n\", arr)\n",
    "\n",
    "# Create a masked array where elements > 10 are masked\n",
    "masked_arr = np.ma.masked_greater(arr, 10)\n",
    "print(\"\\nMasked array:\\n\", masked_arr)\n",
    "\n",
    "# Compute the sum of the unmasked elements\n",
    "sum_unmasked = masked_arr.sum()\n",
    "print(\"\\nSum of unmasked elements:\", sum_unmasked)"
   ]
  },
  {
   "cell_type": "code",
   "execution_count": 38,
   "id": "b4e19cd4",
   "metadata": {},
   "outputs": [
    {
     "name": "stdout",
     "output_type": "stream",
     "text": [
      "Original array:\n",
      " [[ 4  0  9]\n",
      " [19 13  8]\n",
      " [ 5 12 11]]\n",
      "[[ True False False]\n",
      " [False  True False]\n",
      " [False False  True]]\n",
      "\n",
      "Masked array:\n",
      " [[-- 0 9]\n",
      " [19 -- 8]\n",
      " [5 12 --]]\n",
      "\n",
      "Mean of unmasked elements: 8.833333333333334\n",
      "\n",
      "Array after replacing masked elements with mean:\n",
      " [[ 8  0  9]\n",
      " [19  8  8]\n",
      " [ 5 12  8]]\n"
     ]
    }
   ],
   "source": [
    "# Step 1: Create a 3x3 array of random integers (0–20)\n",
    "arr = np.random.randint(0, 20, (3, 3))\n",
    "print(\"Original array:\\n\", arr)\n",
    "\n",
    "# Step 2: Mask the diagonal elements\n",
    "mask = np.eye(3, dtype=bool)  # True on the diagonal\n",
    "print(mask)\n",
    "masked_arr = np.ma.masked_array(arr, mask)\n",
    "print(\"\\nMasked array:\\n\", masked_arr)\n",
    "\n",
    "# Step 3: Compute mean of unmasked elements\n",
    "mean_unmasked = masked_arr.mean()\n",
    "print(\"\\nMean of unmasked elements:\", mean_unmasked)\n",
    "\n",
    "# Step 4: Replace masked (diagonal) elements with the mean\n",
    "arr[mask] = mean_unmasked\n",
    "print(\"\\nArray after replacing masked elements with mean:\\n\", arr)"
   ]
  },
  {
   "cell_type": "code",
   "execution_count": null,
   "id": "077a4e3f",
   "metadata": {},
   "outputs": [],
   "source": []
  }
 ],
 "metadata": {
  "kernelspec": {
   "display_name": "Python 3",
   "language": "python",
   "name": "python3"
  },
  "language_info": {
   "codemirror_mode": {
    "name": "ipython",
    "version": 3
   },
   "file_extension": ".py",
   "mimetype": "text/x-python",
   "name": "python",
   "nbconvert_exporter": "python",
   "pygments_lexer": "ipython3",
   "version": "3.12.0"
  }
 },
 "nbformat": 4,
 "nbformat_minor": 5
}
