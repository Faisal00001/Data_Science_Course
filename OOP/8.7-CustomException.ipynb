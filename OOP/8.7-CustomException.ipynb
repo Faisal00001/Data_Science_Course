{
 "cells": [
  {
   "cell_type": "code",
   "execution_count": 1,
   "id": "c5dd53bb",
   "metadata": {},
   "outputs": [
    {
     "name": "stdout",
     "output_type": "stream",
     "text": [
      "hi\n"
     ]
    }
   ],
   "source": [
    "print('hi')"
   ]
  },
  {
   "cell_type": "code",
   "execution_count": 2,
   "id": "cb4dfc64",
   "metadata": {},
   "outputs": [],
   "source": [
    "class Error(Exception):\n",
    "    pass\n",
    "class dobException(Error):\n",
    "    pass"
   ]
  },
  {
   "cell_type": "code",
   "execution_count": 9,
   "id": "5c9ebbec",
   "metadata": {},
   "outputs": [
    {
     "name": "stdout",
     "output_type": "stream",
     "text": [
      "Age is valid so you can for the exam\n"
     ]
    }
   ],
   "source": [
    "year = int(input('Enter the dob'))\n",
    "age = 2025 - year\n",
    "try:\n",
    "    if age<=30 and age>=20:\n",
    "        print('Age is valid so you can for the exam')\n",
    "    else:\n",
    "        raise dobException\n",
    "except dobException:\n",
    "    print('Sorry your age should be greater then 20 or less then 30')"
   ]
  },
  {
   "cell_type": "code",
   "execution_count": null,
   "id": "b01e39d6",
   "metadata": {},
   "outputs": [],
   "source": []
  }
 ],
 "metadata": {
  "kernelspec": {
   "display_name": "Python 3",
   "language": "python",
   "name": "python3"
  },
  "language_info": {
   "codemirror_mode": {
    "name": "ipython",
    "version": 3
   },
   "file_extension": ".py",
   "mimetype": "text/x-python",
   "name": "python",
   "nbconvert_exporter": "python",
   "pygments_lexer": "ipython3",
   "version": "3.10.0"
  }
 },
 "nbformat": 4,
 "nbformat_minor": 5
}
