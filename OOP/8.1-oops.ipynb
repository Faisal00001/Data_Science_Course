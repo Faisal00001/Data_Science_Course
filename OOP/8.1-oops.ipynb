{
 "cells": [
  {
   "cell_type": "code",
   "execution_count": 1,
   "id": "3fe95433",
   "metadata": {},
   "outputs": [
    {
     "name": "stdout",
     "output_type": "stream",
     "text": [
      "Hello Faisal\n"
     ]
    }
   ],
   "source": [
    "print('Hello Faisal')"
   ]
  },
  {
   "cell_type": "code",
   "execution_count": 2,
   "id": "a0b3452f",
   "metadata": {},
   "outputs": [
    {
     "name": "stdout",
     "output_type": "stream",
     "text": [
      "<class '__main__.Car'>\n"
     ]
    }
   ],
   "source": [
    "class Car:\n",
    "     pass\n",
    "audi = Car()\n",
    "print(type(audi))"
   ]
  },
  {
   "cell_type": "code",
   "execution_count": 3,
   "id": "7a96ade1",
   "metadata": {},
   "outputs": [
    {
     "name": "stdout",
     "output_type": "stream",
     "text": [
      "<__main__.Car object at 0x0000024F2309E380>\n"
     ]
    }
   ],
   "source": [
    "print(audi)"
   ]
  },
  {
   "cell_type": "code",
   "execution_count": 4,
   "id": "93785d83",
   "metadata": {},
   "outputs": [
    {
     "name": "stdout",
     "output_type": "stream",
     "text": [
      "4\n"
     ]
    }
   ],
   "source": [
    "audi.windows = 4\n",
    "print(audi.windows)"
   ]
  },
  {
   "cell_type": "code",
   "execution_count": 5,
   "id": "5316ad27",
   "metadata": {},
   "outputs": [
    {
     "name": "stdout",
     "output_type": "stream",
     "text": [
      "['__class__', '__delattr__', '__dict__', '__dir__', '__doc__', '__eq__', '__format__', '__ge__', '__getattribute__', '__gt__', '__hash__', '__init__', '__init_subclass__', '__le__', '__lt__', '__module__', '__ne__', '__new__', '__reduce__', '__reduce_ex__', '__repr__', '__setattr__', '__sizeof__', '__str__', '__subclasshook__', '__weakref__', 'windows']\n"
     ]
    }
   ],
   "source": [
    "print(dir(audi))"
   ]
  },
  {
   "cell_type": "code",
   "execution_count": 9,
   "id": "5a9f2661",
   "metadata": {},
   "outputs": [
    {
     "name": "stdout",
     "output_type": "stream",
     "text": [
      "<__main__.Dog object at 0x0000024F23016D70>\n",
      "Boyka\n"
     ]
    }
   ],
   "source": [
    "#Instance variable and methods\n",
    "class Dog:\n",
    "    #constructor\n",
    "    def __init__(self,name,age):\n",
    "        #Sefl responsible to access the instance variable within the class\n",
    "        self.name = name\n",
    "        self.age = age\n",
    "#create obj\n",
    "dog1 = Dog('Boyka',10)\n",
    "print(dog1)\n",
    "print(dog1.name)\n"
   ]
  },
  {
   "cell_type": "code",
   "execution_count": 12,
   "id": "1d6c7333",
   "metadata": {},
   "outputs": [
    {
     "name": "stdout",
     "output_type": "stream",
     "text": [
      "Lucy says woof\n"
     ]
    }
   ],
   "source": [
    "#Define class instance method\n",
    "class Dog:\n",
    "    def __init__(self,name,age):\n",
    "        self.name = name\n",
    "        self.age = age\n",
    "    def bark(self):\n",
    "        print(f\"{self.name} says woof\")\n",
    "dog1=Dog('Lucy', 3)\n",
    "dog1.bark()\n",
    "\n",
    "\n"
   ]
  },
  {
   "cell_type": "code",
   "execution_count": null,
   "id": "d6f719e9",
   "metadata": {},
   "outputs": [
    {
     "name": "stdout",
     "output_type": "stream",
     "text": [
      "5000\n"
     ]
    }
   ],
   "source": [
    "class BankAccount:\n",
    "    def __init__(self,owner,balance = 0):\n",
    "        self.owner = owner\n",
    "        self.balance = balance\n",
    "    def deposit(self,amount):\n",
    "        self.balance += amount\n",
    "        print(f\"Amount deposit. New balance is {self.balance}\")\n",
    "    def withdraw(self,amount):\n",
    "        if amount > self.balance:\n",
    "            print('Insufficient Balance')\n",
    "        else:\n",
    "            self.balance -= amount\n",
    "            print(f\"Amount withdraw. New balance is {self.balance}\")\n",
    "    def get_balance(self):\n",
    "        return self.balance\n",
    "\n",
    "#Create an account\n",
    "account = BankAccount('Faisal',5000)\n",
    "print(account.balance)"
   ]
  },
  {
   "cell_type": "code",
   "execution_count": 14,
   "id": "03219218",
   "metadata": {},
   "outputs": [
    {
     "name": "stdout",
     "output_type": "stream",
     "text": [
      "Amount deposit. New balance is 6000\n",
      "6000\n"
     ]
    }
   ],
   "source": [
    "account.deposit(1000)\n",
    "print(account.balance)"
   ]
  },
  {
   "cell_type": "code",
   "execution_count": 15,
   "id": "070bb70f",
   "metadata": {},
   "outputs": [
    {
     "name": "stdout",
     "output_type": "stream",
     "text": [
      "Amount withdraw. New balan ce is 5700\n"
     ]
    }
   ],
   "source": [
    "account.withdraw(300)"
   ]
  },
  {
   "cell_type": "code",
   "execution_count": 16,
   "id": "4674d1be",
   "metadata": {},
   "outputs": [
    {
     "data": {
      "text/plain": [
       "5700"
      ]
     },
     "execution_count": 16,
     "metadata": {},
     "output_type": "execute_result"
    }
   ],
   "source": [
    "account.get_balance()"
   ]
  },
  {
   "cell_type": "code",
   "execution_count": null,
   "id": "e953e251",
   "metadata": {},
   "outputs": [],
   "source": []
  }
 ],
 "metadata": {
  "kernelspec": {
   "display_name": "Python 3",
   "language": "python",
   "name": "python3"
  },
  "language_info": {
   "codemirror_mode": {
    "name": "ipython",
    "version": 3
   },
   "file_extension": ".py",
   "mimetype": "text/x-python",
   "name": "python",
   "nbconvert_exporter": "python",
   "pygments_lexer": "ipython3",
   "version": "3.10.0"
  }
 },
 "nbformat": 4,
 "nbformat_minor": 5
}
