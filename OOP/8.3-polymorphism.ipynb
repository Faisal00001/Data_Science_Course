{
 "cells": [
  {
   "cell_type": "code",
   "execution_count": 1,
   "id": "81b4b28d",
   "metadata": {},
   "outputs": [
    {
     "name": "stdout",
     "output_type": "stream",
     "text": [
      "Hi\n"
     ]
    }
   ],
   "source": [
    "print('Hi')"
   ]
  },
  {
   "cell_type": "code",
   "execution_count": 3,
   "id": "8f3854cc",
   "metadata": {},
   "outputs": [
    {
     "name": "stdout",
     "output_type": "stream",
     "text": [
      "Woof\n",
      "Meow\n",
      "Woof\n"
     ]
    }
   ],
   "source": [
    "### Method overriding\n",
    "class Aniaml:\n",
    "    def speak(self):\n",
    "        return \"Sound of the animal\"\n",
    "class Dog(Aniaml):\n",
    "    def speak(self):\n",
    "        return \"Woof\"\n",
    "class Cat(Aniaml):\n",
    "    def speak(self):\n",
    "        return \"Meow\"\n",
    "def animal_speak(animal):\n",
    "    print(animal.speak())\n",
    "dog = Dog()\n",
    "print(dog.speak())\n",
    "cat = Cat()\n",
    "print(cat.speak())\n",
    "animal_speak(dog)\n",
    " "
   ]
  },
  {
   "cell_type": "code",
   "execution_count": 4,
   "id": "1d57497a",
   "metadata": {},
   "outputs": [
    {
     "name": "stdout",
     "output_type": "stream",
     "text": [
      "the area is 20\n",
      "the area is 28.259999999999998\n"
     ]
    }
   ],
   "source": [
    "#Polymorphism with functions and methods\n",
    "\n",
    "class Shape:\n",
    "    def area(self):\n",
    "        return \"The area of the figure\"\n",
    "class Rectangle(Shape):\n",
    "    def __init__(self,width,height):\n",
    "        self.width = width\n",
    "        self.height = height\n",
    "    def area(self):\n",
    "        return self.width * self.height\n",
    "class Circle(Shape):\n",
    "    def __init__(self,radius):\n",
    "        self.radius = radius\n",
    "    def area(self):\n",
    "        return 3.14*self.radius*self.radius\n",
    "def print_area(shape):\n",
    "    print(f\"the area is {shape.area()}\")\n",
    "rectangle = Rectangle(4,5)\n",
    "circle = Circle(3)\n",
    "print_area(rectangle)\n",
    "print_area(circle)\n",
    "\n"
   ]
  },
  {
   "cell_type": "code",
   "execution_count": 5,
   "id": "2e6e1f39",
   "metadata": {},
   "outputs": [
    {
     "name": "stdout",
     "output_type": "stream",
     "text": [
      "Car engine started\n"
     ]
    }
   ],
   "source": [
    "### Polyporfishm with abstract base class\n",
    "# abc abstract base class\n",
    "#abstractmethod decorator\n",
    "from abc import ABC,abstractmethod\n",
    "class Vehicle(ABC):\n",
    "    @abstractmethod\n",
    "    def start_engine(self):\n",
    "        pass\n",
    "class Car(Vehicle):\n",
    "    def start_engine(self):\n",
    "        return 'Car engine started'\n",
    "class Motorcycle(Vehicle):\n",
    "    def start_engine(self):\n",
    "        return 'Motorcycle engine started'\n",
    "def start_vehicle(vehicle):\n",
    "    print(vehicle.start_engine())\n",
    "car = Car()\n",
    "motorcycle = Motorcycle()\n",
    "start_vehicle(car)"
   ]
  },
  {
   "cell_type": "code",
   "execution_count": null,
   "id": "bfd60f05",
   "metadata": {},
   "outputs": [],
   "source": [
    " "
   ]
  }
 ],
 "metadata": {
  "kernelspec": {
   "display_name": "Python 3",
   "language": "python",
   "name": "python3"
  },
  "language_info": {
   "codemirror_mode": {
    "name": "ipython",
    "version": 3
   },
   "file_extension": ".py",
   "mimetype": "text/x-python",
   "name": "python",
   "nbconvert_exporter": "python",
   "pygments_lexer": "ipython3",
   "version": "3.10.0"
  }
 },
 "nbformat": 4,
 "nbformat_minor": 5
}
