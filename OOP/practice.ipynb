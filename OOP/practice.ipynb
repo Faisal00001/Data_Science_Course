{
 "cells": [
  {
   "cell_type": "code",
   "execution_count": 1,
   "id": "11fa588e",
   "metadata": {},
   "outputs": [
    {
     "name": "stdout",
     "output_type": "stream",
     "text": [
      "Hi\n"
     ]
    }
   ],
   "source": [
    "print('Hi')"
   ]
  },
  {
   "cell_type": "markdown",
   "id": "41108275",
   "metadata": {},
   "source": []
  },
  {
   "cell_type": "code",
   "execution_count": 2,
   "id": "b0bda60d",
   "metadata": {},
   "outputs": [
    {
     "name": "stdout",
     "output_type": "stream",
     "text": [
      "Car make True\n",
      "Car model Tesla\n",
      "Car year 2025\n"
     ]
    }
   ],
   "source": [
    "# Create a class named `Car` with attributes `make`, `model`, and `year`. Create an object of the class and print its attributes.\n",
    "class Car:\n",
    "    def __init__(self, make,model,year):\n",
    "        self.make = make\n",
    "        self.model = model\n",
    "        self.year = year\n",
    "car1 = Car(True,'Tesla','2025')\n",
    "print(f\"Car make {car1.make}\")\n",
    "print(f\"Car model {car1.model}\")\n",
    "print(f\"Car year {car1.year}\")\n",
    "        "
   ]
  },
  {
   "cell_type": "code",
   "execution_count": 3,
   "id": "747007c2",
   "metadata": {},
   "outputs": [
    {
     "name": "stdout",
     "output_type": "stream",
     "text": [
      "Car make True\n",
      "Car model Tesla\n",
      "Car year 2025\n",
      "Car engine started successfully\n"
     ]
    }
   ],
   "source": [
    "# Add a method named `start_engine` to the `Car` class that prints a message when the engine starts. Create an object of the class and call the method.\n",
    "class Car:\n",
    "    def __init__(self, make,model,year):\n",
    "        self.make = make\n",
    "        self.model = model\n",
    "        self.year = year\n",
    "    def start_engine(self):\n",
    "        print('Car engine started successfully')\n",
    "car1 = Car(True,'Tesla','2025')\n",
    "print(f\"Car make {car1.make}\")\n",
    "print(f\"Car model {car1.model}\")\n",
    "print(f\"Car year {car1.year}\")\n",
    "car1.start_engine()\n",
    "        "
   ]
  },
  {
   "cell_type": "code",
   "execution_count": 4,
   "id": "64d8404a",
   "metadata": {},
   "outputs": [
    {
     "name": "stdout",
     "output_type": "stream",
     "text": [
      "25\n",
      "Faisal\n"
     ]
    }
   ],
   "source": [
    "\n",
    "# Create a class named `Student` with attributes `name` and `age`. Use a constructor to initialize these attributes. Create an object of the class and print its attributes.\n",
    "\n",
    "class Student:\n",
    "    def __init__(self,name,age):\n",
    "        self.name = name\n",
    "        self.age = age\n",
    "student1 = Student('Faisal',25)\n",
    "print(student1.age)\n",
    "print(student1.name)"
   ]
  },
  {
   "cell_type": "code",
   "execution_count": 5,
   "id": "5afbc6e4",
   "metadata": {},
   "outputs": [],
   "source": [
    "# Create a class named `BankAccount` with private attributes `account_number` and `balance`.\n",
    "#  Add methods to deposit and withdraw money, and to check the balance.\n",
    "#  Create an object of the class and perform some operations.\n",
    "\n",
    "class BankAccount:\n",
    "    def __init__(self, account_number, balance):\n",
    "        self.__account_number = account_number\n",
    "        self.__balance = balance\n",
    "    def deposit(self, amount):\n",
    "        self.__balance += amount\n",
    "        print('Deposit successfully')\n",
    "    def withdraw (self, amount):\n",
    "        if amount > self.__balance:\n",
    "            print('Insufficient Balance')\n",
    "        else:\n",
    "            self.__balance -= amount\n",
    "            print('Withdraw successfully')\n",
    "    def __repr__(self):\n",
    "        return f\"Account number {self.__account_number} and available balance is {self.__balance}\"\n",
    "account1 = BankAccount(102324543,2000)\n",
    "\n"
   ]
  },
  {
   "cell_type": "code",
   "execution_count": 6,
   "id": "f897471a",
   "metadata": {},
   "outputs": [
    {
     "name": "stdout",
     "output_type": "stream",
     "text": [
      "Account number 102324543 and available balance is 2000\n"
     ]
    }
   ],
   "source": [
    "print(account1)"
   ]
  },
  {
   "cell_type": "code",
   "execution_count": 8,
   "id": "616651ab",
   "metadata": {},
   "outputs": [
    {
     "name": "stdout",
     "output_type": "stream",
     "text": [
      "Withdraw successfully\n"
     ]
    }
   ],
   "source": [
    "account1.withdraw(400)"
   ]
  },
  {
   "cell_type": "code",
   "execution_count": 9,
   "id": "956e11f0",
   "metadata": {},
   "outputs": [
    {
     "name": "stdout",
     "output_type": "stream",
     "text": [
      "Account number 102324543 and available balance is 1600\n"
     ]
    }
   ],
   "source": [
    "print(account1)"
   ]
  },
  {
   "cell_type": "code",
   "execution_count": 10,
   "id": "d3b7ad1b",
   "metadata": {},
   "outputs": [
    {
     "name": "stdout",
     "output_type": "stream",
     "text": [
      "Deposit successfully\n"
     ]
    }
   ],
   "source": [
    "account1.deposit(1000)"
   ]
  },
  {
   "cell_type": "code",
   "execution_count": 11,
   "id": "266fae32",
   "metadata": {},
   "outputs": [
    {
     "name": "stdout",
     "output_type": "stream",
     "text": [
      "Account number 102324543 and available balance is 2600\n"
     ]
    }
   ],
   "source": [
    "print(account1)"
   ]
  },
  {
   "cell_type": "code",
   "execution_count": 13,
   "id": "8621b4f4",
   "metadata": {},
   "outputs": [
    {
     "name": "stdout",
     "output_type": "stream",
     "text": [
      "Employee name is Faisal, age is 20 and employee id is 102456\n"
     ]
    }
   ],
   "source": [
    "# Create a base class named `Person` with attributes `name` and `age`. \n",
    "# Create a derived class named `Employee` that inherits from `Person` and adds an attribute `employee_id`. \n",
    "# Create an object of the derived class and print its attributes.\n",
    "\n",
    "class Person:\n",
    "    def __init__(self, name, age):\n",
    "        self.name = name\n",
    "        self.age = age\n",
    "class Employee(Person):\n",
    "    def __init__(self, name, age, employee_id):\n",
    "        super().__init__(name, age)\n",
    "        self.employee_id = employee_id\n",
    "    def __repr__(self):\n",
    "        return f\"Employee name is {self.name}, age is {self.age} and employee id is {self.employee_id}\"\n",
    "employee1 = Employee('Faisal',20,102456)\n",
    "print(employee1)"
   ]
  },
  {
   "cell_type": "code",
   "execution_count": 14,
   "id": "45559186",
   "metadata": {},
   "outputs": [
    {
     "name": "stdout",
     "output_type": "stream",
     "text": [
      "Employee name is Faisal, age is 20 and employee id is 102456\n"
     ]
    }
   ],
   "source": [
    "\n",
    "# In the `Employee` class, override the `__str__` method to return a string representation of the object. \n",
    "# Create an object of the class and print it.\n",
    "class Person:\n",
    "    def __init__(self, name, age):\n",
    "        self.name = name\n",
    "        self.age = age\n",
    "class Employee(Person):\n",
    "    def __init__(self, name, age, employee_id):\n",
    "        super().__init__(name, age)\n",
    "        self.employee_id = employee_id\n",
    "    def __str__(self):\n",
    "        return f\"Employee name is {self.name}, age is {self.age} and employee id is {self.employee_id}\"\n",
    "employee1 = Employee('Faisal',20,102456)\n",
    "print(employee1)"
   ]
  },
  {
   "cell_type": "code",
   "execution_count": 17,
   "id": "eccde2bf",
   "metadata": {},
   "outputs": [
    {
     "name": "stdout",
     "output_type": "stream",
     "text": [
      "Alice's address is: 123 Main St, New York, 10001\n"
     ]
    }
   ],
   "source": [
    "# Create a class named `Address` with attributes `street`, `city`, and `zipcode`. \n",
    "# Create a class named `Person` that has an `Address` object as an attribute. \n",
    "# Create an object of the `Person` class and print its address.\n",
    "class Address:\n",
    "    def __init__(self, street, city, zipcode):\n",
    "        self.street = street\n",
    "        self.city = city\n",
    "        self.zipcode = zipcode\n",
    "    def __str__(self):\n",
    "        return f\"{self.street}, {self.city}, {self.zipcode}\"\n",
    "class Person:\n",
    "    def __init__(self, name, address):  # address is an Address object\n",
    "        self.name = name\n",
    "        self.address = address\n",
    "# Create an Address object\n",
    "my_address = Address(\"123 Main St\", \"New York\", \"10001\")\n",
    "\n",
    "person1 = Person('Alice',my_address)\n",
    "# Print the person's address\n",
    "print(f\"{person1.name}'s address is: {person1.address}\")"
   ]
  },
  {
   "cell_type": "code",
   "execution_count": 18,
   "id": "3591afc5",
   "metadata": {},
   "outputs": [
    {
     "name": "stdout",
     "output_type": "stream",
     "text": [
      "2\n"
     ]
    }
   ],
   "source": [
    "# Create a class named `Counter` with a class variable `count`.\n",
    "#  Each time an object is created, increment the count.\n",
    "#  Add a method to get the current count.\n",
    "#  Create multiple objects and print the count.\n",
    "\n",
    "class Counter:\n",
    "    count = 0\n",
    "    def __init__(self):\n",
    "        Counter.count += 1\n",
    "    @classmethod\n",
    "    def current_count(cls):\n",
    "        return cls.count\n",
    "obj1 = Counter()\n",
    "obj2 = Counter()\n",
    "print(Counter.current_count())\n",
    "    \n",
    "        "
   ]
  },
  {
   "cell_type": "code",
   "execution_count": null,
   "id": "04f77223",
   "metadata": {},
   "outputs": [],
   "source": [
    "# Create a class named MathOperations with a static method to calculate the square root of a number. \n",
    "# Call the static method without creating an object."
   ]
  },
  {
   "cell_type": "code",
   "execution_count": 20,
   "id": "5a791945",
   "metadata": {},
   "outputs": [
    {
     "name": "stdout",
     "output_type": "stream",
     "text": [
      "5.0\n"
     ]
    }
   ],
   "source": [
    "import math\n",
    "\n",
    "class MathOperations:\n",
    "    @staticmethod\n",
    "    def square_root(number):\n",
    "        return math.sqrt(number)\n",
    "print(MathOperations.square_root(25))"
   ]
  },
  {
   "cell_type": "code",
   "execution_count": 21,
   "id": "60399f99",
   "metadata": {},
   "outputs": [
    {
     "name": "stdout",
     "output_type": "stream",
     "text": [
      "Area of Circle: 78.54\n",
      "Area of Square: 16\n"
     ]
    }
   ],
   "source": [
    "# Create an abstract base class named `Shape` with an abstract method `area`. \n",
    "# Create derived classes `Circle` and `Square` that implement the `area` method. \n",
    "# Create objects of the derived classes and call the `area` method.\n",
    "import math\n",
    "from abc import ABC,abstractmethod\n",
    "class Shape(ABC):\n",
    "    @abstractmethod\n",
    "    def area(self):\n",
    "        pass\n",
    "class Circle(Shape):\n",
    "    def __init__(self,radius):\n",
    "        self.radius = radius\n",
    "    def area(self):\n",
    "        return math.pi * self.radius ** 2\n",
    "class Square(Shape):\n",
    "    def __init__(self,side):\n",
    "        self.side = side\n",
    "    def area(self):\n",
    "        return self.side**2\n",
    "# Create objects and call area\n",
    "circle = Circle(5)\n",
    "square = Square(4)\n",
    "\n",
    "print(f\"Area of Circle: {circle.area():.2f}\")\n",
    "print(f\"Area of Square: {square.area()}\")"
   ]
  },
  {
   "cell_type": "code",
   "execution_count": 24,
   "id": "6521c322",
   "metadata": {},
   "outputs": [
    {
     "name": "stdout",
     "output_type": "stream",
     "text": [
      "Vector (15, 10)\n",
      "Vector (-5, -2)\n"
     ]
    }
   ],
   "source": [
    "# Create a class named `Vector` with attributes `x` and `y`. \n",
    "# Overload the `+` operator to add two `Vector` objects. \n",
    "# Create objects of the class and test the operator overloading.\n",
    "\n",
    "class Vector:\n",
    "    def __init__(self,x,y):\n",
    "        self.x = x\n",
    "        self.y = y\n",
    "    def __add__(self,other):\n",
    "        return Vector(self.x+other.x, self.y+other.y)\n",
    "    def __sub__(self,other):\n",
    "        return Vector(self.x - other.x, self.y - other.y)\n",
    "    def __repr__(self):\n",
    "        return f\"Vector ({self.x}, {self.y})\"\n",
    "vector1 = Vector(5,4)\n",
    "vector2 = Vector(10,6)\n",
    "print(vector1+vector2)\n",
    "print(vector1-vector2)"
   ]
  },
  {
   "cell_type": "code",
   "execution_count": 32,
   "id": "2cb6f8e3",
   "metadata": {},
   "outputs": [
    {
     "name": "stdout",
     "output_type": "stream",
     "text": [
      "Acccount number 1012023241 and balance is 5000\n",
      "Acccount number 1012023241 and balance is 4900\n"
     ]
    }
   ],
   "source": [
    "# Create a custom exception named `InsufficientBalanceError`.\n",
    "#  In the `BankAccount` class, raise this exception when a withdrawal amount is greater than the balance.\n",
    "#  Handle the exception and print an appropriate message.\n",
    "class InsufficientBalanceError(Exception):\n",
    "    pass\n",
    "class BankAccount:\n",
    "    def __init__(self, account_num, balance):\n",
    "        self.__account_num = account_num\n",
    "        self.__balance = balance\n",
    "    def withdraw(self, amount):\n",
    "        try:\n",
    "            if amount > self.__balance:\n",
    "               raise InsufficientBalanceError\n",
    "            else:\n",
    "                self.__balance -= amount\n",
    "        except InsufficientBalanceError:\n",
    "            print('Withdraw not possible. Amount should be less then current balance')\n",
    "    def __repr__(self):\n",
    "        return f\"Acccount number {self.__account_num} and balance is {self.__balance}\"\n",
    "account1 = BankAccount(1012023241,5000)\n",
    "print(account1)\n",
    "account1.withdraw(100)\n",
    "print(account1)\n",
    "\n",
    "\n"
   ]
  },
  {
   "cell_type": "code",
   "execution_count": 2,
   "id": "d6f9be95",
   "metadata": {},
   "outputs": [
    {
     "name": "stdout",
     "output_type": "stream",
     "text": [
      "Hello Faisal\n",
      "How are you.\n",
      "How are you doing\n"
     ]
    }
   ],
   "source": [
    "class FileManager:\n",
    "    def __init__(self,filename, mode):\n",
    "        self.filename = filename\n",
    "        self.mode = mode\n",
    "        self.file = None\n",
    "    def __enter__(self):\n",
    "        self.file = open(self.filename,self.mode)\n",
    "        return self.file\n",
    "    def __exit__(self,exc_type, exc_value, traceback):\n",
    "        if self.file:\n",
    "            self.file.close()\n",
    "filename ='example.txt'\n",
    "\n",
    "with FileManager(filename,'r') as f:\n",
    "    content = f.read()\n",
    "    print(content)\n"
   ]
  },
  {
   "cell_type": "code",
   "execution_count": 3,
   "id": "ed0cf318",
   "metadata": {},
   "outputs": [],
   "source": [
    "class Calculator:\n",
    "    def __init__(self, value=0):\n",
    "        self.value = value\n",
    "\n",
    "    def add(self, number):\n",
    "        self.value += number\n",
    "        return self\n",
    "\n",
    "    def subtract(self, number):\n",
    "        self.value -= number\n",
    "        return self\n",
    "\n",
    "    def multiply(self, number):\n",
    "        self.value *= number\n",
    "        return self\n",
    "\n",
    "    def divide(self, number):\n",
    "        if number != 0:\n",
    "            self.value /= number\n",
    "        else:\n",
    "            print(\"Error: Division by zero.\")\n",
    "        return self\n",
    "\n",
    "    def get_result(self):\n",
    "        return self.value\n"
   ]
  },
  {
   "cell_type": "code",
   "execution_count": 4,
   "id": "63a4c975",
   "metadata": {},
   "outputs": [
    {
     "name": "stdout",
     "output_type": "stream",
     "text": [
      "Result: 6.0\n"
     ]
    }
   ],
   "source": [
    "calc = Calculator()\n",
    "\n",
    "# Chaining multiple method calls\n",
    "result = calc.add(10).subtract(2).multiply(3).divide(4).get_result()\n",
    "\n",
    "print(\"Result:\", result)  # Output: Result: 6.0"
   ]
  },
  {
   "cell_type": "code",
   "execution_count": 10,
   "id": "2a331c84",
   "metadata": {},
   "outputs": [],
   "source": [
    "class Calculator:\n",
    "    def __init__(self,value = 0):\n",
    "        self.value = value\n",
    "    def add(self, number):\n",
    "        self.value += number\n",
    "        return self\n",
    "    def sub(self, number):\n",
    "        self.value -=number\n",
    "        return self\n",
    "    def mul(self, number):\n",
    "        self.value *= number\n",
    "        return self\n",
    "    def divide(self, number):\n",
    "        if(number==0):\n",
    "            print('Error: Division by zero')\n",
    "        else:\n",
    "            self.value /= number\n",
    "        return self\n",
    "    def get_res(self):\n",
    "        return self.value\n",
    "\n",
    "        \n",
    "         "
   ]
  },
  {
   "cell_type": "code",
   "execution_count": 12,
   "id": "964d1908",
   "metadata": {},
   "outputs": [
    {
     "name": "stdout",
     "output_type": "stream",
     "text": [
      "Result  2.4\n"
     ]
    }
   ],
   "source": [
    "cal1 = Calculator()\n",
    "res = cal1.add(10).sub(2).mul(3).divide(10).get_res()\n",
    "print('Result ',res)"
   ]
  },
  {
   "cell_type": "code",
   "execution_count": 14,
   "id": "4411c474",
   "metadata": {},
   "outputs": [
    {
     "name": "stdout",
     "output_type": "stream",
     "text": [
      "Name is Tommy, species is Husky and breed is Siberian\n"
     ]
    }
   ],
   "source": [
    "class Animal:\n",
    "    def __init__(self, name, species):\n",
    "        self.name = name\n",
    "        self.species = species\n",
    "class Dog(Animal):\n",
    "    def __init__(self,name,species,breed):\n",
    "        super().__init__(name,species)\n",
    "        self.breed = breed\n",
    "    def __repr__(self):\n",
    "        return f\"Name is {self.name}, species is {self.species} and breed is {self.breed}\"\n",
    "dog = Dog('Tommy','Husky','Siberian')\n",
    "print(dog)\n"
   ]
  },
  {
   "cell_type": "code",
   "execution_count": 15,
   "id": "3bac13c6",
   "metadata": {},
   "outputs": [
    {
     "name": "stdout",
     "output_type": "stream",
     "text": [
      "Name is Tommy, species is Husky and breed is Siberian\n"
     ]
    }
   ],
   "source": [
    "class Animal:\n",
    "    def __init__(self, name, species):\n",
    "        self.name = name\n",
    "        self.species = species\n",
    "class Dog(Animal):\n",
    "    def __init__(self,name,species,breed):\n",
    "        super().__init__(name,species)\n",
    "        self.breed = breed\n",
    "    def __str__(self):\n",
    "        return f\"Name is {self.name}, species is {self.species} and breed is {self.breed}\"\n",
    "dog = Dog('Tommy','Husky','Siberian')\n",
    "print(dog)\n"
   ]
  },
  {
   "cell_type": "code",
   "execution_count": 16,
   "id": "935abbe1",
   "metadata": {},
   "outputs": [
    {
     "name": "stdout",
     "output_type": "stream",
     "text": [
      "Name is Tommy, species is Husky and breed is Siberian\n",
      "Woof Woof\n"
     ]
    }
   ],
   "source": [
    "class Animal:\n",
    "    def __init__(self, name, species):\n",
    "        self.name = name\n",
    "        self.species = species\n",
    "class Dog(Animal):\n",
    "    def __init__(self,name,species,breed):\n",
    "        super().__init__(name,species)\n",
    "        self.breed = breed\n",
    "    def bark(self):\n",
    "        print('Woof Woof')\n",
    "    def __str__(self):\n",
    "        return f\"Name is {self.name}, species is {self.species} and breed is {self.breed}\"\n",
    "dog = Dog('Tommy','Husky','Siberian')\n",
    "print(dog)\n",
    "dog.bark()\n"
   ]
  },
  {
   "cell_type": "code",
   "execution_count": 17,
   "id": "7129b46d",
   "metadata": {},
   "outputs": [
    {
     "name": "stdout",
     "output_type": "stream",
     "text": [
      "The perosn is walking\n",
      "The person is running\n"
     ]
    }
   ],
   "source": [
    "class Walker:\n",
    "    def walk(self):\n",
    "        print('The perosn is walking')\n",
    "class Runner:\n",
    "    def run(self):\n",
    "        print(\"The person is running\")\n",
    "class Athlete(Walker,Runner):\n",
    "    pass\n",
    "\n",
    "athlete = Athlete()\n",
    "athlete.walk()\n",
    "athlete.run()"
   ]
  },
  {
   "cell_type": "code",
   "execution_count": 19,
   "id": "72dc8adb",
   "metadata": {},
   "outputs": [
    {
     "name": "stdout",
     "output_type": "stream",
     "text": [
      "The athlete is walking\n",
      "The perosn is walking\n"
     ]
    }
   ],
   "source": [
    "class Walker:\n",
    "    def walk(self):\n",
    "        print('The perosn is walking')\n",
    "class Runner:\n",
    "    def run(self):\n",
    "        print(\"The person is running\")\n",
    "class Athlete(Walker,Runner):\n",
    "    def walk(self):\n",
    "        print('The athlete is walking')\n",
    "        super().walk()\n",
    "\n",
    "athlete = Athlete()\n",
    "athlete.walk()\n"
   ]
  },
  {
   "cell_type": "code",
   "execution_count": 24,
   "id": "af9bea7a",
   "metadata": {},
   "outputs": [
    {
     "name": "stdout",
     "output_type": "stream",
     "text": [
      "The athelete is training for 10 hours\n"
     ]
    }
   ],
   "source": [
    "# In the `Athlete` class, add an attribute `training_hours` and a method `train` that prints the training hours. \n",
    "# Create an object of the class and call the method.\n",
    "\n",
    "\n",
    "class Walker:\n",
    "    def walk(self):\n",
    "        print('The perosn is walking')\n",
    "class Runner:\n",
    "    def run(self):\n",
    "        print(\"The person is running\")\n",
    "class Athlete(Walker,Runner):\n",
    "    def __init__(self,training_hours):\n",
    "        self.training_hours = training_hours\n",
    "    def train(self):\n",
    "        print('The athelete is training for',self.training_hours,'hours')\n",
    "    def walk(self):\n",
    "        print('The athlete is walking')\n",
    "        super().walk()\n",
    "\n",
    "athlete = Athlete(10)\n",
    "athlete.train()\n"
   ]
  },
  {
   "cell_type": "code",
   "execution_count": null,
   "id": "3dc34201",
   "metadata": {},
   "outputs": [
    {
     "name": "stdout",
     "output_type": "stream",
     "text": [
      "B is showing\n",
      "(<class '__main__.D'>, <class '__main__.B'>, <class '__main__.C'>, <class '__main__.A'>, <class 'object'>)\n"
     ]
    }
   ],
   "source": [
    "# Create a class named `A` with a method `show` that prints a message. \n",
    "# Create two derived classes `B` and `C` that inherit from `A` and \n",
    "# override the `show` method. Create a class `D` that inherits from both `B` and `C`. \n",
    "# Create an object of the `D` class and call the `show` method. \n",
    "# Observe the method resolution order.\n",
    "\n",
    "class A:\n",
    "    def show(self):\n",
    "        print('A is showing')\n",
    "class B(A):\n",
    "    def show(self):\n",
    "        print('B is showing')\n",
    "class C(A):\n",
    "    def show(self):\n",
    "        print('C is showing')\n",
    "class D(B,C):\n",
    "    pass\n",
    "d = D()\n",
    "d.show()\n",
    "\n",
    "# Print the method resolution order\n",
    "print(D.__mro__)  # or use: print(D.mro())"
   ]
  },
  {
   "cell_type": "code",
   "execution_count": 27,
   "id": "ad419201",
   "metadata": {},
   "outputs": [
    {
     "name": "stdout",
     "output_type": "stream",
     "text": [
      "Circle color is Red and radius is 10\n"
     ]
    }
   ],
   "source": [
    "# Create a base class named `Shape` with an attribute `color`. \n",
    "# Create a derived class named `Circle` that inherits from `Shape` \n",
    "# and adds an attribute `radius`. Use the `super()` function to initialize the attributes. \n",
    "# Create an object of the `Circle` class and print its attributes.\n",
    "\n",
    "class Shape:\n",
    "    def __init__(self, color):\n",
    "        self.color = color\n",
    "class Circle(Shape):\n",
    "    def __init__(self,color,radius):\n",
    "        super().__init__(color)\n",
    "        self.radius = radius\n",
    "    def __repr__(self):\n",
    "        return f\"Circle color is {self.color} and radius is {self.radius}\"\n",
    "circle = Circle('Red',10)\n",
    "print(circle)\n"
   ]
  },
  {
   "cell_type": "code",
   "execution_count": 28,
   "id": "4618271c",
   "metadata": {},
   "outputs": [
    {
     "name": "stdout",
     "output_type": "stream",
     "text": [
      "Manger name is Akib and employee is 1012321\n"
     ]
    }
   ],
   "source": [
    "# Create a class named `Person` with an attribute `name`. \n",
    "# Create a class named `Employee` with an attribute `employee_id`.\n",
    "#  Create a derived class `Manager` that inherits from both `Person` and `Employee`.\n",
    "#  Use the `super()` function to initialize the attributes. Create an object of the `Manager` class and print its attributes.\n",
    "\n",
    "class Person:\n",
    "    def __init__(self, name):\n",
    "        self.name = name\n",
    "class Employee:\n",
    "    def __init__(self, employee_id):\n",
    "        self.employee_id = employee_id\n",
    "class Manager(Person, Employee):\n",
    "    def __init__(self, name, employee_id):\n",
    "        Person.__init__(self, name)\n",
    "        Employee.__init__(self,employee_id)\n",
    "    def __repr__(self):\n",
    "        return f\"Manger name is {self.name} and employee is {self.employee_id}\"\n",
    "manager = Manager('Akib', 1012321)\n",
    "print(manager)\n",
    "        "
   ]
  },
  {
   "cell_type": "code",
   "execution_count": 29,
   "id": "c9d8603d",
   "metadata": {},
   "outputs": [
    {
     "name": "stdout",
     "output_type": "stream",
     "text": [
      "Car is started\n",
      "Vehicle is started\n"
     ]
    }
   ],
   "source": [
    "# Create a class named `Vehicle` with a method `start` that prints a starting message. \n",
    "# Create a derived class `Car` that overrides the `start` method to print a different message. \n",
    "# Use the `super()` function to call the `start` method of the `Vehicle` class. \n",
    "# Create an object of the `Car` class and call the `start` method.\n",
    "\n",
    "class Vehicle:\n",
    "    def start(self):\n",
    "        print('Vehicle is started')\n",
    "class Car(Vehicle):\n",
    "    def start(self):\n",
    "        print('Car is started')\n",
    "        super().start()\n",
    "car = Car()\n",
    "car.start()\n",
    "    "
   ]
  },
  {
   "cell_type": "code",
   "execution_count": 30,
   "id": "fbbb451a",
   "metadata": {},
   "outputs": [
    {
     "name": "stdout",
     "output_type": "stream",
     "text": [
      "The object is flying\n",
      "The object is swimming\n"
     ]
    }
   ],
   "source": [
    "# Create a class named `Flyer` with a method `fly` that prints a flying message. \n",
    "# Create a class named `Swimmer` with a method `swim` that prints a swimming message. \n",
    "# Create a derived class `Superhero` that inherits from both `Flyer` and `Swimmer`. \n",
    "# Create an object of the `Superhero` class and call both methods.\n",
    "\n",
    "class Flyer:\n",
    "    def fly(self):\n",
    "        print('The object is flying')\n",
    "class Swimmer:\n",
    "    def swim(self):\n",
    "        print('The object is swimming')\n",
    "class Superhero(Flyer,Swimmer):\n",
    "    pass\n",
    "superhero = Superhero()\n",
    "superhero.fly()\n",
    "superhero.swim()"
   ]
  },
  {
   "cell_type": "code",
   "execution_count": 32,
   "id": "b731eb2a",
   "metadata": {},
   "outputs": [
    {
     "name": "stdout",
     "output_type": "stream",
     "text": [
      "Derived class base1 is 10, Base2 is 5 and its own attribute is 2\n"
     ]
    }
   ],
   "source": [
    "# Create a class named `Base1` with an attribute `a`. \n",
    "# Create a class named `Base2` with an attribute `b`. \n",
    "# Create a class named `Derived` that inherits from both `Base1` and `Base2` and adds an attribute `c`. \n",
    "# Initialize all attributes using the `super()` function. \n",
    "# Create an object of the `Derived` class and print its attributes.\n",
    "\n",
    "class Base1:\n",
    "    def __init__(self,a):\n",
    "        self.a = a \n",
    "class Base2:\n",
    "    def __init__(self, b):\n",
    "        self.b = b \n",
    "class Derived(Base1, Base2):\n",
    "    def __init__(self, a,b,c):\n",
    "        Base1.__init__(self, a)\n",
    "        Base2.__init__(self, b)\n",
    "        self.c = c \n",
    "    def __repr__(self):\n",
    "        return f\"Derived class base1 is {self.a}, Base2 is {self.b} and its own attribute is {self.c}\"\n",
    "derived = Derived(10,5,2)\n",
    "print(derived)"
   ]
  },
  {
   "cell_type": "code",
   "execution_count": 42,
   "id": "eeb614f7",
   "metadata": {},
   "outputs": [
    {
     "name": "stdout",
     "output_type": "stream",
     "text": [
      "Is animal is instance of animal class True\n",
      "Is cat is instance of cat class True\n"
     ]
    }
   ],
   "source": [
    "# Create a base class named `Animal` and a derived class named `Cat`. \n",
    "# Create objects of both classes and use the `isinstance` function to check the instance types.\n",
    "\n",
    "class Animal:\n",
    "    pass\n",
    "class Cat(Animal):\n",
    "    pass\n",
    "animal = Animal()\n",
    "cat = Cat()\n",
    "\n",
    "print(f\"Is animal is instance of animal class {isinstance(animal,Animal)}\")\n",
    "print(f\"Is cat is instance of cat class {isinstance(cat,Cat)}\")\n"
   ]
  },
  {
   "cell_type": "code",
   "execution_count": 43,
   "id": "4a66f2db",
   "metadata": {},
   "outputs": [
    {
     "name": "stdout",
     "output_type": "stream",
     "text": [
      "Parrot says: Hello!\n",
      "Penguin says: Squawk!\n",
      "Parrot says: Hello!\n",
      "Penguin says: Squawk!\n"
     ]
    }
   ],
   "source": [
    "# Create a base class named `Bird` with a method `speak`. \n",
    "# Create two derived classes `Parrot` and `Penguin` that override the `speak` method. \n",
    "# Create a list of `Bird` objects and call the `speak` method on each object to demonstrate polymorphism.\n",
    "\n",
    "# Base class\n",
    "class Bird:\n",
    "    def speak(self):\n",
    "        print(\"Bird is making a sound\")\n",
    "\n",
    "# Derived class 1\n",
    "class Parrot(Bird):\n",
    "    def speak(self):\n",
    "        print(\"Parrot says: Hello!\")\n",
    "\n",
    "# Derived class 2\n",
    "class Penguin(Bird):\n",
    "    def speak(self):\n",
    "        print(\"Penguin says: Squawk!\")\n",
    "\n",
    "# Create a list of Bird objects (with different subclasses)\n",
    "bird_list = [Parrot(), Penguin(), Parrot(), Penguin()]\n",
    "\n",
    "# Call speak() on each object (demonstrating polymorphism)\n",
    "for bird in bird_list:\n",
    "    bird.speak()\n"
   ]
  },
  {
   "cell_type": "code",
   "execution_count": 44,
   "id": "8cbb8777",
   "metadata": {},
   "outputs": [
    {
     "name": "stdout",
     "output_type": "stream",
     "text": [
      "Camera brand is Ocean, model is X30 and resolution is 1000px\n"
     ]
    }
   ],
   "source": [
    "# Create a base class named `Device` with an attribute `brand`. \n",
    "# Create a derived class `Phone` that inherits from `Device` and adds an attribute `model`.\n",
    "#  Create another base class `Camera` with an attribute `resolution`. \n",
    "# Create a derived class `Smartphone` that inherits from both `Phone` and `Camera`. \n",
    "# Create an object of the `Smartphone` class and print its attributes.\n",
    "\n",
    "class Device:\n",
    "    def __init__(self, brand):\n",
    "        self.brand = brand\n",
    "class Phone(Device):\n",
    "    def __init__(self, brand, model):\n",
    "        super().__init__(brand)\n",
    "        self.model = model\n",
    "class Camera():\n",
    "    def __init__(self, resolution):\n",
    "        self.resolution = resolution\n",
    "class Smartphone(Phone, Camera):\n",
    "    def __init__(self, brand, model, resolution):\n",
    "        Phone.__init__(self, brand, model)\n",
    "        Camera.__init__(self, resolution)\n",
    "    def __repr__(self):\n",
    "        return f\"Camera brand is {self.brand}, model is {self.model} and resolution is {self.resolution}\"\n",
    "smartphone = Smartphone('Ocean','X30','1000px')\n",
    "print(smartphone)\n",
    "        \n",
    "        "
   ]
  },
  {
   "cell_type": "code",
   "execution_count": 46,
   "id": "9c504aef",
   "metadata": {},
   "outputs": [
    {
     "name": "stdout",
     "output_type": "stream",
     "text": [
      "314.1592653589793\n",
      "4\n"
     ]
    }
   ],
   "source": [
    "\n",
    "# Create a base class named `Shape` with a method `area`. \n",
    "# Create two derived classes `Circle` and `Square` that override the `area` method. \n",
    "# Create a list of `Shape` objects and call the `area` method on each object to demonstrate polymorphism.\n",
    "import math\n",
    "class Shape:\n",
    "    def area(self):\n",
    "        print('The area of the shape')\n",
    "class Circle(Shape):\n",
    "    def __init__(self,radius):\n",
    "        self.radius = radius     \n",
    "    def area(self):\n",
    "        return math.pi * self.radius**2\n",
    "class Square(Shape):\n",
    "    def __init__(self, side):\n",
    "        self.side = side\n",
    "    def area(self):\n",
    "        return self.side**2\n",
    "shape_list = [Circle(10),Square(2)]\n",
    "for shape in shape_list:\n",
    "    print(shape.area())\n",
    "        "
   ]
  },
  {
   "cell_type": "code",
   "execution_count": 48,
   "id": "32b387ae",
   "metadata": {},
   "outputs": [
    {
     "name": "stdout",
     "output_type": "stream",
     "text": [
      "314.1592653589793\n",
      "4\n"
     ]
    }
   ],
   "source": [
    "\n",
    "# Create a function named `describe_shape` that takes a `Shape` object as an argument and calls its `area` method. \n",
    "# Create objects of `Circle` and `Square` classes and pass them to the `describe_shape` function.\n",
    "\n",
    "import math\n",
    "class Shape:\n",
    "    def area(self):\n",
    "        print('The area of the shape')\n",
    "class Circle(Shape):\n",
    "    def __init__(self,radius):\n",
    "        self.radius = radius     \n",
    "    def area(self):\n",
    "        return math.pi * self.radius**2\n",
    "class Square(Shape):\n",
    "    def __init__(self, side):\n",
    "        self.side = side\n",
    "    def area(self):\n",
    "        return self.side**2\n",
    "def describe_shape(shape):\n",
    "    print(shape.area())\n",
    "shape_list = [Circle(10),Square(2)]\n",
    "for shape in shape_list:\n",
    "    describe_shape(shape)\n",
    "        "
   ]
  },
  {
   "cell_type": "code",
   "execution_count": 50,
   "id": "7fabff1d",
   "metadata": {},
   "outputs": [
    {
     "name": "stdout",
     "output_type": "stream",
     "text": [
      "Car engine started..\n",
      "Bike engine started\n"
     ]
    }
   ],
   "source": [
    "# Create an abstract base class named `Vehicle` with an abstract method `start_engine`. \n",
    "# Create derived classes `Car` and `Bike` that implement the `start_engine` method. \n",
    "# Create objects of the derived classes and call the `start_engine` method.\n",
    "\n",
    "from abc import ABC, abstractmethod\n",
    "class Vehicle(ABC):\n",
    "    @abstractmethod\n",
    "    def start_engine(self):\n",
    "        pass\n",
    "class Car(Vehicle):\n",
    "    def start_engine(self):\n",
    "        print('Car engine started..')\n",
    "class Bike(Vehicle):\n",
    "    def start_engine(self):\n",
    "        print('Bike engine started')\n",
    "car = Car()\n",
    "bike = Bike()\n",
    "car.start_engine()\n",
    "bike.start_engine()"
   ]
  },
  {
   "cell_type": "code",
   "execution_count": 52,
   "id": "3fad4d42",
   "metadata": {},
   "outputs": [
    {
     "name": "stdout",
     "output_type": "stream",
     "text": [
      "Petrol\n",
      "Octane\n"
     ]
    }
   ],
   "source": [
    "# In the `Vehicle` class, add a concrete method `fuel_type` that returns a generic fuel type. \n",
    "# Override this method in `Car` and `Bike` classes to return specific fuel types. \n",
    "# Create objects of the derived classes and call the `fuel_type` method.\n",
    "\n",
    "class Vehicle:\n",
    "    def __init__(self,type):\n",
    "        self.type = type\n",
    "    def fuel_type(self):\n",
    "        return self.type\n",
    "class Car(Vehicle):\n",
    "    def fuel_type(self):\n",
    "        return self.type\n",
    "class Bike(Vehicle):\n",
    "    def fuel_type(self):\n",
    "        return self.type\n",
    "car = Car('Petrol')\n",
    "bike = Bike('Octane')\n",
    "print(car.fuel_type())\n",
    "print(bike.fuel_type())"
   ]
  },
  {
   "cell_type": "code",
   "execution_count": 55,
   "id": "0024b0a0",
   "metadata": {},
   "outputs": [
    {
     "name": "stdout",
     "output_type": "stream",
     "text": [
      "Account number is 1023452 and balance is 5000\n",
      "Deposit successfully\n",
      "Account number is 1023452 and balance is 6000\n",
      "Withdraw successfully\n",
      "Account number is 1023452 and balance is 5700\n"
     ]
    }
   ],
   "source": [
    "# Create a class named `BankAccount` with private attributes `account_number` and `balance`. \n",
    "# Add methods to deposit and withdraw money, and to check the balance. \n",
    "# Ensure that the balance cannot be accessed directly.\n",
    "\n",
    "class BankAccount:\n",
    "    def __init__(self, account_number, balance):\n",
    "        self.__account_number = account_number\n",
    "        self.__balance = balance\n",
    "    def deopsit(self, amount):\n",
    "        self.__balance += amount\n",
    "        print('Deposit successfully')\n",
    "    def withdraw(self, amount):\n",
    "        if(amount > self.__balance):\n",
    "            print('Insufficient balance')\n",
    "        else:\n",
    "            self.__balance -= amount\n",
    "            print('Withdraw successfully')\n",
    "    def __repr__(self):\n",
    "        return f\"Account number is {self.__account_number} and balance is {self.__balance}\"\n",
    "bankaccount = BankAccount(1023452,5000)\n",
    "print(bankaccount)\n",
    "bankaccount.deopsit(1000)\n",
    "print(bankaccount)\n",
    "bankaccount.withdraw(300)\n",
    "print(bankaccount)\n",
    "\n",
    "\n",
    "    "
   ]
  },
  {
   "cell_type": "code",
   "execution_count": 65,
   "id": "e784a9ee",
   "metadata": {},
   "outputs": [
    {
     "name": "stdout",
     "output_type": "stream",
     "text": [
      "Account number is 1023452 and balance is 5000\n",
      "Deposit successfully\n",
      "Account number is 1023452 and balance is 6000\n",
      "Withdraw successfully\n",
      "Account number is 1023452 and balance is 5700\n",
      "2000\n",
      "Error: Balance cannot be negative.\n",
      "2000\n"
     ]
    }
   ],
   "source": [
    "\n",
    "# In the `BankAccount` class, use property decorators to get and set the `balance` attribute. \n",
    "# Ensure that the balance cannot be set to a negative value.\n",
    "class BankAccount:\n",
    "    def __init__(self, account_number, balance):\n",
    "        self.__account_number = account_number\n",
    "        self.__balance = balance\n",
    "    def deposit(self, amount):\n",
    "        self.__balance += amount\n",
    "        print('Deposit successfully')\n",
    "    def withdraw(self, amount):\n",
    "        if(amount > self.__balance):\n",
    "            print('Insufficient balance')\n",
    "        else:\n",
    "            self.__balance -= amount\n",
    "            print('Withdraw successfully')\n",
    "    @property\n",
    "    def balance(self):  # getter method\n",
    "        return self.__balance\n",
    "\n",
    "    @balance.setter\n",
    "    def balance(self, value):  # setter method\n",
    "        if value < 0:\n",
    "            print(\"Error: Balance cannot be negative.\")\n",
    "        else:\n",
    "            self.__balance = value\n",
    "    \n",
    "    def __repr__(self):\n",
    "        return f\"Account number is {self.__account_number} and balance is {self.__balance}\"\n",
    "bankaccount = BankAccount(1023452, 5000)\n",
    "print(bankaccount)\n",
    "\n",
    "bankaccount.deposit(1000)\n",
    "print(bankaccount)\n",
    "\n",
    "bankaccount.withdraw(300)\n",
    "print(bankaccount)\n",
    "\n",
    "bankaccount.balance = 2000       # ✔️ valid\n",
    "print(bankaccount.balance)       # Output: 2000\n",
    "\n",
    "bankaccount.balance = -500       # ❌ invalid\n",
    "print(bankaccount.balance)       # Output: still 2000\n",
    "\n",
    "\n"
   ]
  },
  {
   "cell_type": "code",
   "execution_count": 73,
   "id": "16386e44",
   "metadata": {},
   "outputs": [
    {
     "name": "stdout",
     "output_type": "stream",
     "text": [
      "Student name is Ovi, age is 24 and id is 121231\n"
     ]
    }
   ],
   "source": [
    "# Create a base class named `Person` with private attributes `name` and `age`. \n",
    "# Add methods to get and set these attributes. \n",
    "# Create a derived class named `Student` that adds an attribute `student_id`. \n",
    "# Create an object of the `Student` class and test the encapsulation.\n",
    "\n",
    "class Person:\n",
    "    def __init__(self, name, age):\n",
    "        self.__name = name\n",
    "        self.__age = age\n",
    "    def get_name(self):\n",
    "        return self.__name\n",
    "    def set_name(self, name):\n",
    "        self.__name = name \n",
    "    def get_age(self):\n",
    "        return self.__age\n",
    "    def set_age(self, age):\n",
    "        self.__age = age\n",
    "class Student(Person):\n",
    "    def __init__(self, name, age, student_id):\n",
    "        super().__init__(name, age)\n",
    "        self.__student_id = student_id\n",
    "    def __repr__(self):\n",
    "        return f\"Student name is {self.get_name()}, age is {self.get_age()} and id is {self.__student_id}\"\n",
    "student1 = Student('Ovi',24,121231)\n",
    "print(student1)\n",
    "\n"
   ]
  },
  {
   "cell_type": "code",
   "execution_count": 74,
   "id": "7b384695",
   "metadata": {},
   "outputs": [
    {
     "name": "stdout",
     "output_type": "stream",
     "text": [
      "Dog can produce sound woof woof\n",
      "Cat can produce sound mewo mewo\n"
     ]
    }
   ],
   "source": [
    "# Create a base class named `Animal` with a method `speak`. \n",
    "# Create two derived classes `Dog` and `Cat` that override the `speak` method. \n",
    "# Create a list of `Animal` objects and call the `speak` method on each object to demonstrate polymorphism.\n",
    "\n",
    "class Animal:\n",
    "    def speak(self):\n",
    "        print('Animal can produce sound')\n",
    "class Dog(Animal):\n",
    "    def speak(self):\n",
    "        print('Dog can produce sound woof woof')\n",
    "class Cat(Animal):\n",
    "    def speak(self):\n",
    "        print('Cat can produce sound mewo mewo')\n",
    "animal_list = [Dog(),Cat()]\n",
    "for animal in animal_list:\n",
    "    animal.speak()"
   ]
  },
  {
   "cell_type": "code",
   "execution_count": 75,
   "id": "476f00ad",
   "metadata": {},
   "outputs": [
    {
     "name": "stdout",
     "output_type": "stream",
     "text": [
      "Full-Time Employee Salary: 50000\n",
      "Part-Time Employee Salary: 40000\n"
     ]
    }
   ],
   "source": [
    "# Create an abstract base class named `Employee` with an abstract method `calculate_salary`. \n",
    "# Create two derived classes `FullTimeEmployee` and `PartTimeEmployee` that implement the `calculate_salary` method. \n",
    "# Create objects of the derived classes and call the `calculate_salary` method.\n",
    "\n",
    "from abc import ABC, abstractmethod\n",
    "\n",
    "# Abstract base class\n",
    "class Employee(ABC):\n",
    "    @abstractmethod\n",
    "    def calculate_salary(self):\n",
    "        pass\n",
    "\n",
    "# Derived class for full-time employee\n",
    "class FullTimeEmployee(Employee):\n",
    "    def __init__(self, monthly_salary):\n",
    "        self.monthly_salary = monthly_salary\n",
    "\n",
    "    def calculate_salary(self):\n",
    "        return self.monthly_salary\n",
    "\n",
    "# Derived class for part-time employee\n",
    "class PartTimeEmployee(Employee):\n",
    "    def __init__(self, hours_worked, hourly_rate):\n",
    "        self.hours_worked = hours_worked\n",
    "        self.hourly_rate = hourly_rate\n",
    "\n",
    "    def calculate_salary(self):\n",
    "        return self.hours_worked * self.hourly_rate\n",
    "\n",
    "# Test\n",
    "full_time = FullTimeEmployee(50000)\n",
    "part_time = PartTimeEmployee(80, 500)\n",
    "\n",
    "print(\"Full-Time Employee Salary:\", full_time.calculate_salary())\n",
    "print(\"Part-Time Employee Salary:\", part_time.calculate_salary())\n",
    "        "
   ]
  },
  {
   "cell_type": "code",
   "execution_count": 77,
   "id": "9c0e71ca",
   "metadata": {},
   "outputs": [
    {
     "name": "stdout",
     "output_type": "stream",
     "text": [
      "\n"
     ]
    }
   ],
   "source": [
    "# Create a data class named `Product` with private attributes `product_id`, `name`, and `price`. \n",
    "# Add methods to get and set these attributes. Ensure that the price cannot be set to a negative value.\n",
    "\n",
    "class Product:\n",
    "    def __init__(self, product_id, name, price):\n",
    "        self.__product_id = product_id\n",
    "        self.__name = name\n",
    "        self.__price = price\n",
    "    def get_price(self):\n",
    "        return self.__price\n",
    "    def set_price(self,value):\n",
    "        if (value < 0):\n",
    "            print(\"\")\n",
    "        else:\n",
    "            self.__price = value    \n",
    "product = Product(102321,'Jacket',1000)\n",
    "product.set_price(-500)\n",
    "\n"
   ]
  },
  {
   "cell_type": "code",
   "execution_count": 79,
   "id": "23e4fb13",
   "metadata": {},
   "outputs": [
    {
     "name": "stdout",
     "output_type": "stream",
     "text": [
      "Vecotor (6 ,8)\n"
     ]
    }
   ],
   "source": [
    "# Create a class named `Vector` with attributes `x` and `y`. \n",
    "# Overload the `+` operator to add two `Vector` objects. \n",
    "# Create objects of the class and test the operator overloading.\n",
    "class Vector:\n",
    "    def __init__(self,x,y):\n",
    "        self.x = x\n",
    "        self.y = y\n",
    "    def __add__(self,other):\n",
    "        return Vector(self.x+other.x,self.y+other.y)\n",
    "    def __repr__(self):\n",
    "        return f\"Vecotor ({self.x} ,{self.y})\"\n",
    "vector1 = Vector(2,3)\n",
    "vector2 = Vector(4,5)\n",
    "print(vector1+vector2)"
   ]
  },
  {
   "cell_type": "code",
   "execution_count": 80,
   "id": "c404a2cb",
   "metadata": {},
   "outputs": [
    {
     "name": "stdout",
     "output_type": "stream",
     "text": [
      "Washing Machine Power: 500 watts\n",
      "Refrigerator Power: 150 watts\n"
     ]
    }
   ],
   "source": [
    "# Create an abstract base class named `Appliance` with an abstract property `power`. \n",
    "# Create two derived classes `WashingMachine` and `Refrigerator` that implement the `power` property. \n",
    "# Create objects of the derived classes and access the `power` property.\n",
    "from abc import ABC, abstractmethod\n",
    "\n",
    "# Abstract base class\n",
    "class Appliance(ABC):\n",
    "    \n",
    "    @property\n",
    "    @abstractmethod\n",
    "    def power(self):\n",
    "        pass\n",
    "\n",
    "# Derived class\n",
    "class WashingMachine(Appliance):\n",
    "    def __init__(self, power_rating):\n",
    "        self._power = power_rating\n",
    "\n",
    "    @property\n",
    "    def power(self):\n",
    "        return f\"Washing Machine Power: {self._power} watts\"\n",
    "\n",
    "# Derived class\n",
    "class Refrigerator(Appliance):\n",
    "    def __init__(self, power_rating):\n",
    "        self._power = power_rating\n",
    "\n",
    "    @property\n",
    "    def power(self):\n",
    "        return f\"Refrigerator Power: {self._power} watts\"\n",
    "\n",
    "# Creating objects\n",
    "wm = WashingMachine(500)\n",
    "fridge = Refrigerator(150)\n",
    "\n",
    "# Accessing the power property\n",
    "print(wm.power)\n",
    "print(fridge.power)"
   ]
  },
  {
   "cell_type": "code",
   "execution_count": 2,
   "id": "ed5c2d2c",
   "metadata": {},
   "outputs": [
    {
     "name": "stdout",
     "output_type": "stream",
     "text": [
      "Superhero is flying\n",
      "Superhero is swiming\n"
     ]
    }
   ],
   "source": [
    "# Create a class named `Flyer` with a method `fly`. \n",
    "# Create a class named `Swimmer` with a method `swim`. \n",
    "# Create a class named `Superhero` that inherits from both `Flyer` and `Swimmer` \n",
    "# and overrides both methods. \n",
    "# Create an object of the `Superhero` class and call both methods.\n",
    "\n",
    "class Flyer:\n",
    "    def fly(self):\n",
    "        print('The object is flying')\n",
    "class Swimmer:\n",
    "    def swim(self):\n",
    "        print('The object is swiming')\n",
    "class Superhero(Flyer,Swimmer):\n",
    "    def fly(self):\n",
    "        print('Superhero is flying')\n",
    "    def swim(self):\n",
    "        print('Superhero is swiming')\n",
    "superhero = Superhero()\n",
    "superhero.fly()\n",
    "superhero.swim()\n"
   ]
  },
  {
   "cell_type": "code",
   "execution_count": 5,
   "id": "0b598a54",
   "metadata": {},
   "outputs": [
    {
     "name": "stdout",
     "output_type": "stream",
     "text": [
      "Engineer is working\n"
     ]
    }
   ],
   "source": [
    "# Create an abstract base class named `Worker` with an abstract method `work`. \n",
    "# Create two derived classes `Engineer` and `Doctor` that implement the `work` method.\n",
    "#  Create another derived class `Scientist` that inherits from both `Engineer` and `Doctor`. \n",
    "# Create an object of the `Scientist` class and call the `work` method.\n",
    "from abc import ABC,abstractmethod\n",
    "class Worker(ABC):\n",
    "    @abstractmethod\n",
    "    def work(self):\n",
    "        pass\n",
    "class Engineer(Worker):\n",
    "    def work(self):\n",
    "        print('Engineer is working')\n",
    "class Doctor(Worker):\n",
    "    def work(self):\n",
    "        print('Doctor is working')\n",
    "class Scientist(Engineer,Doctor):\n",
    "    pass\n",
    "scientist = Scientist()\n",
    "scientist.work()"
   ]
  },
  {
   "cell_type": "code",
   "execution_count": null,
   "id": "9f96e2e0",
   "metadata": {},
   "outputs": [],
   "source": []
  }
 ],
 "metadata": {
  "kernelspec": {
   "display_name": "Python 3",
   "language": "python",
   "name": "python3"
  },
  "language_info": {
   "codemirror_mode": {
    "name": "ipython",
    "version": 3
   },
   "file_extension": ".py",
   "mimetype": "text/x-python",
   "name": "python",
   "nbconvert_exporter": "python",
   "pygments_lexer": "ipython3",
   "version": "3.12.0"
  }
 },
 "nbformat": 4,
 "nbformat_minor": 5
}
