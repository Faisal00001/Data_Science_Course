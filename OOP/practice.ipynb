{
 "cells": [
  {
   "cell_type": "code",
   "execution_count": 1,
   "id": "11fa588e",
   "metadata": {},
   "outputs": [
    {
     "name": "stdout",
     "output_type": "stream",
     "text": [
      "Hi\n"
     ]
    }
   ],
   "source": [
    "print('Hi')"
   ]
  },
  {
   "cell_type": "markdown",
   "id": "41108275",
   "metadata": {},
   "source": []
  },
  {
   "cell_type": "code",
   "execution_count": 2,
   "id": "b0bda60d",
   "metadata": {},
   "outputs": [
    {
     "name": "stdout",
     "output_type": "stream",
     "text": [
      "Car make True\n",
      "Car model Tesla\n",
      "Car year 2025\n"
     ]
    }
   ],
   "source": [
    "# Create a class named `Car` with attributes `make`, `model`, and `year`. Create an object of the class and print its attributes.\n",
    "class Car:\n",
    "    def __init__(self, make,model,year):\n",
    "        self.make = make\n",
    "        self.model = model\n",
    "        self.year = year\n",
    "car1 = Car(True,'Tesla','2025')\n",
    "print(f\"Car make {car1.make}\")\n",
    "print(f\"Car model {car1.model}\")\n",
    "print(f\"Car year {car1.year}\")\n",
    "        "
   ]
  },
  {
   "cell_type": "code",
   "execution_count": 3,
   "id": "747007c2",
   "metadata": {},
   "outputs": [
    {
     "name": "stdout",
     "output_type": "stream",
     "text": [
      "Car make True\n",
      "Car model Tesla\n",
      "Car year 2025\n",
      "Car engine started successfully\n"
     ]
    }
   ],
   "source": [
    "# Add a method named `start_engine` to the `Car` class that prints a message when the engine starts. Create an object of the class and call the method.\n",
    "class Car:\n",
    "    def __init__(self, make,model,year):\n",
    "        self.make = make\n",
    "        self.model = model\n",
    "        self.year = year\n",
    "    def start_engine(self):\n",
    "        print('Car engine started successfully')\n",
    "car1 = Car(True,'Tesla','2025')\n",
    "print(f\"Car make {car1.make}\")\n",
    "print(f\"Car model {car1.model}\")\n",
    "print(f\"Car year {car1.year}\")\n",
    "car1.start_engine()\n",
    "        "
   ]
  },
  {
   "cell_type": "code",
   "execution_count": 4,
   "id": "64d8404a",
   "metadata": {},
   "outputs": [
    {
     "name": "stdout",
     "output_type": "stream",
     "text": [
      "25\n",
      "Faisal\n"
     ]
    }
   ],
   "source": [
    "\n",
    "# Create a class named `Student` with attributes `name` and `age`. Use a constructor to initialize these attributes. Create an object of the class and print its attributes.\n",
    "\n",
    "class Student:\n",
    "    def __init__(self,name,age):\n",
    "        self.name = name\n",
    "        self.age = age\n",
    "student1 = Student('Faisal',25)\n",
    "print(student1.age)\n",
    "print(student1.name)"
   ]
  },
  {
   "cell_type": "code",
   "execution_count": 5,
   "id": "5afbc6e4",
   "metadata": {},
   "outputs": [],
   "source": [
    "# Create a class named `BankAccount` with private attributes `account_number` and `balance`.\n",
    "#  Add methods to deposit and withdraw money, and to check the balance.\n",
    "#  Create an object of the class and perform some operations.\n",
    "\n",
    "class BankAccount:\n",
    "    def __init__(self, account_number, balance):\n",
    "        self.__account_number = account_number\n",
    "        self.__balance = balance\n",
    "    def deposit(self, amount):\n",
    "        self.__balance += amount\n",
    "        print('Deposit successfully')\n",
    "    def withdraw (self, amount):\n",
    "        if amount > self.__balance:\n",
    "            print('Insufficient Balance')\n",
    "        else:\n",
    "            self.__balance -= amount\n",
    "            print('Withdraw successfully')\n",
    "    def __repr__(self):\n",
    "        return f\"Account number {self.__account_number} and available balance is {self.__balance}\"\n",
    "account1 = BankAccount(102324543,2000)\n",
    "\n"
   ]
  },
  {
   "cell_type": "code",
   "execution_count": 6,
   "id": "f897471a",
   "metadata": {},
   "outputs": [
    {
     "name": "stdout",
     "output_type": "stream",
     "text": [
      "Account number 102324543 and available balance is 2000\n"
     ]
    }
   ],
   "source": [
    "print(account1)"
   ]
  },
  {
   "cell_type": "code",
   "execution_count": 8,
   "id": "616651ab",
   "metadata": {},
   "outputs": [
    {
     "name": "stdout",
     "output_type": "stream",
     "text": [
      "Withdraw successfully\n"
     ]
    }
   ],
   "source": [
    "account1.withdraw(400)"
   ]
  },
  {
   "cell_type": "code",
   "execution_count": 9,
   "id": "956e11f0",
   "metadata": {},
   "outputs": [
    {
     "name": "stdout",
     "output_type": "stream",
     "text": [
      "Account number 102324543 and available balance is 1600\n"
     ]
    }
   ],
   "source": [
    "print(account1)"
   ]
  },
  {
   "cell_type": "code",
   "execution_count": 10,
   "id": "d3b7ad1b",
   "metadata": {},
   "outputs": [
    {
     "name": "stdout",
     "output_type": "stream",
     "text": [
      "Deposit successfully\n"
     ]
    }
   ],
   "source": [
    "account1.deposit(1000)"
   ]
  },
  {
   "cell_type": "code",
   "execution_count": 11,
   "id": "266fae32",
   "metadata": {},
   "outputs": [
    {
     "name": "stdout",
     "output_type": "stream",
     "text": [
      "Account number 102324543 and available balance is 2600\n"
     ]
    }
   ],
   "source": [
    "print(account1)"
   ]
  },
  {
   "cell_type": "code",
   "execution_count": 13,
   "id": "8621b4f4",
   "metadata": {},
   "outputs": [
    {
     "name": "stdout",
     "output_type": "stream",
     "text": [
      "Employee name is Faisal, age is 20 and employee id is 102456\n"
     ]
    }
   ],
   "source": [
    "# Create a base class named `Person` with attributes `name` and `age`. \n",
    "# Create a derived class named `Employee` that inherits from `Person` and adds an attribute `employee_id`. \n",
    "# Create an object of the derived class and print its attributes.\n",
    "\n",
    "class Person:\n",
    "    def __init__(self, name, age):\n",
    "        self.name = name\n",
    "        self.age = age\n",
    "class Employee(Person):\n",
    "    def __init__(self, name, age, employee_id):\n",
    "        super().__init__(name, age)\n",
    "        self.employee_id = employee_id\n",
    "    def __repr__(self):\n",
    "        return f\"Employee name is {self.name}, age is {self.age} and employee id is {self.employee_id}\"\n",
    "employee1 = Employee('Faisal',20,102456)\n",
    "print(employee1)"
   ]
  },
  {
   "cell_type": "code",
   "execution_count": 14,
   "id": "45559186",
   "metadata": {},
   "outputs": [
    {
     "name": "stdout",
     "output_type": "stream",
     "text": [
      "Employee name is Faisal, age is 20 and employee id is 102456\n"
     ]
    }
   ],
   "source": [
    "\n",
    "# In the `Employee` class, override the `__str__` method to return a string representation of the object. \n",
    "# Create an object of the class and print it.\n",
    "class Person:\n",
    "    def __init__(self, name, age):\n",
    "        self.name = name\n",
    "        self.age = age\n",
    "class Employee(Person):\n",
    "    def __init__(self, name, age, employee_id):\n",
    "        super().__init__(name, age)\n",
    "        self.employee_id = employee_id\n",
    "    def __str__(self):\n",
    "        return f\"Employee name is {self.name}, age is {self.age} and employee id is {self.employee_id}\"\n",
    "employee1 = Employee('Faisal',20,102456)\n",
    "print(employee1)"
   ]
  },
  {
   "cell_type": "code",
   "execution_count": 17,
   "id": "eccde2bf",
   "metadata": {},
   "outputs": [
    {
     "name": "stdout",
     "output_type": "stream",
     "text": [
      "Alice's address is: 123 Main St, New York, 10001\n"
     ]
    }
   ],
   "source": [
    "# Create a class named `Address` with attributes `street`, `city`, and `zipcode`. \n",
    "# Create a class named `Person` that has an `Address` object as an attribute. \n",
    "# Create an object of the `Person` class and print its address.\n",
    "class Address:\n",
    "    def __init__(self, street, city, zipcode):\n",
    "        self.street = street\n",
    "        self.city = city\n",
    "        self.zipcode = zipcode\n",
    "    def __str__(self):\n",
    "        return f\"{self.street}, {self.city}, {self.zipcode}\"\n",
    "class Person:\n",
    "    def __init__(self, name, address):  # address is an Address object\n",
    "        self.name = name\n",
    "        self.address = address\n",
    "# Create an Address object\n",
    "my_address = Address(\"123 Main St\", \"New York\", \"10001\")\n",
    "\n",
    "person1 = Person('Alice',my_address)\n",
    "# Print the person's address\n",
    "print(f\"{person1.name}'s address is: {person1.address}\")"
   ]
  },
  {
   "cell_type": "code",
   "execution_count": 18,
   "id": "3591afc5",
   "metadata": {},
   "outputs": [
    {
     "name": "stdout",
     "output_type": "stream",
     "text": [
      "2\n"
     ]
    }
   ],
   "source": [
    "# Create a class named `Counter` with a class variable `count`.\n",
    "#  Each time an object is created, increment the count.\n",
    "#  Add a method to get the current count.\n",
    "#  Create multiple objects and print the count.\n",
    "\n",
    "class Counter:\n",
    "    count = 0\n",
    "    def __init__(self):\n",
    "        Counter.count += 1\n",
    "    @classmethod\n",
    "    def current_count(cls):\n",
    "        return cls.count\n",
    "obj1 = Counter()\n",
    "obj2 = Counter()\n",
    "print(Counter.current_count())\n",
    "    \n",
    "        "
   ]
  },
  {
   "cell_type": "code",
   "execution_count": null,
   "id": "04f77223",
   "metadata": {},
   "outputs": [],
   "source": [
    "# Create a class named MathOperations with a static method to calculate the square root of a number. \n",
    "# Call the static method without creating an object."
   ]
  },
  {
   "cell_type": "code",
   "execution_count": 20,
   "id": "5a791945",
   "metadata": {},
   "outputs": [
    {
     "name": "stdout",
     "output_type": "stream",
     "text": [
      "5.0\n"
     ]
    }
   ],
   "source": [
    "import math\n",
    "\n",
    "class MathOperations:\n",
    "    @staticmethod\n",
    "    def square_root(number):\n",
    "        return math.sqrt(number)\n",
    "print(MathOperations.square_root(25))"
   ]
  },
  {
   "cell_type": "code",
   "execution_count": 21,
   "id": "60399f99",
   "metadata": {},
   "outputs": [
    {
     "name": "stdout",
     "output_type": "stream",
     "text": [
      "Area of Circle: 78.54\n",
      "Area of Square: 16\n"
     ]
    }
   ],
   "source": [
    "# Create an abstract base class named `Shape` with an abstract method `area`. \n",
    "# Create derived classes `Circle` and `Square` that implement the `area` method. \n",
    "# Create objects of the derived classes and call the `area` method.\n",
    "import math\n",
    "from abc import ABC,abstractmethod\n",
    "class Shape(ABC):\n",
    "    @abstractmethod\n",
    "    def area(self):\n",
    "        pass\n",
    "class Circle(Shape):\n",
    "    def __init__(self,radius):\n",
    "        self.radius = radius\n",
    "    def area(self):\n",
    "        return math.pi * self.radius ** 2\n",
    "class Square(Shape):\n",
    "    def __init__(self,side):\n",
    "        self.side = side\n",
    "    def area(self):\n",
    "        return self.side**2\n",
    "# Create objects and call area\n",
    "circle = Circle(5)\n",
    "square = Square(4)\n",
    "\n",
    "print(f\"Area of Circle: {circle.area():.2f}\")\n",
    "print(f\"Area of Square: {square.area()}\")"
   ]
  },
  {
   "cell_type": "code",
   "execution_count": 24,
   "id": "6521c322",
   "metadata": {},
   "outputs": [
    {
     "name": "stdout",
     "output_type": "stream",
     "text": [
      "Vector (15, 10)\n",
      "Vector (-5, -2)\n"
     ]
    }
   ],
   "source": [
    "# Create a class named `Vector` with attributes `x` and `y`. \n",
    "# Overload the `+` operator to add two `Vector` objects. \n",
    "# Create objects of the class and test the operator overloading.\n",
    "\n",
    "class Vector:\n",
    "    def __init__(self,x,y):\n",
    "        self.x = x\n",
    "        self.y = y\n",
    "    def __add__(self,other):\n",
    "        return Vector(self.x+other.x, self.y+other.y)\n",
    "    def __sub__(self,other):\n",
    "        return Vector(self.x - other.x, self.y - other.y)\n",
    "    def __repr__(self):\n",
    "        return f\"Vector ({self.x}, {self.y})\"\n",
    "vector1 = Vector(5,4)\n",
    "vector2 = Vector(10,6)\n",
    "print(vector1+vector2)\n",
    "print(vector1-vector2)"
   ]
  },
  {
   "cell_type": "code",
   "execution_count": 32,
   "id": "2cb6f8e3",
   "metadata": {},
   "outputs": [
    {
     "name": "stdout",
     "output_type": "stream",
     "text": [
      "Acccount number 1012023241 and balance is 5000\n",
      "Acccount number 1012023241 and balance is 4900\n"
     ]
    }
   ],
   "source": [
    "# Create a custom exception named `InsufficientBalanceError`.\n",
    "#  In the `BankAccount` class, raise this exception when a withdrawal amount is greater than the balance.\n",
    "#  Handle the exception and print an appropriate message.\n",
    "class InsufficientBalanceError(Exception):\n",
    "    pass\n",
    "class BankAccount:\n",
    "    def __init__(self, account_num, balance):\n",
    "        self.__account_num = account_num\n",
    "        self.__balance = balance\n",
    "    def withdraw(self, amount):\n",
    "        try:\n",
    "            if amount > self.__balance:\n",
    "               raise InsufficientBalanceError\n",
    "            else:\n",
    "                self.__balance -= amount\n",
    "        except InsufficientBalanceError:\n",
    "            print('Withdraw not possible. Amount should be less then current balance')\n",
    "    def __repr__(self):\n",
    "        return f\"Acccount number {self.__account_num} and balance is {self.__balance}\"\n",
    "account1 = BankAccount(1012023241,5000)\n",
    "print(account1)\n",
    "account1.withdraw(100)\n",
    "print(account1)\n",
    "\n",
    "\n"
   ]
  },
  {
   "cell_type": "code",
   "execution_count": 2,
   "id": "d6f9be95",
   "metadata": {},
   "outputs": [
    {
     "name": "stdout",
     "output_type": "stream",
     "text": [
      "Hello Faisal\n",
      "How are you.\n",
      "How are you doing\n"
     ]
    }
   ],
   "source": [
    "class FileManager:\n",
    "    def __init__(self,filename, mode):\n",
    "        self.filename = filename\n",
    "        self.mode = mode\n",
    "        self.file = None\n",
    "    def __enter__(self):\n",
    "        self.file = open(self.filename,self.mode)\n",
    "        return self.file\n",
    "    def __exit__(self,exc_type, exc_value, traceback):\n",
    "        if self.file:\n",
    "            self.file.close()\n",
    "filename ='example.txt'\n",
    "\n",
    "with FileManager(filename,'r') as f:\n",
    "    content = f.read()\n",
    "    print(content)\n"
   ]
  },
  {
   "cell_type": "code",
   "execution_count": 3,
   "id": "ed0cf318",
   "metadata": {},
   "outputs": [],
   "source": [
    "class Calculator:\n",
    "    def __init__(self, value=0):\n",
    "        self.value = value\n",
    "\n",
    "    def add(self, number):\n",
    "        self.value += number\n",
    "        return self\n",
    "\n",
    "    def subtract(self, number):\n",
    "        self.value -= number\n",
    "        return self\n",
    "\n",
    "    def multiply(self, number):\n",
    "        self.value *= number\n",
    "        return self\n",
    "\n",
    "    def divide(self, number):\n",
    "        if number != 0:\n",
    "            self.value /= number\n",
    "        else:\n",
    "            print(\"Error: Division by zero.\")\n",
    "        return self\n",
    "\n",
    "    def get_result(self):\n",
    "        return self.value\n"
   ]
  },
  {
   "cell_type": "code",
   "execution_count": 4,
   "id": "63a4c975",
   "metadata": {},
   "outputs": [
    {
     "name": "stdout",
     "output_type": "stream",
     "text": [
      "Result: 6.0\n"
     ]
    }
   ],
   "source": [
    "calc = Calculator()\n",
    "\n",
    "# Chaining multiple method calls\n",
    "result = calc.add(10).subtract(2).multiply(3).divide(4).get_result()\n",
    "\n",
    "print(\"Result:\", result)  # Output: Result: 6.0"
   ]
  },
  {
   "cell_type": "code",
   "execution_count": 10,
   "id": "2a331c84",
   "metadata": {},
   "outputs": [],
   "source": [
    "class Calculator:\n",
    "    def __init__(self,value = 0):\n",
    "        self.value = value\n",
    "    def add(self, number):\n",
    "        self.value += number\n",
    "        return self\n",
    "    def sub(self, number):\n",
    "        self.value -=number\n",
    "        return self\n",
    "    def mul(self, number):\n",
    "        self.value *= number\n",
    "        return self\n",
    "    def divide(self, number):\n",
    "        if(number==0):\n",
    "            print('Error: Division by zero')\n",
    "        else:\n",
    "            self.value /= number\n",
    "        return self\n",
    "    def get_res(self):\n",
    "        return self.value\n",
    "\n",
    "        \n",
    "         "
   ]
  },
  {
   "cell_type": "code",
   "execution_count": 12,
   "id": "964d1908",
   "metadata": {},
   "outputs": [
    {
     "name": "stdout",
     "output_type": "stream",
     "text": [
      "Result  2.4\n"
     ]
    }
   ],
   "source": [
    "cal1 = Calculator()\n",
    "res = cal1.add(10).sub(2).mul(3).divide(10).get_res()\n",
    "print('Result ',res)"
   ]
  },
  {
   "cell_type": "code",
   "execution_count": null,
   "id": "4411c474",
   "metadata": {},
   "outputs": [],
   "source": []
  }
 ],
 "metadata": {
  "kernelspec": {
   "display_name": "Python 3",
   "language": "python",
   "name": "python3"
  },
  "language_info": {
   "codemirror_mode": {
    "name": "ipython",
    "version": 3
   },
   "file_extension": ".py",
   "mimetype": "text/x-python",
   "name": "python",
   "nbconvert_exporter": "python",
   "pygments_lexer": "ipython3",
   "version": "3.12.0"
  }
 },
 "nbformat": 4,
 "nbformat_minor": 5
}
