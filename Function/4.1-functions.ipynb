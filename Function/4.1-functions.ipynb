{
 "cells": [
  {
   "cell_type": "code",
   "execution_count": 1,
   "id": "516340e1",
   "metadata": {},
   "outputs": [
    {
     "name": "stdout",
     "output_type": "stream",
     "text": [
      "Fun|}\n"
     ]
    }
   ],
   "source": [
    "print('Fun|}')"
   ]
  },
  {
   "cell_type": "code",
   "execution_count": 4,
   "id": "89bc15b0",
   "metadata": {},
   "outputs": [
    {
     "name": "stdout",
     "output_type": "stream",
     "text": [
      "Hello Guest. Welcome to the paradise\n"
     ]
    }
   ],
   "source": [
    "#Defaullt parameter\n",
    "def greet(name=\"Guest\"):\n",
    "    print(f\"Hello {name}. Welcome to the paradise\")\n",
    "greet()"
   ]
  },
  {
   "cell_type": "code",
   "execution_count": null,
   "id": "734bd37a",
   "metadata": {},
   "outputs": [
    {
     "name": "stdout",
     "output_type": "stream",
     "text": [
      "1\n",
      "2\n",
      "3\n",
      "4\n",
      "5\n",
      "6\n",
      "7\n",
      "8\n",
      "9\n",
      "10\n",
      "Faisal\n"
     ]
    }
   ],
   "source": [
    "## Variable length arguments\n",
    "#Positional arguments\n",
    "def print_number(*args):\n",
    "    for number in args:\n",
    "        print(number)\n",
    "print_number(1,2,3,4,5,6,7,8,9,10,\"Faisal\")"
   ]
  },
  {
   "cell_type": "code",
   "execution_count": 8,
   "id": "54aad712",
   "metadata": {},
   "outputs": [
    {
     "name": "stdout",
     "output_type": "stream",
     "text": [
      "1\n",
      "2\n",
      "3\n",
      "4\n",
      "5\n",
      "6\n",
      "7\n",
      "8\n",
      "9\n",
      "10\n",
      "Faisal\n",
      "name Faisal\n",
      "age 23\n",
      "country Bangladesh\n"
     ]
    }
   ],
   "source": [
    "#Keywords arguments\n",
    "def print_detail(*args,**kwargs):\n",
    "    for number in args:\n",
    "        print(number)\n",
    "    # Key value pair\n",
    "    for key,value in kwargs.items():\n",
    "        print(f\"{key} {value}\")\n",
    "print_detail(1,2,3,4,5,6,7,8,9,10,\"Faisal\",name=\"Faisal\",age=23,country=\"Bangladesh\")"
   ]
  },
  {
   "cell_type": "code",
   "execution_count": 9,
   "id": "8f5056d1",
   "metadata": {},
   "outputs": [
    {
     "data": {
      "text/plain": [
       "(6, 2)"
      ]
     },
     "execution_count": 9,
     "metadata": {},
     "output_type": "execute_result"
    }
   ],
   "source": [
    "#multiple retrun\n",
    "def multiply(a,b):\n",
    "    return a*b,a\n",
    "multiply(2,3)"
   ]
  },
  {
   "cell_type": "code",
   "execution_count": 16,
   "id": "e7a4bb04",
   "metadata": {},
   "outputs": [
    {
     "name": "stdout",
     "output_type": "stream",
     "text": [
      "False\n",
      "True\n"
     ]
    }
   ],
   "source": [
    "#Passoword Checker\n",
    "def is_strong_pass(password):\n",
    "    if(len(password)<8):\n",
    "        return False\n",
    "    if not any( char.isdigit() for char in password):\n",
    "        return False\n",
    "    if not any( char.islower() for char in password):\n",
    "        return False\n",
    "    if not any( char.isupper() for char in password):\n",
    "        return False\n",
    "    if not any( char in \"!@#$%^&*()_+\" for char in password):\n",
    "        return False\n",
    "    return True\n",
    "\n",
    "\n",
    "# Test the function\n",
    "print(is_strong_pass('adcvva'))  # Output: False\n",
    "print(is_strong_pass('A1d@cvva'))  # Output: True"
   ]
  },
  {
   "cell_type": "code",
   "execution_count": 23,
   "id": "76b74208",
   "metadata": {},
   "outputs": [
    {
     "name": "stdout",
     "output_type": "stream",
     "text": [
      "Total cost 5.8999999999999995\n"
     ]
    }
   ],
   "source": [
    "def calculate_total_cost(cart):\n",
    "    total_cost = 0\n",
    "    for item in cart:\n",
    "        total_cost+=item['price'] * item['quantity']\n",
    "    return total_cost\n",
    "cart=[\n",
    "    {\n",
    "        'name':'Apple',\n",
    "        'price': 0.5,\n",
    "        'quantity':4\n",
    "    },\n",
    "    {\n",
    "        'name':'Bannna',\n",
    "        'price': 0.3,\n",
    "        'quantity':6\n",
    "    },\n",
    "     {\n",
    "        'name':'Orange',\n",
    "        'price': 0.7,\n",
    "        'quantity':3\n",
    "    }\n",
    "]\n",
    "print(f\"Total cost {calculate_total_cost(cart)}\")"
   ]
  },
  {
   "cell_type": "code",
   "execution_count": 25,
   "id": "97af6f1a",
   "metadata": {},
   "outputs": [
    {
     "name": "stdout",
     "output_type": "stream",
     "text": [
      "True\n",
      "False\n"
     ]
    }
   ],
   "source": [
    "#Check palindrome\n",
    "def is_palindrome(s):\n",
    "    s = s.lower().replace(\" \",\"\")\n",
    "    return s == s[::-1]\n",
    "print(is_palindrome(\"A man a plan a canal Panama\"))\n",
    "print(is_palindrome(\"Hello\"))"
   ]
  },
  {
   "cell_type": "code",
   "execution_count": 26,
   "id": "ea1141fb",
   "metadata": {},
   "outputs": [
    {
     "name": "stdout",
     "output_type": "stream",
     "text": [
      "120\n"
     ]
    }
   ],
   "source": [
    "#Factorial using recursion\n",
    "def factorail(n):\n",
    "    if n==0:\n",
    "        return 1\n",
    "    else:\n",
    "        return n*factorail(n-1)\n",
    "\n",
    "print(factorail(5))"
   ]
  },
  {
   "cell_type": "code",
   "execution_count": 28,
   "id": "ec694817",
   "metadata": {},
   "outputs": [
    {
     "name": "stdout",
     "output_type": "stream",
     "text": [
      "{'hello': 1, 'world': 1, 'how': 1, 'are': 1, 'you': 1, 'my': 1, 'name': 1, 'is': 1, 'faisal': 2}\n"
     ]
    }
   ],
   "source": [
    "def count_word_frequnecy(file_path):\n",
    "    word_count = {}\n",
    "    with open(file_path,\"r\") as file:\n",
    "        for line in file:\n",
    "            words = line.split()\n",
    "            for word in words:\n",
    "                word = word.lower().strip('.,!?;:\"\\'')  \n",
    "                word_count[word] = word_count.get(word,0) + 1\n",
    "        return word_count\n",
    "file_path = 'sample.txt'\n",
    "word_frequnecy = count_word_frequnecy(file_path)\n",
    "print(word_frequnecy)"
   ]
  },
  {
   "cell_type": "code",
   "execution_count": null,
   "id": "98a1b8bf",
   "metadata": {},
   "outputs": [],
   "source": []
  }
 ],
 "metadata": {
  "kernelspec": {
   "display_name": "Python 3",
   "language": "python",
   "name": "python3"
  },
  "language_info": {
   "codemirror_mode": {
    "name": "ipython",
    "version": 3
   },
   "file_extension": ".py",
   "mimetype": "text/x-python",
   "name": "python",
   "nbconvert_exporter": "python",
   "pygments_lexer": "ipython3",
   "version": "3.10.0"
  }
 },
 "nbformat": 4,
 "nbformat_minor": 5
}
