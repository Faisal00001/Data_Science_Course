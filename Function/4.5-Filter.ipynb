{
 "cells": [
  {
   "cell_type": "code",
   "execution_count": 1,
   "id": "ea7e3f8d",
   "metadata": {},
   "outputs": [
    {
     "name": "stdout",
     "output_type": "stream",
     "text": [
      "Hi\n"
     ]
    }
   ],
   "source": [
    "print('Hi')"
   ]
  },
  {
   "cell_type": "code",
   "execution_count": 2,
   "id": "6f2e1e5c",
   "metadata": {},
   "outputs": [],
   "source": [
    "def even(num):\n",
    "    if(num%2==0):\n",
    "        return True"
   ]
  },
  {
   "cell_type": "code",
   "execution_count": 3,
   "id": "95b1f872",
   "metadata": {},
   "outputs": [
    {
     "data": {
      "text/plain": [
       "[2, 4, 6, 8, 10, 12]"
      ]
     },
     "execution_count": 3,
     "metadata": {},
     "output_type": "execute_result"
    }
   ],
   "source": [
    "lst = [1,2,3,4,5,6,7,8,9,10,11,12]\n",
    "list(filter(even,lst))"
   ]
  },
  {
   "cell_type": "code",
   "execution_count": 4,
   "id": "36cb12f4",
   "metadata": {},
   "outputs": [
    {
     "name": "stdout",
     "output_type": "stream",
     "text": [
      "[6, 7, 8, 9, 10, 11, 12]\n"
     ]
    }
   ],
   "source": [
    "lst = [1,2,3,4,5,6,7,8,9,10,11,12]\n",
    "greater_then_five = list(filter(lambda x:x>5,lst))\n",
    "print(greater_then_five)"
   ]
  },
  {
   "cell_type": "code",
   "execution_count": 7,
   "id": "16c9b4bb",
   "metadata": {},
   "outputs": [
    {
     "name": "stdout",
     "output_type": "stream",
     "text": [
      "[6, 8, 10, 12]\n"
     ]
    }
   ],
   "source": [
    "#Filter with mul condition\n",
    "lst = [1,2,3,4,5,6,7,8,9,10,11,12]\n",
    "even_and_greater_then_five = list(filter(lambda x:x>5 and x%2==0,lst))\n",
    "print(even_and_greater_then_five)"
   ]
  },
  {
   "cell_type": "code",
   "execution_count": 8,
   "id": "ac77d13e",
   "metadata": {},
   "outputs": [
    {
     "data": {
      "text/plain": [
       "[{'name': 'Faisal', 'age': 24}]"
      ]
     },
     "execution_count": 8,
     "metadata": {},
     "output_type": "execute_result"
    }
   ],
   "source": [
    "\n",
    "people = [\n",
    "    {\n",
    "        'name':'Faisal',\n",
    "        'age':24\n",
    "    },\n",
    "    {\n",
    "        'name':'Onney',\n",
    "        'age':10\n",
    "    }\n",
    "] \n",
    "def age_greater_then(people):\n",
    "    return people['age']>10\n",
    "\n",
    "list(filter(age_greater_then,people))"
   ]
  },
  {
   "cell_type": "code",
   "execution_count": null,
   "id": "36ba67cb",
   "metadata": {},
   "outputs": [],
   "source": [
    "def fib(n):\n",
    "    if n==0 or n==1:\n",
    "        return n\n",
    "    else:\n",
    "     result = fib(n-1)+fib(n-2)\n",
    "    return result\n",
    "print(fib(20))"
   ]
  },
  {
   "cell_type": "code",
   "execution_count": 22,
   "id": "e605dff6",
   "metadata": {},
   "outputs": [
    {
     "name": "stdout",
     "output_type": "stream",
     "text": [
      "354224848179261915075\n"
     ]
    }
   ],
   "source": [
    "def fib(n, memo={}):\n",
    "    if n in memo:\n",
    "        return memo[n]\n",
    "    if n<=1:\n",
    "        return n\n",
    "    \n",
    "    memo[n] = fib(n-1,memo) + fib(n-2,memo)\n",
    "    return memo[n]\n",
    "print(fib(100))"
   ]
  },
  {
   "cell_type": "code",
   "execution_count": 26,
   "id": "1bebcb41",
   "metadata": {},
   "outputs": [
    {
     "name": "stdout",
     "output_type": "stream",
     "text": [
      "{'x': 'value_for_x'}\n",
      "{'y': 'value_for_y'}\n",
      "{'a': 1, 'z': 'value_for_z'}\n"
     ]
    }
   ],
   "source": [
    "def add_to_dict(a, b=None):\n",
    "    if b is None:\n",
    "        b = {}\n",
    "    b[a] = f\"value_for_{a}\"\n",
    "    return b\n",
    "print(add_to_dict('x'))  # {'x': 'value_for_x'}\n",
    "print(add_to_dict('y'))  # {'y': 'value_for_y'}\n",
    "print(add_to_dict('z', {'a': 1}))  # {'a': 1, 'z': 'value_for_z'}"
   ]
  },
  {
   "cell_type": "code",
   "execution_count": 30,
   "id": "b8cd1add",
   "metadata": {},
   "outputs": [
    {
     "name": "stdout",
     "output_type": "stream",
     "text": [
      "[2, 4, 5, 10]\n"
     ]
    }
   ],
   "source": [
    "def contain_numbers(**kwargs):\n",
    "    int_num = list(filter(lambda num: type(num) == int, kwargs.values()))\n",
    "    return int_num\n",
    "\n",
    "# Passing arguments as key-value pairs (e.g., 'a=1', 'b=2', etc.)\n",
    "print(contain_numbers(a='1', b=2, c='6', d=4, e=5, f=10))"
   ]
  },
  {
   "cell_type": "code",
   "execution_count": 31,
   "id": "a3b1b49c",
   "metadata": {},
   "outputs": [
    {
     "name": "stdout",
     "output_type": "stream",
     "text": [
      "[1, 4, 9, 16, 25]\n",
      "[2, 4, 6, 8, 10]\n",
      "[-1, -2, -3, -4, -5]\n"
     ]
    }
   ],
   "source": [
    "def apply_callback(callback,int_list):\n",
    "    return [callback(item) for item in int_list]\n",
    "def square(item):\n",
    "    return item**2\n",
    "def double(item):\n",
    "    return item+item\n",
    "def negate(item):\n",
    "    return -item\n",
    "\n",
    "numbers = [1, 2, 3, 4, 5]\n",
    "\n",
    "print(apply_callback(square, numbers))  # [1, 4, 9, 16, 25]\n",
    "print(apply_callback(double, numbers))  # [2, 4, 6, 8, 10]\n",
    "print(apply_callback(negate, numbers))  # [-1, -2, -3, -4, -5]"
   ]
  },
  {
   "cell_type": "code",
   "execution_count": 33,
   "id": "99877035",
   "metadata": {},
   "outputs": [
    {
     "name": "stdout",
     "output_type": "stream",
     "text": [
      "Execution time for 'complex_calculation': 0.000000 seconds\n",
      "Execution time for 'complex_calculation': 0.000000 seconds\n",
      "Execution time for 'complex_calculation': 0.000997 seconds\n",
      "Execution time for 'complex_calculation': 0.000000 seconds\n",
      "Execution time for 'complex_calculation': 0.000997 seconds\n",
      "Execution time for 'complex_calculation': 0.000000 seconds\n",
      "Execution time for 'complex_calculation': 0.000997 seconds\n",
      "Execution time for 'complex_calculation': 0.000000 seconds\n",
      "Execution time for 'complex_calculation': 0.000997 seconds\n",
      "Execution time for 'complex_calculation': 0.000000 seconds\n",
      "Execution time for 'complex_calculation': 0.000997 seconds\n",
      "Execution time for 'complex_calculation': 0.000000 seconds\n",
      "Execution time for 'complex_calculation': 0.000997 seconds\n",
      "Execution time for 'complex_calculation': 0.000000 seconds\n",
      "Execution time for 'complex_calculation': 0.000997 seconds\n",
      "Execution time for 'complex_calculation': 0.000000 seconds\n",
      "Execution time for 'complex_calculation': 0.000997 seconds\n",
      "Execution time for 'complex_calculation': 0.000000 seconds\n",
      "Execution time for 'complex_calculation': 0.000997 seconds\n",
      "Execution time for 'complex_calculation': 0.000000 seconds\n",
      "Execution time for 'complex_calculation': 0.000997 seconds\n",
      "Execution time for 'complex_calculation': 0.000000 seconds\n",
      "Execution time for 'complex_calculation': 0.000997 seconds\n",
      "Execution time for 'complex_calculation': 0.000000 seconds\n",
      "Execution time for 'complex_calculation': 0.000997 seconds\n",
      "Execution time for 'complex_calculation': 0.000000 seconds\n",
      "Execution time for 'complex_calculation': 0.001535 seconds\n",
      "Execution time for 'complex_calculation': 0.000000 seconds\n",
      "Execution time for 'complex_calculation': 0.001535 seconds\n",
      "Execution time for 'complex_calculation': 0.000000 seconds\n",
      "Execution time for 'complex_calculation': 0.001642 seconds\n",
      "Execution time for 'complex_calculation': 0.000000 seconds\n",
      "Execution time for 'complex_calculation': 0.001642 seconds\n",
      "Execution time for 'complex_calculation': 0.000000 seconds\n",
      "Execution time for 'complex_calculation': 0.001642 seconds\n",
      "Execution time for 'complex_calculation': 0.000000 seconds\n",
      "Execution time for 'complex_calculation': 0.001642 seconds\n",
      "Execution time for 'complex_calculation': 0.000000 seconds\n",
      "Execution time for 'complex_calculation': 0.001642 seconds\n",
      "Execution time for 'complex_calculation': 0.000000 seconds\n",
      "Execution time for 'complex_calculation': 0.001642 seconds\n",
      "Execution time for 'complex_calculation': 0.000000 seconds\n",
      "Execution time for 'complex_calculation': 0.001642 seconds\n",
      "Execution time for 'complex_calculation': 0.000000 seconds\n",
      "Execution time for 'complex_calculation': 0.001642 seconds\n",
      "Execution time for 'complex_calculation': 0.000000 seconds\n",
      "Execution time for 'complex_calculation': 0.001642 seconds\n",
      "Execution time for 'complex_calculation': 0.000000 seconds\n",
      "Execution time for 'complex_calculation': 0.001642 seconds\n",
      "Execution time for 'complex_calculation': 0.000000 seconds\n",
      "Execution time for 'complex_calculation': 0.001642 seconds\n",
      "Execution time for 'complex_calculation': 0.000000 seconds\n",
      "Execution time for 'complex_calculation': 0.001642 seconds\n",
      "Execution time for 'complex_calculation': 0.000000 seconds\n",
      "Execution time for 'complex_calculation': 0.001642 seconds\n",
      "Execution time for 'complex_calculation': 0.000000 seconds\n",
      "Execution time for 'complex_calculation': 0.001642 seconds\n",
      "Execution time for 'complex_calculation': 0.000000 seconds\n",
      "Execution time for 'complex_calculation': 0.001642 seconds\n",
      "Fibonacci of 30: 832040\n"
     ]
    }
   ],
   "source": [
    "import time\n",
    "\n",
    "# Timing decorator\n",
    "def timing_decorator(func):\n",
    "    def wrapper(*args, **kwargs):\n",
    "        start_time = time.time()\n",
    "        result = func(*args, **kwargs)  # Call the original function\n",
    "        end_time = time.time()\n",
    "        print(f\"Execution time for '{func.__name__}': {end_time - start_time:.6f} seconds\")\n",
    "        return result\n",
    "    return wrapper\n",
    "\n",
    "# Complex calculation: Fibonacci with memoization\n",
    "@timing_decorator\n",
    "def complex_calculation(n, memo=None):\n",
    "    if memo is None:\n",
    "        memo = {}\n",
    "    if n in memo:\n",
    "        return memo[n]\n",
    "    if n <= 1:\n",
    "        return n\n",
    "    memo[n] = complex_calculation(n-1, memo) + complex_calculation(n-2, memo)\n",
    "    return memo[n]\n",
    "\n",
    "# Test the decorated function with different inputs\n",
    "print(\"Fibonacci of 30:\", complex_calculation(30))\n",
    "\n"
   ]
  },
  {
   "cell_type": "code",
   "execution_count": 43,
   "id": "514f244a",
   "metadata": {},
   "outputs": [
    {
     "name": "stdout",
     "output_type": "stream",
     "text": [
      "4\n"
     ]
    }
   ],
   "source": [
    "def calculate_round(num,cap):\n",
    "    round = 0\n",
    "    while num > cap:\n",
    "        num = num - cap \n",
    "        round = round +1\n",
    "    if round!=0:\n",
    "        round = round +1\n",
    "    return round\n",
    "\n",
    "print(calculate_round(10,3))"
   ]
  },
  {
   "cell_type": "code",
   "execution_count": null,
   "id": "9af89a5c",
   "metadata": {},
   "outputs": [],
   "source": []
  }
 ],
 "metadata": {
  "kernelspec": {
   "display_name": "Python 3",
   "language": "python",
   "name": "python3"
  },
  "language_info": {
   "codemirror_mode": {
    "name": "ipython",
    "version": 3
   },
   "file_extension": ".py",
   "mimetype": "text/x-python",
   "name": "python",
   "nbconvert_exporter": "python",
   "pygments_lexer": "ipython3",
   "version": "3.10.0"
  }
 },
 "nbformat": 4,
 "nbformat_minor": 5
}
