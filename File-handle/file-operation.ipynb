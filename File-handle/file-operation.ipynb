{
 "cells": [
  {
   "cell_type": "code",
   "execution_count": 1,
   "id": "07685b65",
   "metadata": {},
   "outputs": [
    {
     "name": "stdout",
     "output_type": "stream",
     "text": [
      "Hi\n"
     ]
    }
   ],
   "source": [
    "print('Hi')"
   ]
  },
  {
   "cell_type": "code",
   "execution_count": 14,
   "id": "95a5339d",
   "metadata": {},
   "outputs": [
    {
     "name": "stdout",
     "output_type": "stream",
     "text": [
      "Hello World!\n",
      "This is a new lineAppend operation is taking place.Append operation is taking placeFirst line\n",
      "Second Line\n",
      "Third line\n",
      "\n"
     ]
    }
   ],
   "source": [
    "with open('example.txt','r') as file:\n",
    "    content = file.read()\n",
    "    print(content)\n"
   ]
  },
  {
   "cell_type": "code",
   "execution_count": 5,
   "id": "5b102c56",
   "metadata": {},
   "outputs": [
    {
     "name": "stdout",
     "output_type": "stream",
     "text": [
      "Hi How are you?\n",
      "I am good\n",
      "My name is Faisal Osman\n",
      "Welcome to the course\n"
     ]
    }
   ],
   "source": [
    "#Read file line by line\n",
    "with open('example.txt','r') as file:\n",
    "    for line in file:\n",
    "        print(line.strip()) #Remove the new line "
   ]
  },
  {
   "cell_type": "code",
   "execution_count": 6,
   "id": "a0c9ce7a",
   "metadata": {},
   "outputs": [],
   "source": [
    "#Wrting in a file (Overwriting)\n",
    "with open('example.txt','w') as file:\n",
    "    file.write('Hello World!\\n')\n",
    "    file.write('This is a new line')"
   ]
  },
  {
   "cell_type": "code",
   "execution_count": 8,
   "id": "01776008",
   "metadata": {},
   "outputs": [],
   "source": [
    "#Write in a file (without overwriting)\n",
    "with open('example.txt','a') as file:\n",
    "    file.write('.Append operation is taking place')\n"
   ]
  },
  {
   "cell_type": "code",
   "execution_count": 4,
   "id": "4c3df82f",
   "metadata": {},
   "outputs": [],
   "source": [
    "#Writing list of lines to a file\n",
    "lines =['First line\\n','Second Line\\n','Third line\\n']\n",
    "with open('example.txt','a') as file:\n",
    "    file.writelines(lines)\n"
   ]
  },
  {
   "cell_type": "code",
   "execution_count": 11,
   "id": "98c5b3d1",
   "metadata": {},
   "outputs": [],
   "source": [
    "data = b'\\x00\\x01\\x02\\x03\\x04'\n",
    "with open('example.bin','wb') as file:\n",
    "    file.write(data)"
   ]
  },
  {
   "cell_type": "code",
   "execution_count": 13,
   "id": "d381fc0b",
   "metadata": {},
   "outputs": [
    {
     "name": "stdout",
     "output_type": "stream",
     "text": [
      "b'\\x00\\x01\\x02\\x03\\x04'\n"
     ]
    }
   ],
   "source": [
    "#reading a binary file\n",
    "with open('example.bin','rb') as file:\n",
    "    content = file.read()\n",
    "    print(content)\n"
   ]
  },
  {
   "cell_type": "code",
   "execution_count": 15,
   "id": "e2dceb22",
   "metadata": {},
   "outputs": [],
   "source": [
    "#Read content from a source file and wirte to a destination file\n",
    "with open('example.txt','r') as source_file:\n",
    "    content = source_file.read()\n",
    "with open('destination.txt','w') as destination_file:\n",
    "    destination_file.write(content)"
   ]
  },
  {
   "cell_type": "code",
   "execution_count": 26,
   "id": "d375eaa4",
   "metadata": {},
   "outputs": [
    {
     "name": "stdout",
     "output_type": "stream",
     "text": [
      "Count line 4\n",
      "Count Word  15\n",
      "Count Character  56\n"
     ]
    }
   ],
   "source": [
    "#Read a text file and count numbers of lines ,words and characters\n",
    "with open('assignment1.txt','r') as file:\n",
    "    count_line = 0\n",
    "    count_word = 0\n",
    "    count_character = 0\n",
    "    special_characters = '@#.?*$!^%&'\n",
    "    for line in file:\n",
    "        count_line += 1\n",
    "        words_in_line = line.split()\n",
    "        count_word +=len(words_in_line)\n",
    "        for word in words_in_line:\n",
    "            clean_word = ''.join(ch for ch in word if ch not in special_characters)\n",
    "            count_character += len(clean_word)\n",
    "            \n",
    "    print('Count line '+str(count_line))\n",
    "    print('Count Word ',str(count_word))\n",
    "    print('Count Character ',str(count_character))\n",
    "\n",
    "\n",
    "\n",
    "\n"
   ]
  },
  {
   "cell_type": "code",
   "execution_count": 27,
   "id": "8ce0f42e",
   "metadata": {},
   "outputs": [
    {
     "name": "stdout",
     "output_type": "stream",
     "text": [
      "Lines: 4\n",
      "Words: 15\n",
      "Characters: 74\n"
     ]
    }
   ],
   "source": [
    "def count_file_stats(file_path):\n",
    "    count_lines = 0\n",
    "    count_words = 0\n",
    "    count_chars = 0\n",
    "\n",
    "    with open(file_path, 'r', encoding='utf-8') as file:\n",
    "        for line in file:\n",
    "            count_lines += 1\n",
    "            count_words += len(line.split())\n",
    "            count_chars += len(line)\n",
    "\n",
    "    return count_lines, count_words, count_chars\n",
    "\n",
    "# Example usage\n",
    "file_path = 'assignment1.txt'\n",
    "lines, words, characters = count_file_stats(file_path)\n",
    "\n",
    "print(\"Lines:\", lines)\n",
    "print(\"Words:\", words)\n",
    "print(\"Characters:\", characters)\n"
   ]
  },
  {
   "cell_type": "code",
   "execution_count": 28,
   "id": "f2795fd2",
   "metadata": {},
   "outputs": [
    {
     "name": "stdout",
     "output_type": "stream",
     "text": [
      "Hello World!\n",
      "Welcome to bangladesh\n",
      "\n"
     ]
    }
   ],
   "source": [
    "with open('example.txt','w+') as file:\n",
    "    file.write('Hello World!\\n')\n",
    "    file.write('Welcome to bangladesh\\n')\n",
    "    #Movie the cursor to begin \n",
    "    file.seek(0)\n",
    "    #Read the file\n",
    "    content = file.read()\n",
    "    print(content)"
   ]
  },
  {
   "cell_type": "code",
   "execution_count": 1,
   "id": "67946e75",
   "metadata": {},
   "outputs": [],
   "source": [
    "import os\n",
    "new_directory =\"package\"\n",
    "os.mkdir(new_directory)\n"
   ]
  },
  {
   "cell_type": "code",
   "execution_count": 2,
   "id": "3a0e7c16",
   "metadata": {},
   "outputs": [
    {
     "name": "stdout",
     "output_type": "stream",
     "text": [
      "['assignment1.txt', 'destination.txt', 'example.bin', 'example.txt', 'file-operation.ipynb', 'package']\n"
     ]
    }
   ],
   "source": [
    "items = os.listdir('.')\n",
    "print(items)"
   ]
  },
  {
   "cell_type": "code",
   "execution_count": 7,
   "id": "2d4a61d7",
   "metadata": {},
   "outputs": [
    {
     "name": "stdout",
     "output_type": "stream",
     "text": [
      "d:\\Data Science Krish Nayek\\Code2\\python\\File-handle\\folder\\file.txt\n"
     ]
    }
   ],
   "source": [
    "dir_name ='folder'\n",
    "file_name = 'file.txt'\n",
    "full_path = os.path.join(os.getcwd(),dir_name,file_name)\n",
    "print(full_path)"
   ]
  },
  {
   "cell_type": "code",
   "execution_count": 4,
   "id": "809d5ea1",
   "metadata": {},
   "outputs": [
    {
     "name": "stdout",
     "output_type": "stream",
     "text": [
      "The path example1.txt does not exist\n"
     ]
    }
   ],
   "source": [
    "path = 'example1.txt'\n",
    "if os.path.exists(path):\n",
    "    print(f\"The path {path} exists\")\n",
    "else:\n",
    "    print(f\"The path {path} does not exist\")"
   ]
  },
  {
   "cell_type": "code",
   "execution_count": 5,
   "id": "374e299a",
   "metadata": {},
   "outputs": [
    {
     "name": "stdout",
     "output_type": "stream",
     "text": [
      "The path 'example.txt' is a file\n"
     ]
    }
   ],
   "source": [
    "path ='example.txt'\n",
    "if os.path.isfile(path):\n",
    "    print(f\"The path '{path}' is a file\")\n",
    "elif os.path.isdir(path):\n",
    "    print(f\"The path '{path}' is a dir\")\n",
    "else:\n",
    "    print(f\"The path '{path}' is neither a folder or dir\")\n",
    "    "
   ]
  },
  {
   "cell_type": "code",
   "execution_count": 8,
   "id": "9c4914eb",
   "metadata": {},
   "outputs": [
    {
     "name": "stdout",
     "output_type": "stream",
     "text": [
      "d:\\Data Science Krish Nayek\\Code2\\python\\File-handle\\example.txt\n"
     ]
    }
   ],
   "source": [
    "relative_path = 'example.txt'\n",
    "absolute_path = os.path.abspath(relative_path)\n",
    "print(absolute_path)"
   ]
  },
  {
   "cell_type": "code",
   "execution_count": 2,
   "id": "80714256",
   "metadata": {},
   "outputs": [
    {
     "name": "stdout",
     "output_type": "stream",
     "text": [
      "Hello Faisal,\n",
      "How are you?\n",
      "Hope everything is okay.\n"
     ]
    }
   ],
   "source": [
    "with open('sample.txt','r') as file:\n",
    "    for line in file:\n",
    "        print(line.strip())"
   ]
  },
  {
   "cell_type": "code",
   "execution_count": 3,
   "id": "64c7f208",
   "metadata": {},
   "outputs": [],
   "source": [
    "with open('output.txt','w') as file:\n",
    "    file.write('Hello Amber!\\n')\n",
    "    file.write('How are you?\\n')"
   ]
  },
  {
   "cell_type": "code",
   "execution_count": 5,
   "id": "cdcbcc1b",
   "metadata": {},
   "outputs": [],
   "source": [
    "with open('source_file.txt','r') as source_file:\n",
    "    content = source_file.read()\n",
    "with open('destination_file.txt','w') as destination_file:\n",
    "    destination_file.write(content)"
   ]
  },
  {
   "cell_type": "code",
   "execution_count": 6,
   "id": "07502647",
   "metadata": {},
   "outputs": [],
   "source": [
    "with open('log.txt','a') as file:\n",
    "    file.write('Append operation is taking place')"
   ]
  },
  {
   "cell_type": "code",
   "execution_count": 7,
   "id": "54b23085",
   "metadata": {},
   "outputs": [],
   "source": [
    "data = b'\\x00\\x01\\x02\\x03\\x04'\n",
    "with open('image.bin','wb') as file:\n",
    "    file.write(data)"
   ]
  },
  {
   "cell_type": "code",
   "execution_count": 8,
   "id": "173f00a6",
   "metadata": {},
   "outputs": [],
   "source": [
    "with open('image.bin','rb') as source_file:\n",
    "    binary_data = source_file.read()\n",
    "with open('copy_image.bin', 'wb') as destination_file:\n",
    "    destination_file.write(binary_data)"
   ]
  },
  {
   "cell_type": "code",
   "execution_count": 11,
   "id": "b7c87598",
   "metadata": {},
   "outputs": [
    {
     "name": "stdout",
     "output_type": "stream",
     "text": [
      "[{'name': 'Alice', 'age': '25', 'city': 'New York'}, {'name': 'Bob', 'age': '30', 'city': 'Los Angeles'}, {'name': 'Charlie', 'age': '22', 'city': 'Chicago'}]\n"
     ]
    }
   ],
   "source": [
    "import csv\n",
    "with open('data.csv','r',newline='') as csv_file:\n",
    "    reader = csv.DictReader(csv_file)\n",
    "    data_list = [row for row in reader]\n",
    "print(data_list)"
   ]
  },
  {
   "cell_type": "code",
   "execution_count": 12,
   "id": "ecd9bf0e",
   "metadata": {},
   "outputs": [
    {
     "name": "stdout",
     "output_type": "stream",
     "text": [
      "{'name': 'Alice', 'age': 25, 'city': 'New York'}\n"
     ]
    }
   ],
   "source": [
    "import json\n",
    "with open('json_file.json','r') as file:\n",
    "    content = json.load(file)\n",
    "    print(content)"
   ]
  },
  {
   "cell_type": "code",
   "execution_count": 13,
   "id": "ffe98549",
   "metadata": {},
   "outputs": [
    {
     "name": "stdout",
     "output_type": "stream",
     "text": [
      "The variable has not been assigned\n"
     ]
    }
   ],
   "source": [
    "try:\n",
    "    a = b\n",
    "except:\n",
    "    print('The variable has not been assigned')"
   ]
  },
  {
   "cell_type": "code",
   "execution_count": 14,
   "id": "6a58a4d1",
   "metadata": {},
   "outputs": [
    {
     "name": "stdout",
     "output_type": "stream",
     "text": [
      "name 'b' is not defined\n"
     ]
    }
   ],
   "source": [
    "try:\n",
    "    a = b\n",
    "except NameError as ex:\n",
    "    print(ex)"
   ]
  },
  {
   "cell_type": "code",
   "execution_count": 16,
   "id": "b13e2d5b",
   "metadata": {},
   "outputs": [
    {
     "name": "stdout",
     "output_type": "stream",
     "text": [
      "division by zero\n"
     ]
    }
   ],
   "source": [
    "try:\n",
    "    1/0\n",
    "except ZeroDivisionError as ex:\n",
    "    print(ex)"
   ]
  },
  {
   "cell_type": "code",
   "execution_count": 17,
   "id": "da89203f",
   "metadata": {},
   "outputs": [
    {
     "name": "stdout",
     "output_type": "stream",
     "text": [
      "division by zero\n"
     ]
    }
   ],
   "source": [
    "try:\n",
    "    1/0\n",
    "except Exception as ex:\n",
    "    print(ex)"
   ]
  },
  {
   "cell_type": "code",
   "execution_count": null,
   "id": "aec026fd",
   "metadata": {},
   "outputs": [
    {
     "name": "stdout",
     "output_type": "stream",
     "text": [
      "The result is 1.0\n"
     ]
    }
   ],
   "source": [
    "#If the none of exception occur the else block gets executed\n",
    "try:\n",
    "    input_num = int(input('Enter a number'))\n",
    "    result = 10/input_num\n",
    "except ZeroDivisionError:\n",
    "    print(\"You can't divide by zero\")\n",
    "except ValueError:\n",
    "    print(\"That's not a valid number\")\n",
    "except Exception as ex:\n",
    "    print(ex)\n",
    "else:\n",
    "    print(f\"The result is {result}\")"
   ]
  },
  {
   "cell_type": "code",
   "execution_count": 20,
   "id": "f49df1c1",
   "metadata": {},
   "outputs": [
    {
     "name": "stdout",
     "output_type": "stream",
     "text": [
      "The result is 1.0\n",
      "Execution complete\n"
     ]
    }
   ],
   "source": [
    "try:\n",
    "    input_num = int(input('Enter a number'))\n",
    "    result = 10/input_num\n",
    "except ZeroDivisionError:\n",
    "    print(\"You can't divide by zero\")\n",
    "except ValueError:\n",
    "    print(\"That's not a valid number\")\n",
    "except Exception as ex:\n",
    "    print(ex)\n",
    "else:\n",
    "    print(f\"The result is {result}\")\n",
    "finally:\n",
    "    print('Execution complete')"
   ]
  },
  {
   "cell_type": "code",
   "execution_count": 23,
   "id": "babb1fdd",
   "metadata": {},
   "outputs": [
    {
     "name": "stdout",
     "output_type": "stream",
     "text": [
      "The file does not exists\n",
      "file close\n"
     ]
    }
   ],
   "source": [
    "try:\n",
    "    file = open('example11.txt','r')\n",
    "    content = file.read()\n",
    "except FileNotFoundError:\n",
    "    print('The file does not exists')\n",
    "finally:\n",
    "    if 'file' in locals() and not file.closed:\n",
    "        file.close()\n",
    "        print('file close')"
   ]
  },
  {
   "cell_type": "code",
   "execution_count": null,
   "id": "03cbc9c9",
   "metadata": {},
   "outputs": [
    {
     "name": "stdout",
     "output_type": "stream",
     "text": [
      "File not found\n"
     ]
    }
   ],
   "source": []
  },
  {
   "cell_type": "code",
   "execution_count": null,
   "id": "89dae013",
   "metadata": {},
   "outputs": [],
   "source": []
  }
 ],
 "metadata": {
  "kernelspec": {
   "display_name": "Python 3",
   "language": "python",
   "name": "python3"
  },
  "language_info": {
   "codemirror_mode": {
    "name": "ipython",
    "version": 3
   },
   "file_extension": ".py",
   "mimetype": "text/x-python",
   "name": "python",
   "nbconvert_exporter": "python",
   "pygments_lexer": "ipython3",
   "version": "3.10.0"
  }
 },
 "nbformat": 4,
 "nbformat_minor": 5
}
