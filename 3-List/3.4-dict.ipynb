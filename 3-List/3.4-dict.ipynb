{
 "cells": [
  {
   "cell_type": "code",
   "execution_count": 1,
   "id": "b14fdf73",
   "metadata": {},
   "outputs": [
    {
     "name": "stdout",
     "output_type": "stream",
     "text": [
      "{}\n"
     ]
    }
   ],
   "source": [
    "empty_dict = dict()\n",
    "print(empty_dict)"
   ]
  },
  {
   "cell_type": "code",
   "execution_count": 2,
   "id": "b682e440",
   "metadata": {},
   "outputs": [
    {
     "name": "stdout",
     "output_type": "stream",
     "text": [
      "{'name': 46, 'age': 32}\n"
     ]
    }
   ],
   "source": [
    "#Error\n",
    "student = {\n",
    "    'name':'Faisal',\n",
    "    'age':32,\n",
    "    'name':46\n",
    "}\n",
    "print(student)"
   ]
  },
  {
   "cell_type": "code",
   "execution_count": 3,
   "id": "6e35ba98",
   "metadata": {},
   "outputs": [
    {
     "name": "stdout",
     "output_type": "stream",
     "text": [
      "A\n"
     ]
    }
   ],
   "source": [
    "student = {\n",
    "    'name':'Faisal',\n",
    "    'age':32,\n",
    "    'grade':'A'\n",
    "}\n",
    "print(student['grade'])"
   ]
  },
  {
   "cell_type": "code",
   "execution_count": 4,
   "id": "54e0f3b0",
   "metadata": {},
   "outputs": [
    {
     "name": "stdout",
     "output_type": "stream",
     "text": [
      "32\n"
     ]
    }
   ],
   "source": [
    "#Using get method\n",
    "print(student.get('age'))"
   ]
  },
  {
   "cell_type": "code",
   "execution_count": 5,
   "id": "65077918",
   "metadata": {},
   "outputs": [
    {
     "name": "stdout",
     "output_type": "stream",
     "text": [
      "None\n"
     ]
    }
   ],
   "source": [
    "print(student.get('last_name'))"
   ]
  },
  {
   "cell_type": "code",
   "execution_count": 6,
   "id": "c1444041",
   "metadata": {},
   "outputs": [
    {
     "name": "stdout",
     "output_type": "stream",
     "text": [
      "Not Available\n"
     ]
    }
   ],
   "source": [
    "print(student.get('last_name','Not Available'))"
   ]
  },
  {
   "cell_type": "code",
   "execution_count": null,
   "id": "7563628b",
   "metadata": {},
   "outputs": [
    {
     "name": "stdout",
     "output_type": "stream",
     "text": [
      "{'name': 'Faisal', 'age': 32, 'grade': 'A', 'address': 'Bangladesh'}\n"
     ]
    }
   ],
   "source": [
    "#Modifying dictionary elements\n",
    "#Dictionaries are mutable\n",
    "student[\"address\"] = 'Bangladesh' ##addeed a new key and value\n",
    "print(student)"
   ]
  },
  {
   "cell_type": "code",
   "execution_count": 8,
   "id": "4399c4c5",
   "metadata": {},
   "outputs": [],
   "source": [
    "del student[\"address\"]"
   ]
  },
  {
   "cell_type": "code",
   "execution_count": 9,
   "id": "38364866",
   "metadata": {},
   "outputs": [
    {
     "data": {
      "text/plain": [
       "{'name': 'Faisal', 'age': 32, 'grade': 'A'}"
      ]
     },
     "execution_count": 9,
     "metadata": {},
     "output_type": "execute_result"
    }
   ],
   "source": [
    "student"
   ]
  },
  {
   "cell_type": "code",
   "execution_count": 10,
   "id": "e8c2b0b9",
   "metadata": {},
   "outputs": [
    {
     "name": "stdout",
     "output_type": "stream",
     "text": [
      "dict_keys(['name', 'age', 'grade'])\n",
      "dict_values(['Faisal', 32, 'A'])\n"
     ]
    }
   ],
   "source": [
    "## Dictionary methods\n",
    "keys = student.keys()\n",
    "print(keys)\n",
    "values = student.values()\n",
    "print(values)"
   ]
  },
  {
   "cell_type": "code",
   "execution_count": 11,
   "id": "34845241",
   "metadata": {},
   "outputs": [
    {
     "name": "stdout",
     "output_type": "stream",
     "text": [
      "dict_items([('name', 'Faisal'), ('age', 32), ('grade', 'A')])\n"
     ]
    }
   ],
   "source": [
    "itmes = student.items()\n",
    "print(itmes)"
   ]
  },
  {
   "cell_type": "code",
   "execution_count": 12,
   "id": "f73edeff",
   "metadata": {},
   "outputs": [
    {
     "data": {
      "text/plain": [
       "{'name': 'Faisal', 'age': 32, 'grade': 'A'}"
      ]
     },
     "execution_count": 12,
     "metadata": {},
     "output_type": "execute_result"
    }
   ],
   "source": [
    "#Shallow copy\n",
    "student"
   ]
  },
  {
   "cell_type": "code",
   "execution_count": 13,
   "id": "eaac6ee4",
   "metadata": {},
   "outputs": [],
   "source": [
    "student_copy = student"
   ]
  },
  {
   "cell_type": "code",
   "execution_count": 14,
   "id": "919c155e",
   "metadata": {},
   "outputs": [
    {
     "name": "stdout",
     "output_type": "stream",
     "text": [
      "{'name': 'Faisal', 'age': 32, 'grade': 'A'}\n",
      "{'name': 'Faisal', 'age': 32, 'grade': 'A'}\n"
     ]
    }
   ],
   "source": [
    "print(student_copy)\n",
    "print(student)"
   ]
  },
  {
   "cell_type": "code",
   "execution_count": 15,
   "id": "7446aff1",
   "metadata": {},
   "outputs": [
    {
     "name": "stdout",
     "output_type": "stream",
     "text": [
      "{'name': 'Krish2', 'age': 32, 'grade': 'A'}\n",
      "{'name': 'Krish2', 'age': 32, 'grade': 'A'}\n"
     ]
    }
   ],
   "source": [
    "student[\"name\"] = \"Krish2\"\n",
    "print(student)\n",
    "print(student_copy)"
   ]
  },
  {
   "cell_type": "code",
   "execution_count": 16,
   "id": "cfcb4ab0",
   "metadata": {},
   "outputs": [
    {
     "name": "stdout",
     "output_type": "stream",
     "text": [
      "{'name': 'Krish2', 'age': 32, 'grade': 'A'}\n",
      "{'name': 'Krish2', 'age': 32, 'grade': 'A'}\n"
     ]
    }
   ],
   "source": [
    "student_copy1 = student.copy()  # shallow copy \n",
    "print(student_copy1)\n",
    "print(student)"
   ]
  },
  {
   "cell_type": "code",
   "execution_count": 17,
   "id": "faed4702",
   "metadata": {},
   "outputs": [
    {
     "name": "stdout",
     "output_type": "stream",
     "text": [
      "{'name': 'Faisal', 'age': 32, 'grade': 'A'}\n",
      "{'name': 'Krish2', 'age': 32, 'grade': 'A'}\n"
     ]
    }
   ],
   "source": [
    "student_copy1['name'] = 'Faisal'\n",
    "print(student_copy1)\n",
    "print(student)"
   ]
  },
  {
   "cell_type": "code",
   "execution_count": 18,
   "id": "366e84b9",
   "metadata": {},
   "outputs": [
    {
     "name": "stdout",
     "output_type": "stream",
     "text": [
      "Krish2\n",
      "32\n",
      "A\n"
     ]
    }
   ],
   "source": [
    "for value in student.values():\n",
    "    print(value)"
   ]
  },
  {
   "cell_type": "code",
   "execution_count": 19,
   "id": "5dbfb87a",
   "metadata": {},
   "outputs": [
    {
     "name": "stdout",
     "output_type": "stream",
     "text": [
      "name: Krish2\n",
      "age: 32\n",
      "grade: A\n"
     ]
    }
   ],
   "source": [
    "for key,value in student.items():\n",
    "    print(f\"{key}: {value}\")"
   ]
  },
  {
   "cell_type": "code",
   "execution_count": 20,
   "id": "9691f04d",
   "metadata": {},
   "outputs": [
    {
     "name": "stdout",
     "output_type": "stream",
     "text": [
      "{'name': 'Krish2', 'age': 32, 'grade': 'A'}\n"
     ]
    }
   ],
   "source": [
    "studnets = {\n",
    "    \"student1\" : {\"name\":\"Faisal\",\"age\":65},\n",
    "    \"student2\" : {\"name\":\"Peter\",\"age\":35}\n",
    " }\n",
    "print(student)"
   ]
  },
  {
   "cell_type": "code",
   "execution_count": 21,
   "id": "969f60af",
   "metadata": {},
   "outputs": [
    {
     "name": "stdout",
     "output_type": "stream",
     "text": [
      "Peter\n"
     ]
    }
   ],
   "source": [
    "print(studnets[\"student2\"][\"name\"])"
   ]
  },
  {
   "cell_type": "code",
   "execution_count": 24,
   "id": "44a0f80f",
   "metadata": {},
   "outputs": [
    {
     "name": "stdout",
     "output_type": "stream",
     "text": [
      "student1 {'name': 'Faisal', 'age': 65}\n",
      "name A\n",
      "age A\n",
      "student2 {'name': 'Peter', 'age': 35}\n",
      "name A\n",
      "age A\n"
     ]
    }
   ],
   "source": [
    "for student_id,student_info in studnets.items():\n",
    "    print(f\"{student_id} {student_info}\")\n",
    "    for key,vale in student_info.items():\n",
    "        print(f\"{key} {value}\")"
   ]
  },
  {
   "cell_type": "code",
   "execution_count": 25,
   "id": "e185b27e",
   "metadata": {},
   "outputs": [
    {
     "name": "stdout",
     "output_type": "stream",
     "text": [
      "{0: 0, 1: 1, 2: 4, 3: 9, 4: 16}\n"
     ]
    }
   ],
   "source": [
    "#Dictionary Comhrehension\n",
    "squares = {x:x**2 for x in range(5)}\n",
    "print(squares)"
   ]
  },
  {
   "cell_type": "code",
   "execution_count": 26,
   "id": "d09e4c77",
   "metadata": {},
   "outputs": [
    {
     "name": "stdout",
     "output_type": "stream",
     "text": [
      "{0: 0, 2: 4, 4: 16, 6: 36, 8: 64}\n"
     ]
    }
   ],
   "source": [
    "evens = {x:x**2 for x in range(10) if x%2==0}\n",
    "print(evens)"
   ]
  },
  {
   "cell_type": "code",
   "execution_count": 30,
   "id": "eab342c1",
   "metadata": {},
   "outputs": [
    {
     "name": "stdout",
     "output_type": "stream",
     "text": [
      "{1: 1, 2: 2, 3: 3, 4: 4}\n"
     ]
    }
   ],
   "source": [
    "##Practical examples\n",
    "## Use a dictionary to count the frequescy of element in list \n",
    "count_dic ={}\n",
    "numbers =[1,2,2,3,3,3,4,4,4,4]\n",
    "for num in numbers:\n",
    "    if num in count_dic:\n",
    "        count_dic[num]+=1\n",
    "    else:\n",
    "        count_dic[num] = 1\n",
    "    \n",
    "print(count_dic)"
   ]
  },
  {
   "cell_type": "code",
   "execution_count": 31,
   "id": "f92e7f1c",
   "metadata": {},
   "outputs": [
    {
     "name": "stdout",
     "output_type": "stream",
     "text": [
      "{'a': 1, 'b': 3, 'c': 4}\n"
     ]
    }
   ],
   "source": [
    "#Merge two dict in one\n",
    "dict1 = {'a':1,\"b\":'2'}\n",
    "dict2 = {'b' : 3, 'c':4}\n",
    "merged_dict = {**dict1,**dict2}\n",
    "print(merged_dict)"
   ]
  },
  {
   "cell_type": "code",
   "execution_count": 3,
   "id": "1fc7c9d0",
   "metadata": {},
   "outputs": [
    {
     "name": "stdout",
     "output_type": "stream",
     "text": [
      "{0: 0, 1: 1, 2: 4, 3: 9, 4: 16, 5: 25, 6: 36, 7: 49, 8: 64, 9: 81, 10: 100}\n"
     ]
    }
   ],
   "source": [
    "positive_integers = {x:x for x in range(11)}\n",
    "squares_values = { i:i**2 for i in positive_integers}\n",
    "print(squares_values)"
   ]
  },
  {
   "cell_type": "code",
   "execution_count": 5,
   "id": "1609e067",
   "metadata": {},
   "outputs": [
    {
     "name": "stdout",
     "output_type": "stream",
     "text": [
      "25\n",
      "dict_keys([0, 1, 2, 3, 4, 5, 6, 7, 8, 9, 10])\n"
     ]
    }
   ],
   "source": [
    "value = squares_values[5]\n",
    "print(value)\n",
    "keys = squares_values.keys()\n",
    "print(keys)"
   ]
  },
  {
   "cell_type": "code",
   "execution_count": 7,
   "id": "783b5af5",
   "metadata": {},
   "outputs": [
    {
     "name": "stdout",
     "output_type": "stream",
     "text": [
      "{0: 0, 1: 1, 2: 4, 3: 9, 4: 16, 5: 25, 6: 36, 7: 49, 8: 64, 9: 81, 10: 100, 11: 121}\n",
      "1\n",
      "{0: 0, 2: 4, 3: 9, 4: 16, 5: 25, 6: 36, 7: 49, 8: 64, 9: 81, 10: 100, 11: 121}\n"
     ]
    }
   ],
   "source": [
    "squares_values[11] = 121\n",
    "print(squares_values)\n",
    "remove_item = squares_values.pop(1)\n",
    "print(remove_item)\n",
    "print(squares_values)"
   ]
  },
  {
   "cell_type": "code",
   "execution_count": 9,
   "id": "d1b63e9b",
   "metadata": {},
   "outputs": [
    {
     "name": "stdout",
     "output_type": "stream",
     "text": [
      "0: 0\n",
      "2: 4\n",
      "3: 9\n",
      "4: 16\n",
      "5: 25\n",
      "6: 36\n",
      "7: 49\n",
      "8: 64\n",
      "9: 81\n",
      "10: 100\n",
      "11: 121\n"
     ]
    }
   ],
   "source": [
    "for key,value in squares_values.items():\n",
    "    print(f\"{key}: {value}\")"
   ]
  },
  {
   "cell_type": "code",
   "execution_count": 10,
   "id": "12baf240",
   "metadata": {},
   "outputs": [
    {
     "name": "stdout",
     "output_type": "stream",
     "text": [
      "{1: 1, 2: 8, 3: 27, 4: 64, 5: 125, 6: 216, 7: 343, 8: 512, 9: 729, 10: 1000}\n"
     ]
    }
   ],
   "source": [
    "cube_values = { i: i**3 for i in range(1,11)}\n",
    "print(cube_values)"
   ]
  },
  {
   "cell_type": "code",
   "execution_count": 12,
   "id": "f5f068d9",
   "metadata": {},
   "outputs": [
    {
     "name": "stdout",
     "output_type": "stream",
     "text": [
      "{1: 1, 2: 4, 3: 9, 4: 16, 5: 25}\n",
      "{6: 36, 7: 49, 8: 64, 9: 81, 10: 100}\n",
      "{1: 1, 2: 4, 3: 9, 4: 16, 5: 25, 6: 36, 7: 49, 8: 64, 9: 81, 10: 100}\n"
     ]
    }
   ],
   "source": [
    "squares_1 = { x:x**2 for x in range(1,6)}\n",
    "print(squares_1)\n",
    "squares_2 = { x:x**2 for x in range(6,11)}\n",
    "print(squares_2)\n",
    "#Shallow copy\n",
    "merged_squares = squares_1.copy()\n",
    "merged_squares.update(squares_2)\n",
    "print(merged_squares)\n"
   ]
  },
  {
   "cell_type": "code",
   "execution_count": 13,
   "id": "8deff26f",
   "metadata": {},
   "outputs": [
    {
     "name": "stdout",
     "output_type": "stream",
     "text": [
      "{'name': 'Faisal', 'age': 27, 'grades': {'math': 'A', 'science': 'B+', 'english': 'C+'}}\n"
     ]
    }
   ],
   "source": [
    "student = {\n",
    "    'name':'Faisal',\n",
    "    'age': 27,\n",
    "    'grades':{\n",
    "        'math':'A',\n",
    "        'science':'B+',\n",
    "        'english':'C+'\n",
    "    }\n",
    "}\n",
    "print(student)"
   ]
  },
  {
   "cell_type": "code",
   "execution_count": 15,
   "id": "d45c8e92",
   "metadata": {},
   "outputs": [
    {
     "name": "stdout",
     "output_type": "stream",
     "text": [
      "{1: [1, 2, 3, 4, 5], 2: [2, 4, 6, 8, 10], 3: [3, 6, 9, 12, 15], 4: [4, 8, 12, 16, 20], 5: [5, 10, 15, 20, 25]}\n"
     ]
    }
   ],
   "source": [
    "# Creating the dictionary with first 5 multiples for each key\n",
    "multiples_dict = {i:[i*j for j in range(1,6)] for i in range(1,6)}\n",
    "\n",
    "# Printing the dictionary\n",
    "print(multiples_dict)"
   ]
  },
  {
   "cell_type": "code",
   "execution_count": 16,
   "id": "999c3f46",
   "metadata": {},
   "outputs": [
    {
     "name": "stdout",
     "output_type": "stream",
     "text": [
      "{1: (1, 1), 2: (2, 4), 3: (3, 9), 4: (4, 16), 5: (5, 25)}\n"
     ]
    }
   ],
   "source": [
    "res = { i : (i, i**2) for i in range(1,6) }\n",
    "print(res)"
   ]
  },
  {
   "cell_type": "code",
   "execution_count": 17,
   "id": "ab55581a",
   "metadata": {},
   "outputs": [
    {
     "name": "stdout",
     "output_type": "stream",
     "text": [
      "[(1, 1), (2, 4), (3, 9), (4, 16), (5, 25)]\n"
     ]
    }
   ],
   "source": [
    "squares_dict = {i: i**2 for i in range(1, 6)}\n",
    "# Converting the dictionary to a list of tuples\n",
    "squares_list = list(squares_dict.items())\n",
    "print(squares_list)"
   ]
  },
  {
   "cell_type": "code",
   "execution_count": 19,
   "id": "acddaf57",
   "metadata": {},
   "outputs": [
    {
     "name": "stdout",
     "output_type": "stream",
     "text": [
      "{1: 1, 2: 4, 3: 9, 4: 16, 5: 25, 6: 36, 7: 49, 8: 64, 9: 81, 10: 100}\n",
      "{2: 4, 4: 16, 6: 36, 8: 64, 10: 100}\n"
     ]
    }
   ],
   "source": [
    "square_dict = { x:x**2 for x in range(1,11)}\n",
    "print(square_dict)\n",
    "even_sq_dict = { x:x**2 for x in range(1,11) if x%2==0}\n",
    "print(even_sq_dict)"
   ]
  },
  {
   "cell_type": "code",
   "execution_count": 20,
   "id": "7ea49e68",
   "metadata": {},
   "outputs": [
    {
     "name": "stdout",
     "output_type": "stream",
     "text": [
      "{1: 1, 4: 2, 9: 3, 16: 4, 25: 5}\n"
     ]
    }
   ],
   "source": [
    "# Creating the dictionary with first 5 integers and their squares\n",
    "squares_dict = {i: i**2 for i in range(1, 6)}\n",
    "\n",
    "# Swapping the keys and values\n",
    "swapped_dict = {v: k for k, v in squares_dict.items()}\n",
    "\n",
    "# Printing the new dictionary\n",
    "print(swapped_dict)"
   ]
  },
  {
   "cell_type": "code",
   "execution_count": 22,
   "id": "effac17d",
   "metadata": {},
   "outputs": [
    {
     "name": "stdout",
     "output_type": "stream",
     "text": [
      "defaultdict(<class 'list'>, {})\n",
      "defaultdict(<class 'list'>, {1: ['apple'], 2: ['banana', 'orange'], 3: ['grapes']})\n"
     ]
    }
   ],
   "source": [
    "from collections import defaultdict\n",
    "\n",
    "# Creating a defaultdict with a default value of an empty list\n",
    "default_dict = defaultdict(list)\n",
    "print(default_dict)\n",
    "default_dict[1].append('apple')\n",
    "default_dict[2].append('banana')\n",
    "default_dict[2].append('orange')\n",
    "default_dict[3].append('grapes')\n",
    "\n",
    "# Printing the dictionary\n",
    "print(default_dict)"
   ]
  },
  {
   "cell_type": "code",
   "execution_count": 23,
   "id": "4558dae3",
   "metadata": {},
   "outputs": [
    {
     "name": "stdout",
     "output_type": "stream",
     "text": [
      "{'h': 1, 'e': 1, 'l': 3, 'o': 2, ' ': 1, 'w': 1, 'r': 1, 'd': 1}\n"
     ]
    }
   ],
   "source": [
    "def count_characters(input):\n",
    "    char_count = {\n",
    "\n",
    "    }\n",
    "    for s in input:\n",
    "        if s in char_count:\n",
    "            char_count[s]+= 1\n",
    "        else:\n",
    "            char_count[s]= 1\n",
    "    return char_count\n",
    "# Example string\n",
    "input_string = \"hello world\"\n",
    "# Get the character count dictionary\n",
    "result = count_characters(input_string)\n",
    "print(result)"
   ]
  },
  {
   "cell_type": "code",
   "execution_count": 24,
   "id": "e8ded072",
   "metadata": {},
   "outputs": [
    {
     "name": "stdout",
     "output_type": "stream",
     "text": [
      "{\"title\": \"To Kill a Mockingbird\", \"author\": \"Harper Lee\", \"year\": 1960, \"genre\": \"Fiction\"}\n"
     ]
    }
   ],
   "source": [
    "import json\n",
    "\n",
    "# Creating the dictionary representing the book\n",
    "book = {\n",
    "    'title': 'To Kill a Mockingbird',\n",
    "    'author': 'Harper Lee',\n",
    "    'year': 1960,\n",
    "    'genre': 'Fiction'\n",
    "}\n",
    "\n",
    "# Converting the dictionary to a JSON string\n",
    "book_json = json.dumps(book)\n",
    "\n",
    "# Printing the JSON string\n",
    "print(book_json)"
   ]
  },
  {
   "cell_type": "code",
   "execution_count": null,
   "id": "8f2526d0",
   "metadata": {},
   "outputs": [],
   "source": []
  }
 ],
 "metadata": {
  "kernelspec": {
   "display_name": "Python 3",
   "language": "python",
   "name": "python3"
  },
  "language_info": {
   "codemirror_mode": {
    "name": "ipython",
    "version": 3
   },
   "file_extension": ".py",
   "mimetype": "text/x-python",
   "name": "python",
   "nbconvert_exporter": "python",
   "pygments_lexer": "ipython3",
   "version": "3.10.0"
  }
 },
 "nbformat": 4,
 "nbformat_minor": 5
}
