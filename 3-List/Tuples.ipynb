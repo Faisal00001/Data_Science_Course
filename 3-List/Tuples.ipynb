{
 "cells": [
  {
   "cell_type": "code",
   "execution_count": 4,
   "id": "3085cb77",
   "metadata": {},
   "outputs": [
    {
     "name": "stdout",
     "output_type": "stream",
     "text": [
      "<class 'tuple'>\n"
     ]
    }
   ],
   "source": [
    "empty_tuple = ()\n",
    "print(type(empty_tuple))"
   ]
  },
  {
   "cell_type": "code",
   "execution_count": 2,
   "id": "28082b71",
   "metadata": {},
   "outputs": [
    {
     "name": "stdout",
     "output_type": "stream",
     "text": [
      "<class 'list'>\n",
      "<class 'tuple'>\n"
     ]
    }
   ],
   "source": [
    "lst = list()\n",
    "print(type(lst))\n",
    "tpl = tuple()\n",
    "print(type(tpl))"
   ]
  },
  {
   "cell_type": "code",
   "execution_count": 5,
   "id": "57048235",
   "metadata": {},
   "outputs": [
    {
     "data": {
      "text/plain": [
       "(1, 2, 4, 5, 6)"
      ]
     },
     "execution_count": 5,
     "metadata": {},
     "output_type": "execute_result"
    }
   ],
   "source": [
    "numbers = tuple([1,2,4,5,6])\n",
    "numbers"
   ]
  },
  {
   "cell_type": "code",
   "execution_count": 6,
   "id": "60ae684a",
   "metadata": {},
   "outputs": [
    {
     "data": {
      "text/plain": [
       "[1, 2, 3, 4, 5]"
      ]
     },
     "execution_count": 6,
     "metadata": {},
     "output_type": "execute_result"
    }
   ],
   "source": [
    "list((1,2,3,4,5))"
   ]
  },
  {
   "cell_type": "code",
   "execution_count": 7,
   "id": "9181ce87",
   "metadata": {},
   "outputs": [
    {
     "data": {
      "text/plain": [
       "(1, 2, 4, 5, 6)"
      ]
     },
     "execution_count": 7,
     "metadata": {},
     "output_type": "execute_result"
    }
   ],
   "source": [
    "numbers"
   ]
  },
  {
   "cell_type": "code",
   "execution_count": 8,
   "id": "aed42658",
   "metadata": {},
   "outputs": [
    {
     "data": {
      "text/plain": [
       "6"
      ]
     },
     "execution_count": 8,
     "metadata": {},
     "output_type": "execute_result"
    }
   ],
   "source": [
    "numbers[-1]"
   ]
  },
  {
   "cell_type": "code",
   "execution_count": 9,
   "id": "f4e85faf",
   "metadata": {},
   "outputs": [
    {
     "data": {
      "text/plain": [
       "(1, 2, 4, 5)"
      ]
     },
     "execution_count": 9,
     "metadata": {},
     "output_type": "execute_result"
    }
   ],
   "source": [
    "numbers[0:4]"
   ]
  },
  {
   "cell_type": "code",
   "execution_count": 10,
   "id": "e4883cb7",
   "metadata": {},
   "outputs": [
    {
     "data": {
      "text/plain": [
       "(1, 2, 4, 5, 6)"
      ]
     },
     "execution_count": 10,
     "metadata": {},
     "output_type": "execute_result"
    }
   ],
   "source": [
    "numbers"
   ]
  },
  {
   "cell_type": "code",
   "execution_count": 13,
   "id": "faf67afa",
   "metadata": {},
   "outputs": [],
   "source": [
    "mixed_tuple = ('Faisal',1,True)"
   ]
  },
  {
   "cell_type": "code",
   "execution_count": 14,
   "id": "dc561b7a",
   "metadata": {},
   "outputs": [
    {
     "name": "stdout",
     "output_type": "stream",
     "text": [
      "('Faisal', 1, True)\n"
     ]
    }
   ],
   "source": [
    "print(mixed_tuple)"
   ]
  },
  {
   "cell_type": "code",
   "execution_count": 15,
   "id": "2214515b",
   "metadata": {},
   "outputs": [
    {
     "name": "stdout",
     "output_type": "stream",
     "text": [
      "(1, 2, 4, 5, 6, 'Faisal', 1, True)\n"
     ]
    }
   ],
   "source": [
    "#Tuple operation\n",
    "concat_tuple = numbers + mixed_tuple\n",
    "print(concat_tuple)"
   ]
  },
  {
   "cell_type": "code",
   "execution_count": 16,
   "id": "6d4aea9d",
   "metadata": {},
   "outputs": [
    {
     "data": {
      "text/plain": [
       "('Faisal', 1, True, 'Faisal', 1, True, 'Faisal', 1, True)"
      ]
     },
     "execution_count": 16,
     "metadata": {},
     "output_type": "execute_result"
    }
   ],
   "source": [
    "mixed_tuple*3"
   ]
  },
  {
   "cell_type": "code",
   "execution_count": 17,
   "id": "2478882f",
   "metadata": {},
   "outputs": [],
   "source": [
    "#Immutable nature of tuples"
   ]
  },
  {
   "cell_type": "code",
   "execution_count": 18,
   "id": "82f9c989",
   "metadata": {},
   "outputs": [
    {
     "data": {
      "text/plain": [
       "(1, 2, 4, 5, 6)"
      ]
     },
     "execution_count": 18,
     "metadata": {},
     "output_type": "execute_result"
    }
   ],
   "source": [
    "#Tuple methods\n",
    "numbers"
   ]
  },
  {
   "cell_type": "code",
   "execution_count": 19,
   "id": "b224fa7b",
   "metadata": {},
   "outputs": [
    {
     "name": "stdout",
     "output_type": "stream",
     "text": [
      "1\n"
     ]
    }
   ],
   "source": [
    "print(numbers.count(1))"
   ]
  },
  {
   "cell_type": "code",
   "execution_count": 23,
   "id": "61a66a3d",
   "metadata": {},
   "outputs": [
    {
     "name": "stdout",
     "output_type": "stream",
     "text": [
      "3\n"
     ]
    }
   ],
   "source": [
    "print(numbers.index(5))"
   ]
  },
  {
   "cell_type": "code",
   "execution_count": 22,
   "id": "cb97414c",
   "metadata": {},
   "outputs": [
    {
     "data": {
      "text/plain": [
       "(1, 2, 4, 5, 6)"
      ]
     },
     "execution_count": 22,
     "metadata": {},
     "output_type": "execute_result"
    }
   ],
   "source": [
    "numbers"
   ]
  },
  {
   "cell_type": "code",
   "execution_count": null,
   "id": "d98df56d",
   "metadata": {},
   "outputs": [
    {
     "name": "stdout",
     "output_type": "stream",
     "text": [
      "(1, 'hello', 3.14)\n"
     ]
    }
   ],
   "source": [
    "#Packing and unpacking tuple\n",
    "#Packing\n",
    "packed_tuple = 1,\"hello\",3.14\n",
    "print(packed_tuple)"
   ]
  },
  {
   "cell_type": "code",
   "execution_count": 25,
   "id": "9f5886f1",
   "metadata": {},
   "outputs": [
    {
     "name": "stdout",
     "output_type": "stream",
     "text": [
      "1\n",
      "hello\n",
      "3.14\n"
     ]
    }
   ],
   "source": [
    "#unpacking tuple\n",
    "a,b,c = packed_tuple\n",
    "print(a)\n",
    "print(b)\n",
    "print(c)"
   ]
  },
  {
   "cell_type": "code",
   "execution_count": 26,
   "id": "216d02cc",
   "metadata": {},
   "outputs": [
    {
     "name": "stdout",
     "output_type": "stream",
     "text": [
      "1\n",
      "[2, 3, 4, 5]\n",
      "6\n"
     ]
    }
   ],
   "source": [
    "#UNPACKING WITH *\n",
    "numbers = (1,2,3,4,5,6)\n",
    "first,*middle,last = numbers\n",
    "print(first)\n",
    "print(middle)\n",
    "print(last)"
   ]
  },
  {
   "cell_type": "code",
   "execution_count": 27,
   "id": "dedb27bb",
   "metadata": {},
   "outputs": [
    {
     "name": "stdout",
     "output_type": "stream",
     "text": [
      "[[1, 2, 3, 4], [6, 7, 8, 9], [1, 'Hello', 3, 14, 'c']]\n"
     ]
    }
   ],
   "source": [
    "#Nested list\n",
    "lst =[[1,2,3,4],[6,7,8,9],[1,'Hello',3,14,\"c\"]]\n",
    "print(lst)"
   ]
  },
  {
   "cell_type": "code",
   "execution_count": 28,
   "id": "558edf96",
   "metadata": {},
   "outputs": [
    {
     "data": {
      "text/plain": [
       "[1, 2, 3, 4]"
      ]
     },
     "execution_count": 28,
     "metadata": {},
     "output_type": "execute_result"
    }
   ],
   "source": [
    "lst[0]"
   ]
  },
  {
   "cell_type": "code",
   "execution_count": 29,
   "id": "07cb91b2",
   "metadata": {},
   "outputs": [
    {
     "data": {
      "text/plain": [
       "2"
      ]
     },
     "execution_count": 29,
     "metadata": {},
     "output_type": "execute_result"
    }
   ],
   "source": [
    "lst[0][1]"
   ]
  },
  {
   "cell_type": "code",
   "execution_count": 31,
   "id": "00ef3e54",
   "metadata": {},
   "outputs": [
    {
     "data": {
      "text/plain": [
       "[1, 2, 3]"
      ]
     },
     "execution_count": 31,
     "metadata": {},
     "output_type": "execute_result"
    }
   ],
   "source": [
    "lst[0][0:3]"
   ]
  },
  {
   "cell_type": "code",
   "execution_count": 32,
   "id": "8b2cd19d",
   "metadata": {},
   "outputs": [],
   "source": [
    "lst_tuple =[[1,2,3,4],[6,7,8,9],(1,'Hello',3,14,\"c\")]"
   ]
  },
  {
   "cell_type": "code",
   "execution_count": 33,
   "id": "750c5234",
   "metadata": {},
   "outputs": [
    {
     "data": {
      "text/plain": [
       "(1, 'Hello', 3)"
      ]
     },
     "execution_count": 33,
     "metadata": {},
     "output_type": "execute_result"
    }
   ],
   "source": [
    "lst_tuple[2][0:3]"
   ]
  },
  {
   "cell_type": "code",
   "execution_count": 34,
   "id": "73e1fb42",
   "metadata": {},
   "outputs": [
    {
     "name": "stdout",
     "output_type": "stream",
     "text": [
      "(True, False)\n"
     ]
    }
   ],
   "source": [
    "#nested tuple\n",
    "nested_tuple = ((1,2,4),('a','b','c'),(True,False))\n",
    "print(nested_tuple[2])"
   ]
  },
  {
   "cell_type": "code",
   "execution_count": 35,
   "id": "79ddefac",
   "metadata": {},
   "outputs": [
    {
     "name": "stdout",
     "output_type": "stream",
     "text": [
      "c\n"
     ]
    }
   ],
   "source": [
    "print(nested_tuple[1][2])"
   ]
  },
  {
   "cell_type": "code",
   "execution_count": 36,
   "id": "481d6b03",
   "metadata": {},
   "outputs": [
    {
     "name": "stdout",
     "output_type": "stream",
     "text": [
      "1 2 4 \n",
      "a b c \n",
      "True False \n"
     ]
    }
   ],
   "source": [
    "for sub_tuple in nested_tuple:\n",
    "    for item in sub_tuple:\n",
    "        print(item, end=\" \")\n",
    "    print()"
   ]
  },
  {
   "cell_type": "code",
   "execution_count": 37,
   "id": "caa72e1a",
   "metadata": {},
   "outputs": [
    {
     "name": "stdout",
     "output_type": "stream",
     "text": [
      "(1, 2, 3, 4, 5, 6, 7, 8, 9, 10)\n"
     ]
    }
   ],
   "source": [
    "#Create a tuple with the first 10 positive integers. Print the tuple.\n",
    "positive_number = (1,2,3,4,5,6,7,8,9,10)\n",
    "print(positive_number)"
   ]
  },
  {
   "cell_type": "code",
   "execution_count": 40,
   "id": "66c37c97",
   "metadata": {},
   "outputs": [
    {
     "name": "stdout",
     "output_type": "stream",
     "text": [
      "1\n"
     ]
    }
   ],
   "source": [
    "#Print the first, middle, and last elements of the tuple created in Assignment 1.\n",
    "first_num = positive_number[0]\n",
    "print(first_num)"
   ]
  },
  {
   "cell_type": "code",
   "execution_count": 42,
   "id": "b1d8546a",
   "metadata": {},
   "outputs": [
    {
     "name": "stdout",
     "output_type": "stream",
     "text": [
      "6\n"
     ]
    }
   ],
   "source": [
    "middle = positive_number[len(positive_number)//2]\n",
    "print(middle)"
   ]
  },
  {
   "cell_type": "code",
   "execution_count": 43,
   "id": "4e490a63",
   "metadata": {},
   "outputs": [
    {
     "name": "stdout",
     "output_type": "stream",
     "text": [
      "10\n"
     ]
    }
   ],
   "source": [
    "last = positive_number[-1]\n",
    "print(last)"
   ]
  },
  {
   "cell_type": "code",
   "execution_count": 1,
   "id": "60066a7b",
   "metadata": {},
   "outputs": [
    {
     "name": "stdout",
     "output_type": "stream",
     "text": [
      "First three elements: (10, 20, 30)\n",
      "Last three elements: (60, 70, 80)\n",
      "Elements from index 2 to 5: (30, 40, 50)\n"
     ]
    }
   ],
   "source": [
    "my_tuple = (10, 20, 30, 40, 50, 60, 70, 80)\n",
    "\n",
    "print(\"First three elements:\", my_tuple[:3])\n",
    "print(\"Last three elements:\", my_tuple[-3:])\n",
    "print(\"Elements from index 2 to 5:\", my_tuple[2:5])"
   ]
  },
  {
   "cell_type": "code",
   "execution_count": 3,
   "id": "74c50b5b",
   "metadata": {},
   "outputs": [
    {
     "name": "stdout",
     "output_type": "stream",
     "text": [
      "([1, 2, 3], [4, 5, 6], [7, 8, 9])\n",
      "6\n"
     ]
    }
   ],
   "source": [
    "# \n",
    "my_tuple_matrix = (\n",
    "    [1,2,3],\n",
    "    [4,5,6],\n",
    "    [7,8,9]\n",
    ")\n",
    "print(my_tuple_matrix)\n",
    "print(my_tuple_matrix[1][2])"
   ]
  },
  {
   "cell_type": "code",
   "execution_count": 4,
   "id": "ceb6bc84",
   "metadata": {},
   "outputs": [
    {
     "name": "stdout",
     "output_type": "stream",
     "text": [
      "(1, 2, 3, 4, 5, 6)\n"
     ]
    }
   ],
   "source": [
    "#Concat\n",
    "tuple_1 = (1,2,3)\n",
    "tuple_2 = (4,5,6)\n",
    "combine_tuple = tuple_1 + tuple_2\n",
    "print(combine_tuple)"
   ]
  },
  {
   "cell_type": "code",
   "execution_count": 7,
   "id": "8caa272c",
   "metadata": {},
   "outputs": [
    {
     "name": "stdout",
     "output_type": "stream",
     "text": [
      "2\n",
      "1\n"
     ]
    }
   ],
   "source": [
    "my_tuple = (1,2,2,4,6,6)\n",
    "print(my_tuple.count(2))\n",
    "print(my_tuple.index(2))"
   ]
  },
  {
   "cell_type": "code",
   "execution_count": 9,
   "id": "aad9f798",
   "metadata": {},
   "outputs": [
    {
     "name": "stdout",
     "output_type": "stream",
     "text": [
      "(1, 2, 3, 4, 5, 6, 7)\n",
      "1\n",
      "[2, 3, 4, 5, 6]\n",
      "7\n"
     ]
    }
   ],
   "source": [
    "#Packing\n",
    "my_tuple = 1,2,3,4,5,6,7\n",
    "print(my_tuple)\n",
    "#Unpacking\n",
    "first,*middle,last = my_tuple\n",
    "print(first)\n",
    "print(middle)\n",
    "print(last)"
   ]
  },
  {
   "cell_type": "code",
   "execution_count": 10,
   "id": "a7859bbb",
   "metadata": {},
   "outputs": [
    {
     "name": "stdout",
     "output_type": "stream",
     "text": [
      "(1, 2, 34, 4, 5)\n"
     ]
    }
   ],
   "source": [
    "convert_tuple = tuple([1,2,34,4,5])\n",
    "print(convert_tuple)"
   ]
  },
  {
   "cell_type": "code",
   "execution_count": 11,
   "id": "249e28d4",
   "metadata": {},
   "outputs": [
    {
     "name": "stdout",
     "output_type": "stream",
     "text": [
      "((1, 2, 3), (4, 5, 6), (7, 8, 9))\n"
     ]
    }
   ],
   "source": [
    "# Create a tuple containing 3 tuples, each with 3 elements\n",
    "tuple_of_tuples = ((1, 2, 3), (4, 5, 6), (7, 8, 9))\n",
    "\n",
    "# Print the tuple of tuples\n",
    "print(tuple_of_tuples)"
   ]
  },
  {
   "cell_type": "code",
   "execution_count": 16,
   "id": "5be8fa2f",
   "metadata": {},
   "outputs": [
    {
     "name": "stdout",
     "output_type": "stream",
     "text": [
      "(1, 2, 3, 4, 5)\n",
      "[1, 2, 3, 4, 5]\n",
      "(1, 2, 3, 4, 5, 6)\n"
     ]
    }
   ],
   "source": [
    "my_tuple = (1,2,3,4,5)\n",
    "print(my_tuple)\n",
    "convert_list = list(my_tuple)\n",
    "print(convert_list)\n",
    "convert_list.append(6)\n",
    "convert_tuple = tuple(convert_list)\n",
    "print(convert_tuple)"
   ]
  },
  {
   "cell_type": "code",
   "execution_count": 20,
   "id": "81fa4283",
   "metadata": {},
   "outputs": [
    {
     "name": "stdout",
     "output_type": "stream",
     "text": [
      "123456789\n"
     ]
    }
   ],
   "source": [
    "# Create a tuple containing 3 tuples, each with 3 elements\n",
    "tuple_of_tuples = ((1, 2, 3), (4, 5, 6), (7, 8, 9))\n",
    "joined_tuple = ''.join(str(item) for sub_tuple in tuple_of_tuples for item in sub_tuple)\n",
    "print(joined_tuple)"
   ]
  },
  {
   "cell_type": "code",
   "execution_count": 21,
   "id": "b5dcc7ae",
   "metadata": {},
   "outputs": [
    {
     "name": "stdout",
     "output_type": "stream",
     "text": [
      "1 2 4 \n",
      "5 6 7 \n",
      "8 9 10 \n"
     ]
    }
   ],
   "source": [
    "nested_tuple = (\n",
    "    [1,2,4],\n",
    "    [5,6,7],\n",
    "    [8,9,10]\n",
    ")\n",
    "for sub_tuple in nested_tuple:\n",
    "    for item in sub_tuple:\n",
    "        print(item, end=\" \")\n",
    "    print()"
   ]
  },
  {
   "cell_type": "code",
   "execution_count": 24,
   "id": "9c1ae8af",
   "metadata": {},
   "outputs": [
    {
     "name": "stdout",
     "output_type": "stream",
     "text": [
      "(1, 2, 34, 4, 5, 6, 7)\n"
     ]
    }
   ],
   "source": [
    "duplicate_tuple =(1,2,34,4,5,5,4,6,7,6)\n",
    "remove_duplicate = tuple(set(duplicate_tuple))\n",
    "print(remove_duplicate)"
   ]
  },
  {
   "cell_type": "code",
   "execution_count": 28,
   "id": "5bed02ea",
   "metadata": {},
   "outputs": [
    {
     "name": "stdout",
     "output_type": "stream",
     "text": [
      "({'max': 100}, {'min': 1}, {'sum': 121})\n"
     ]
    }
   ],
   "source": [
    "def calculate(my_tuple):\n",
    "    min = my_tuple[0]\n",
    "    max = my_tuple[0]\n",
    "    sum = 0\n",
    "    for item in my_tuple:\n",
    "        if(item > max):\n",
    "            max = item\n",
    "        elif(item < min):\n",
    "            min = item\n",
    "        sum = sum + item\n",
    "    res = (\n",
    "        {\"max\" : max}, {\"min\" :min},{\"sum\": sum}\n",
    "    )\n",
    "    return res\n",
    "\n",
    "my_tuple = (6,2,3,4,5,100,1)\n",
    "print(calculate(my_tuple))"
   ]
  },
  {
   "cell_type": "code",
   "execution_count": null,
   "id": "d7a4e74c",
   "metadata": {},
   "outputs": [],
   "source": []
  }
 ],
 "metadata": {
  "kernelspec": {
   "display_name": "Python 3",
   "language": "python",
   "name": "python3"
  },
  "language_info": {
   "codemirror_mode": {
    "name": "ipython",
    "version": 3
   },
   "file_extension": ".py",
   "mimetype": "text/x-python",
   "name": "python",
   "nbconvert_exporter": "python",
   "pygments_lexer": "ipython3",
   "version": "3.10.0"
  }
 },
 "nbformat": 4,
 "nbformat_minor": 5
}
